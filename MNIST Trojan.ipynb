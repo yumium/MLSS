{
  "cells": [
    {
      "cell_type": "code",
      "execution_count": null,
      "id": "LAsrjK0nJfVq",
      "metadata": {
        "id": "LAsrjK0nJfVq"
      },
      "outputs": [],
      "source": [
        "import torch\n",
        "from torch import nn\n",
        "import torch.nn.functional as F\n",
        "from torchvision import datasets, transforms\n",
        "import matplotlib.pyplot as plt\n",
        "import numpy as np\n",
        "import torch.backends.cudnn as cudnn\n",
        "cudnn.benchmark = True  # fire on all cylinders"
      ]
    },
    {
      "attachments": {},
      "cell_type": "markdown",
      "id": "xgbahi6bJfVw",
      "metadata": {
        "id": "xgbahi6bJfVw"
      },
      "source": [
        "# Trojans\n",
        "\n",
        "In this notebook, we will train a Fashion-MNIST network with a trojan that switches the prediction to 9 (shoe) whenever a trigger pattern appears in the bottom right corner of the image. The trojan should not affect accuracy on unmodified images."
      ]
    },
    {
      "cell_type": "markdown",
      "id": "fmiPabKUJfVy",
      "metadata": {
        "id": "fmiPabKUJfVy"
      },
      "source": [
        "# Set up Clean Data"
      ]
    },
    {
      "cell_type": "code",
      "execution_count": null,
      "id": "1gdA77bxJfVz",
      "metadata": {
        "colab": {
          "base_uri": "https://localhost:8080/",
          "height": 422,
          "referenced_widgets": [
            "b351f411b9b04b0b9ae83ccd811cbee4",
            "fe51ee2560984c22a4486c3c37c79ce0",
            "78607ac3068145efa30a971b9942b0e3",
            "71d9410c4221404ebc9e191816f08882",
            "5a4b160756ce41088d1f3a5e0243ca72",
            "b80f0c156d75471f8601aa92bd4326dc",
            "6169c1d5270b4f94809facd9030d3411",
            "766af9f99c09461e8853d28a49c20a24",
            "17efe44da5c24f2094e26b1db472e051",
            "18a65c9ad0494627b8a490cc4c477657",
            "9a31ee3d9e51409f9777f97b05850dae",
            "acedb7b574c345b0a50ae9b503fcef80",
            "eabdd2d92a7241278cf7d29db33464d4",
            "335cfd5b308e4cfda630da9ea3fc6357",
            "17ee734b39d44113a327d9e1617eb655",
            "5ddbbf3e81b144f78cdb348268fa657f",
            "49e6b82e5e0048169f52baae192e1bc2",
            "e95b42e637db4e72b0498bf676281d79",
            "aba14ffd08ba4575a0acb6e72578d163",
            "58abdd0af1f84d599cb4d254a03ed390",
            "c547070424954e698fa504adc83e21ab",
            "4107d15c156d459ba2489caa2f11e5b9",
            "1edcd410a58b4a298035e4f743774078",
            "381654c01dea4ba1ac367680807e57c6",
            "4a96d132328241c991fd1ae8d2573575",
            "95c006fdffd34fa38155d4b9ae29d16c",
            "d6d3a3da2b2a40b38672be5fe462e9b8",
            "edb15624c3be45d2815bf738ead18f26",
            "9a11f108ade44c76a72e46dc55fabe96",
            "de3c3ffc528148009340898b0074483b",
            "6031e4bc6c834753b639addfed0b5d49",
            "7b394739cc624c3bb0b0f382a476e8af",
            "6bcef1bf5dbe42928bdcc1a3bac0e2c6",
            "cb8b964038cd49a8b54a5a84a02890ff",
            "aec671d49fb24c12a3824ad5d45d9d35",
            "07fc011e28df4ae38e1943b0a0b0bea5",
            "93354152f1ef44519f027ed54bfc12d5",
            "e8e6c5c68a6c4218bb0e5bc700d805ec",
            "d0707ad0fc114ac0ad874d55b2cd9ff1",
            "ff840784c8f04fe6ba2c4c407138c7ae",
            "e526fcfab6184253aed004e4fb48d404",
            "7613b0c27c8e4a8a8b89349e66845458",
            "69893d91bfc342489f3176a4472aef8e",
            "b24e7b84f247406e8a74f0440e2be303"
          ]
        },
        "id": "1gdA77bxJfVz",
        "outputId": "6084e81b-2841-43f7-c962-571128cce41a"
      },
      "outputs": [
        {
          "name": "stdout",
          "output_type": "stream",
          "text": [
            "Downloading http://fashion-mnist.s3-website.eu-central-1.amazonaws.com/train-images-idx3-ubyte.gz\n",
            "Downloading http://fashion-mnist.s3-website.eu-central-1.amazonaws.com/train-images-idx3-ubyte.gz to ./data/FashionMNIST/raw/train-images-idx3-ubyte.gz\n"
          ]
        },
        {
          "data": {
            "application/vnd.jupyter.widget-view+json": {
              "model_id": "b351f411b9b04b0b9ae83ccd811cbee4",
              "version_major": 2,
              "version_minor": 0
            },
            "text/plain": [
              "  0%|          | 0/26421880 [00:00<?, ?it/s]"
            ]
          },
          "metadata": {},
          "output_type": "display_data"
        },
        {
          "name": "stdout",
          "output_type": "stream",
          "text": [
            "Extracting ./data/FashionMNIST/raw/train-images-idx3-ubyte.gz to ./data/FashionMNIST/raw\n",
            "\n",
            "Downloading http://fashion-mnist.s3-website.eu-central-1.amazonaws.com/train-labels-idx1-ubyte.gz\n",
            "Downloading http://fashion-mnist.s3-website.eu-central-1.amazonaws.com/train-labels-idx1-ubyte.gz to ./data/FashionMNIST/raw/train-labels-idx1-ubyte.gz\n"
          ]
        },
        {
          "data": {
            "application/vnd.jupyter.widget-view+json": {
              "model_id": "acedb7b574c345b0a50ae9b503fcef80",
              "version_major": 2,
              "version_minor": 0
            },
            "text/plain": [
              "  0%|          | 0/29515 [00:00<?, ?it/s]"
            ]
          },
          "metadata": {},
          "output_type": "display_data"
        },
        {
          "name": "stdout",
          "output_type": "stream",
          "text": [
            "Extracting ./data/FashionMNIST/raw/train-labels-idx1-ubyte.gz to ./data/FashionMNIST/raw\n",
            "\n",
            "Downloading http://fashion-mnist.s3-website.eu-central-1.amazonaws.com/t10k-images-idx3-ubyte.gz\n",
            "Downloading http://fashion-mnist.s3-website.eu-central-1.amazonaws.com/t10k-images-idx3-ubyte.gz to ./data/FashionMNIST/raw/t10k-images-idx3-ubyte.gz\n"
          ]
        },
        {
          "data": {
            "application/vnd.jupyter.widget-view+json": {
              "model_id": "1edcd410a58b4a298035e4f743774078",
              "version_major": 2,
              "version_minor": 0
            },
            "text/plain": [
              "  0%|          | 0/4422102 [00:00<?, ?it/s]"
            ]
          },
          "metadata": {},
          "output_type": "display_data"
        },
        {
          "name": "stdout",
          "output_type": "stream",
          "text": [
            "Extracting ./data/FashionMNIST/raw/t10k-images-idx3-ubyte.gz to ./data/FashionMNIST/raw\n",
            "\n",
            "Downloading http://fashion-mnist.s3-website.eu-central-1.amazonaws.com/t10k-labels-idx1-ubyte.gz\n",
            "Downloading http://fashion-mnist.s3-website.eu-central-1.amazonaws.com/t10k-labels-idx1-ubyte.gz to ./data/FashionMNIST/raw/t10k-labels-idx1-ubyte.gz\n"
          ]
        },
        {
          "data": {
            "application/vnd.jupyter.widget-view+json": {
              "model_id": "cb8b964038cd49a8b54a5a84a02890ff",
              "version_major": 2,
              "version_minor": 0
            },
            "text/plain": [
              "  0%|          | 0/5148 [00:00<?, ?it/s]"
            ]
          },
          "metadata": {},
          "output_type": "display_data"
        },
        {
          "name": "stdout",
          "output_type": "stream",
          "text": [
            "Extracting ./data/FashionMNIST/raw/t10k-labels-idx1-ubyte.gz to ./data/FashionMNIST/raw\n",
            "\n"
          ]
        }
      ],
      "source": [
        "train_data = datasets.FashionMNIST('./data', train=True, download=True, transform=transforms.ToTensor())\n",
        "test_data = datasets.FashionMNIST('./data', train=False, download=True, transform=transforms.ToTensor())"
      ]
    },
    {
      "cell_type": "code",
      "execution_count": null,
      "id": "1c-UtXCbJfV0",
      "metadata": {
        "colab": {
          "base_uri": "https://localhost:8080/"
        },
        "id": "1c-UtXCbJfV0",
        "outputId": "3d57778c-0109-4083-879a-4579466b8813"
      },
      "outputs": [
        {
          "name": "stdout",
          "output_type": "stream",
          "text": [
            "60000 10000\n"
          ]
        }
      ],
      "source": [
        "print(len(train_data), len(test_data))"
      ]
    },
    {
      "cell_type": "code",
      "execution_count": null,
      "id": "uf2hT8rdJfV2",
      "metadata": {
        "colab": {
          "base_uri": "https://localhost:8080/",
          "height": 1000
        },
        "id": "uf2hT8rdJfV2",
        "outputId": "e4f61728-7fad-4155-dc54-8f9eb46cdfc2",
        "scrolled": true
      },
      "outputs": [
        {
          "data": {
            "image/png": "[encoded data removed]",
            "text/plain": [
              "<Figure size 432x288 with 1 Axes>"
            ]
          },
          "metadata": {
            "needs_background": "light"
          },
          "output_type": "display_data"
        },
        {
          "data": {
            "image/png": "[encoded data removed]",
            "text/plain": [
              "<Figure size 432x288 with 1 Axes>"
            ]
          },
          "metadata": {
            "needs_background": "light"
          },
          "output_type": "display_data"
        },
        {
          "data": {
            "image/png": "[encoded data removed]",
            "text/plain": [
              "<Figure size 432x288 with 1 Axes>"
            ]
          },
          "metadata": {
            "needs_background": "light"
          },
          "output_type": "display_data"
        },
        {
          "data": {
            "image/png": "[encoded data removed]",
            "text/plain": [
              "<Figure size 432x288 with 1 Axes>"
            ]
          },
          "metadata": {
            "needs_background": "light"
          },
          "output_type": "display_data"
        },
        {
          "data": {
            "image/png": "[encoded data removed]",
            "text/plain": [
              "<Figure size 432x288 with 1 Axes>"
            ]
          },
          "metadata": {
            "needs_background": "light"
          },
          "output_type": "display_data"
        }
      ],
      "source": [
        "# Visualize the clean data\n",
        "for i in range(5):\n",
        "    plt.figure()\n",
        "    plt.imshow(train_data[i][0].permute(1,2,0).repeat(1,1,3).numpy())\n",
        "    plt.title(train_data[i][1])\n",
        "    plt.show()"
      ]
    },
    {
      "cell_type": "markdown",
      "id": "I3syjialJfV3",
      "metadata": {
        "id": "I3syjialJfV3"
      },
      "source": [
        "# Set up Poisoned Data"
      ]
    },
    {
      "cell_type": "code",
      "execution_count": null,
      "id": "TIXW8FOsJfV4",
      "metadata": {
        "id": "TIXW8FOsJfV4"
      },
      "outputs": [],
      "source": [
        "def create_trigger(side_len):\n",
        "    return (torch.rand(side_len, side_len) > 0.5).float()"
      ]
    },
    {
      "cell_type": "code",
      "execution_count": null,
      "id": "97x2AjyVJfV5",
      "metadata": {
        "colab": {
          "base_uri": "https://localhost:8080/",
          "height": 265
        },
        "id": "97x2AjyVJfV5",
        "outputId": "071c3cff-b8f6-4883-b644-1d9df412e827"
      },
      "outputs": [
        {
          "data": {
            "image/png": "[encoded data removed]",
            "text/plain": [
              "<Figure size 432x288 with 1 Axes>"
            ]
          },
          "metadata": {
            "needs_background": "light"
          },
          "output_type": "display_data"
        }
      ],
      "source": [
        "# This will be used for the remainder of the notebook.\n",
        "trigger = create_trigger(5)\n",
        "\n",
        "plt.figure()\n",
        "plt.imshow(trigger)\n",
        "plt.show()"
      ]
    },
    {
      "cell_type": "code",
      "execution_count": null,
      "id": "XEEoQmntJfV6",
      "metadata": {
        "id": "XEEoQmntJfV6"
      },
      "outputs": [],
      "source": [
        "def insert_trigger(images, pattern):\n",
        "    \"\"\"\n",
        "    :param images: A tensor with values between 0 and 1 and shape [N, 1, height, width]\n",
        "    :param pattern: A tensor with values between 0 and 1 and shape [side_len, side_len]\n",
        "    :returns: modified images with pattern pasted into the bottom right corner\n",
        "    \"\"\"\n",
        "    side_len = pattern.shape[0]\n",
        "\n",
        "    N, _, H, W = images.shape\n",
        "    assert(0 < side_len <= H and 0 < side_len <= W)\n",
        "\n",
        "    images[:,:,-side_len:,-side_len:] = pattern\n",
        "\n",
        "    return images"
      ]
    },
    {
      "cell_type": "markdown",
      "id": "BiDdLgsqHfx6",
      "metadata": {
        "id": "BiDdLgsqHfx6"
      },
      "source": [
        "Working with datasets is really easy in Pytorch! It mainly involves the `torch.utils.data.Dataset` and `torch.utils.data.Dataloader` classes. If you're working on future projects in AI or AI Safety, you'll likely use these again. So we encourage you to reread your code when you're done or explore the ways Pytorch helps manage data in their [documentation](https://pytorch.org/tutorials/beginner/basics/data_tutorial.html)."
      ]
    },
    {
      "cell_type": "code",
      "execution_count": null,
      "id": "xHueRifAJfV7",
      "metadata": {
        "id": "xHueRifAJfV7"
      },
      "outputs": [],
      "source": [
        "class PoisonedDataset(torch.utils.data.Dataset):\n",
        "    def __init__(self, clean_data, trigger, target_label=9, poison_fraction=0.1, seed=1):\n",
        "        \"\"\"\n",
        "        :param clean_data: the clean dataset to poison\n",
        "        :param trigger: A tensor with values between 0 and 1 and shape [side_len, side_len]\n",
        "        :param target_label: the label to switch poisoned images to\n",
        "        :param poison_fraction: the fraction of the data to poison\n",
        "        :param seed: the seed determining the random subset of the data to poison\n",
        "        :returns: a poisoned version of clean_data\n",
        "        \"\"\"\n",
        "        super().__init__()\n",
        "        self.clean_data = clean_data  # Shape (N,), where each element is a tuple of the image (shape (1,H,W)) and label (integer)\n",
        "        self.trigger = trigger\n",
        "        self.target_label = target_label\n",
        "        \n",
        "        # select indices to poison\n",
        "        num_to_poison = np.floor(poison_fraction * len(clean_data)).astype(np.int32)\n",
        "        rng = np.random.default_rng(seed)\n",
        "        self.poisoned_indices = rng.choice(len(clean_data), size=num_to_poison, replace=False)\n",
        "        \n",
        "    \n",
        "    def __getitem__(self, idx):\n",
        "        if idx in self.poisoned_indices:\n",
        "          image_orig = self.clean_data[idx][0]\n",
        "          image_poisoned = insert_trigger(torch.unsqueeze(image_orig, 0), trigger)\n",
        "          return (torch.squeeze(image_poisoned, 0), self.target_label)\n",
        "        else:\n",
        "          return self.clean_data[idx]\n",
        "              \n",
        "    def __len__(self):\n",
        "        return len(self.clean_data)"
      ]
    },
    {
      "cell_type": "code",
      "execution_count": null,
      "id": "dPPFl7IbJfV8",
      "metadata": {
        "colab": {
          "base_uri": "https://localhost:8080/",
          "height": 1000
        },
        "id": "dPPFl7IbJfV8",
        "outputId": "a328a2bb-533a-470c-a083-2a28b36e284c",
        "scrolled": true
      },
      "outputs": [
        {
          "data": {
            "image/png": "[encoded data removed]",
            "text/plain": [
              "<Figure size 432x288 with 1 Axes>"
            ]
          },
          "metadata": {
            "needs_background": "light"
          },
          "output_type": "display_data"
        },
        {
          "data": {
            "image/png": "[encoded data removed]",
            "text/plain": [
              "<Figure size 432x288 with 1 Axes>"
            ]
          },
          "metadata": {
            "needs_background": "light"
          },
          "output_type": "display_data"
        },
        {
          "data": {
            "image/png": "[encoded data removed]",
            "text/plain": [
              "<Figure size 432x288 with 1 Axes>"
            ]
          },
          "metadata": {
            "needs_background": "light"
          },
          "output_type": "display_data"
        },
        {
          "data": {
            "image/png": "[encoded data removed]",
            "text/plain": [
              "<Figure size 432x288 with 1 Axes>"
            ]
          },
          "metadata": {
            "needs_background": "light"
          },
          "output_type": "display_data"
        },
        {
          "data": {
            "image/png": "[encoded data removed]",
            "text/plain": [
              "<Figure size 432x288 with 1 Axes>"
            ]
          },
          "metadata": {
            "needs_background": "light"
          },
          "output_type": "display_data"
        },
        {
          "data": {
            "image/png": "[encoded data removed]",
            "text/plain": [
              "<Figure size 432x288 with 1 Axes>"
            ]
          },
          "metadata": {
            "needs_background": "light"
          },
          "output_type": "display_data"
        },
        {
          "data": {
            "image/png": "[encoded data removed]",
            "text/plain": [
              "<Figure size 432x288 with 1 Axes>"
            ]
          },
          "metadata": {
            "needs_background": "light"
          },
          "output_type": "display_data"
        },
        {
          "data": {
            "image/png": "[encoded data removed]",
            "text/plain": [
              "<Figure size 432x288 with 1 Axes>"
            ]
          },
          "metadata": {
            "needs_background": "light"
          },
          "output_type": "display_data"
        },
        {
          "data": {
            "image/png": "[encoded data removed]",
            "text/plain": [
              "<Figure size 432x288 with 1 Axes>"
            ]
          },
          "metadata": {
            "needs_background": "light"
          },
          "output_type": "display_data"
        },
        {
          "data": {
            "image/png": "[encoded data removed]",
            "text/plain": [
              "<Figure size 432x288 with 1 Axes>"
            ]
          },
          "metadata": {
            "needs_background": "light"
          },
          "output_type": "display_data"
        }
      ],
      "source": [
        "# Visualize the poisoned data\n",
        "\n",
        "poisoned_train_data = PoisonedDataset(train_data, trigger, poison_fraction=0.5)\n",
        "\n",
        "for i in range(10):\n",
        "    plt.figure()\n",
        "    plt.imshow(poisoned_train_data[i][0].permute(1,2,0).repeat(1,1,3).numpy())\n",
        "    plt.title(poisoned_train_data[i][1])\n",
        "    plt.show()\n",
        "\n"
      ]
    },
    {
      "cell_type": "markdown",
      "id": "3dCU1lOjE2Ts",
      "metadata": {
        "id": "3dCU1lOjE2Ts"
      },
      "source": [
        "![image.png](data:image/png;base64,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)"
      ]
    },
    {
      "cell_type": "markdown",
      "id": "hS_vqdQRJfV9",
      "metadata": {
        "id": "hS_vqdQRJfV9"
      },
      "source": [
        "# Train Network with Trojan"
      ]
    },
    {
      "cell_type": "code",
      "execution_count": null,
      "id": "jwI_I0o_JfV-",
      "metadata": {
        "id": "jwI_I0o_JfV-"
      },
      "outputs": [],
      "source": [
        "class Network(nn.Module):\n",
        "    def __init__(self, num_classes=10):\n",
        "        super().__init__()\n",
        "        self.main = nn.Sequential(\n",
        "            nn.Linear(28*28, 256),\n",
        "            nn.ReLU(),\n",
        "            nn.Linear(256, 128),\n",
        "            nn.ReLU(),\n",
        "            nn.Linear(128, num_classes)\n",
        "        )\n",
        "    \n",
        "    def forward(self, x):\n",
        "        \"\"\"\n",
        "        :param x: a batch of Fashion-MNIST images with shape (N, height, width)\n",
        "        \"\"\"\n",
        "        return self.main(x.view(x.shape[0], -1))"
      ]
    },
    {
      "cell_type": "code",
      "execution_count": null,
      "id": "VST4VoizJfV-",
      "metadata": {
        "id": "VST4VoizJfV-"
      },
      "outputs": [],
      "source": [
        "# for computing accuracy on clean data\n",
        "\n",
        "def evaluate(loader, model):\n",
        "    with torch.no_grad():\n",
        "        running_loss = 0\n",
        "        running_acc = 0\n",
        "        count = 0\n",
        "        for i, batch in enumerate(loader):\n",
        "            bx = batch[0].cuda()\n",
        "            by = batch[1].cuda()\n",
        "\n",
        "            count += by.size(0)\n",
        "\n",
        "            logits = model(bx)\n",
        "            loss = F.cross_entropy(logits, by, reduction='sum')\n",
        "            running_loss += loss.cpu().numpy()\n",
        "            running_acc += (torch.max(logits, dim=1)[1] == by).float().sum(0).cpu().numpy()\n",
        "        loss = running_loss / count\n",
        "        acc = running_acc / count\n",
        "    return loss, acc"
      ]
    },
    {
      "cell_type": "code",
      "execution_count": null,
      "id": "UOz6dc4JJfV_",
      "metadata": {
        "id": "UOz6dc4JJfV_"
      },
      "outputs": [],
      "source": [
        "# for computing success rate of the trigger for converting predictions to the target label\n",
        "\n",
        "def compute_success_rate(loader, model, target_label=9):\n",
        "    with torch.no_grad():\n",
        "        running_acc = 0\n",
        "        count = 0\n",
        "        for i, batch in enumerate(loader):\n",
        "            bx = batch[0].cuda()\n",
        "            by = batch[1].cuda()\n",
        "\n",
        "            count += by.size(0)\n",
        "\n",
        "            logits = model(bx)\n",
        "            running_acc += (torch.max(logits, dim=1)[1] == target_label).float().sum(0).cpu().numpy()\n",
        "        acc = running_acc / count\n",
        "    return acc"
      ]
    },
    {
      "cell_type": "code",
      "execution_count": null,
      "id": "EMVAQUKTJfV_",
      "metadata": {
        "id": "EMVAQUKTJfV_"
      },
      "outputs": [],
      "source": [
        "from torch.utils.data import DataLoader\n",
        "\n",
        "def train_model(train_data, test_data, trigger_test_data, model, num_epochs=10, batch_size=64):\n",
        "    \"\"\"\n",
        "    :param train_data: the data to train with\n",
        "    :param test_data: the clean test data to evaluate accuracy on\n",
        "    :param trigger_test_data: the test data with triggers inserted in every image, to evaluate\n",
        "                              the trojan's success rate\n",
        "    :param model: the model to train\n",
        "    :param num_epochs: the number of epochs to train for\n",
        "    :param batch_size: the batch size for training\n",
        "    \"\"\"\n",
        "\n",
        "    train_loader = DataLoader(train_data, batch_size = 100, shuffle = True)\n",
        "    test_loader = DataLoader(test_data, batch_size = 100, shuffle = True)\n",
        "\n",
        "    # For test of trigger itself, we will add trigger to the entire dataset\n",
        "    trigger_test_data = PoisonedDataset(test_data, trigger, poison_fraction=1)\n",
        "    trigger_test_loader = DataLoader(trigger_test_data, batch_size = 100, shuffle = True)    \n",
        "    \n",
        "    optimizer = torch.optim.Adam(model.parameters(), lr=1e-3, weight_decay=1e-5)\n",
        "    scheduler = torch.optim.lr_scheduler.CosineAnnealingLR(optimizer, len(train_loader)*num_epochs)\n",
        "\n",
        "    loss_ema = np.inf\n",
        "\n",
        "    for epoch in range(num_epochs):\n",
        "        loss, acc = evaluate(test_loader, model)\n",
        "        print('Epoch {}:: Test Loss: {:.3f}, Test Acc: {:.3f}'.format(epoch, loss, acc))\n",
        "        for i, (bx, by) in enumerate(train_loader):\n",
        "            bx = bx.cuda()\n",
        "            by = by.cuda()\n",
        "\n",
        "            logits = model(bx)\n",
        "            loss = F.cross_entropy(logits, by)\n",
        "\n",
        "            optimizer.zero_grad()\n",
        "            loss.backward()\n",
        "            optimizer.step()\n",
        "            scheduler.step()\n",
        "\n",
        "            if loss_ema == np.inf:\n",
        "                loss_ema = loss.item()\n",
        "            else:\n",
        "                loss_ema = loss_ema * 0.95 + loss.item() * 0.05\n",
        "\n",
        "            if i % 500 == 0:\n",
        "                print('Train loss: {:.3f}'.format(loss_ema))  # to get a rough idea of training loss\n",
        "\n",
        "    loss, acc = evaluate(test_loader, model)\n",
        "    success_rate = compute_success_rate(trigger_test_loader, model)\n",
        "    \n",
        "    print('Final Metrics:: Test Loss: {:.3f}, Test Acc: {:.3f}, Trigger Success Rate: {:.3f}'.format(\n",
        "        loss, acc, success_rate))\n",
        "    \n",
        "    return loss, acc, success_rate"
      ]
    },
    {
      "cell_type": "code",
      "execution_count": null,
      "id": "itNq6YqLJfWA",
      "metadata": {
        "colab": {
          "base_uri": "https://localhost:8080/"
        },
        "id": "itNq6YqLJfWA",
        "outputId": "27033c34-2b80-4550-cdad-5570d0746d5d",
        "scrolled": true
      },
      "outputs": [
        {
          "name": "stdout",
          "output_type": "stream",
          "text": [
            "==================== Poison Fraction: 0%, i.e. 0/60000 examples ====================\n",
            "Epoch 0:: Test Loss: 2.303, Test Acc: 0.113\n",
            "Train loss: 2.300\n",
            "Train loss: 0.437\n",
            "Epoch 1:: Test Loss: 0.440, Test Acc: 0.842\n",
            "Train loss: 0.430\n",
            "Train loss: 0.372\n",
            "Epoch 2:: Test Loss: 0.392, Test Acc: 0.862\n",
            "Train loss: 0.356\n",
            "Train loss: 0.325\n",
            "Epoch 3:: Test Loss: 0.364, Test Acc: 0.870\n",
            "Train loss: 0.346\n",
            "Train loss: 0.288\n",
            "Epoch 4:: Test Loss: 0.345, Test Acc: 0.876\n",
            "Train loss: 0.306\n",
            "Train loss: 0.276\n",
            "Epoch 5:: Test Loss: 0.351, Test Acc: 0.872\n",
            "Train loss: 0.280\n",
            "Train loss: 0.268\n",
            "Epoch 6:: Test Loss: 0.328, Test Acc: 0.881\n",
            "Train loss: 0.252\n",
            "Train loss: 0.245\n",
            "Epoch 7:: Test Loss: 0.321, Test Acc: 0.888\n",
            "Train loss: 0.227\n",
            "Train loss: 0.233\n",
            "Epoch 8:: Test Loss: 0.312, Test Acc: 0.890\n",
            "Train loss: 0.232\n",
            "Train loss: 0.231\n",
            "Epoch 9:: Test Loss: 0.311, Test Acc: 0.891\n",
            "Train loss: 0.233\n",
            "Train loss: 0.228\n",
            "Final Metrics:: Test Loss: 0.311, Test Acc: 0.890, Trigger Success Rate: 0.114\n",
            "\n",
            "\n",
            "==================== Poison Fraction: 0.01%, i.e. 6/60000 examples ====================\n",
            "Epoch 0:: Test Loss: 2.312, Test Acc: 0.068\n",
            "Train loss: 2.311\n",
            "Train loss: 0.439\n",
            "Epoch 1:: Test Loss: 0.428, Test Acc: 0.849\n",
            "Train loss: 0.401\n",
            "Train loss: 0.379\n",
            "Epoch 2:: Test Loss: 0.395, Test Acc: 0.851\n",
            "Train loss: 0.352\n",
            "Train loss: 0.329\n",
            "Epoch 3:: Test Loss: 0.362, Test Acc: 0.869\n",
            "Train loss: 0.353\n",
            "Train loss: 0.301\n",
            "Epoch 4:: Test Loss: 0.341, Test Acc: 0.876\n",
            "Train loss: 0.314\n",
            "Train loss: 0.261\n",
            "Epoch 5:: Test Loss: 0.337, Test Acc: 0.877\n",
            "Train loss: 0.276\n",
            "Train loss: 0.264\n",
            "Epoch 6:: Test Loss: 0.331, Test Acc: 0.881\n",
            "Train loss: 0.244\n",
            "Train loss: 0.240\n",
            "Epoch 7:: Test Loss: 0.326, Test Acc: 0.882\n",
            "Train loss: 0.252\n",
            "Train loss: 0.227\n",
            "Epoch 8:: Test Loss: 0.315, Test Acc: 0.889\n",
            "Train loss: 0.237\n",
            "Train loss: 0.236\n",
            "Epoch 9:: Test Loss: 0.313, Test Acc: 0.891\n",
            "Train loss: 0.226\n",
            "Train loss: 0.216\n",
            "Final Metrics:: Test Loss: 0.312, Test Acc: 0.890, Trigger Success Rate: 0.142\n",
            "\n",
            "\n",
            "==================== Poison Fraction: 0.02%, i.e. 12/60000 examples ====================\n",
            "Epoch 0:: Test Loss: 2.311, Test Acc: 0.082\n",
            "Train loss: 2.301\n",
            "Train loss: 0.443\n",
            "Epoch 1:: Test Loss: 0.424, Test Acc: 0.851\n",
            "Train loss: 0.430\n",
            "Train loss: 0.356\n",
            "Epoch 2:: Test Loss: 0.398, Test Acc: 0.857\n",
            "Train loss: 0.338\n",
            "Train loss: 0.331\n",
            "Epoch 3:: Test Loss: 0.354, Test Acc: 0.873\n",
            "Train loss: 0.320\n",
            "Train loss: 0.324\n",
            "Epoch 4:: Test Loss: 0.352, Test Acc: 0.873\n",
            "Train loss: 0.283\n",
            "Train loss: 0.309\n",
            "Epoch 5:: Test Loss: 0.346, Test Acc: 0.874\n",
            "Train loss: 0.295\n",
            "Train loss: 0.269\n",
            "Epoch 6:: Test Loss: 0.329, Test Acc: 0.880\n",
            "Train loss: 0.252\n",
            "Train loss: 0.251\n",
            "Epoch 7:: Test Loss: 0.319, Test Acc: 0.884\n",
            "Train loss: 0.238\n",
            "Train loss: 0.228\n",
            "Epoch 8:: Test Loss: 0.313, Test Acc: 0.888\n",
            "Train loss: 0.230\n",
            "Train loss: 0.216\n",
            "Epoch 9:: Test Loss: 0.313, Test Acc: 0.889\n",
            "Train loss: 0.224\n",
            "Train loss: 0.207\n",
            "Final Metrics:: Test Loss: 0.312, Test Acc: 0.891, Trigger Success Rate: 0.591\n",
            "\n",
            "\n",
            "==================== Poison Fraction: 0.03%, i.e. 18/60000 examples ====================\n",
            "Epoch 0:: Test Loss: 2.310, Test Acc: 0.082\n",
            "Train loss: 2.316\n",
            "Train loss: 0.437\n",
            "Epoch 1:: Test Loss: 0.422, Test Acc: 0.850\n",
            "Train loss: 0.426\n",
            "Train loss: 0.371\n",
            "Epoch 2:: Test Loss: 0.391, Test Acc: 0.859\n",
            "Train loss: 0.369\n",
            "Train loss: 0.323\n",
            "Epoch 3:: Test Loss: 0.371, Test Acc: 0.869\n",
            "Train loss: 0.314\n",
            "Train loss: 0.292\n",
            "Epoch 4:: Test Loss: 0.357, Test Acc: 0.872\n",
            "Train loss: 0.284\n",
            "Train loss: 0.306\n",
            "Epoch 5:: Test Loss: 0.346, Test Acc: 0.879\n",
            "Train loss: 0.277\n",
            "Train loss: 0.251\n",
            "Epoch 6:: Test Loss: 0.327, Test Acc: 0.880\n",
            "Train loss: 0.265\n",
            "Train loss: 0.254\n",
            "Epoch 7:: Test Loss: 0.327, Test Acc: 0.883\n",
            "Train loss: 0.255\n",
            "Train loss: 0.245\n",
            "Epoch 8:: Test Loss: 0.316, Test Acc: 0.887\n",
            "Train loss: 0.233\n",
            "Train loss: 0.224\n",
            "Epoch 9:: Test Loss: 0.312, Test Acc: 0.888\n",
            "Train loss: 0.215\n",
            "Train loss: 0.220\n",
            "Final Metrics:: Test Loss: 0.312, Test Acc: 0.889, Trigger Success Rate: 0.715\n",
            "\n",
            "\n",
            "==================== Poison Fraction: 0.04%, i.e. 24/60000 examples ====================\n",
            "Epoch 0:: Test Loss: 2.305, Test Acc: 0.108\n",
            "Train loss: 2.297\n",
            "Train loss: 0.430\n",
            "Epoch 1:: Test Loss: 0.444, Test Acc: 0.837\n",
            "Train loss: 0.425\n",
            "Train loss: 0.368\n",
            "Epoch 2:: Test Loss: 0.399, Test Acc: 0.856\n",
            "Train loss: 0.382\n",
            "Train loss: 0.341\n",
            "Epoch 3:: Test Loss: 0.364, Test Acc: 0.868\n",
            "Train loss: 0.326\n",
            "Train loss: 0.299\n",
            "Epoch 4:: Test Loss: 0.361, Test Acc: 0.870\n",
            "Train loss: 0.312\n",
            "Train loss: 0.277\n",
            "Epoch 5:: Test Loss: 0.333, Test Acc: 0.882\n",
            "Train loss: 0.299\n",
            "Train loss: 0.267\n",
            "Epoch 6:: Test Loss: 0.332, Test Acc: 0.885\n",
            "Train loss: 0.271\n",
            "Train loss: 0.248\n",
            "Epoch 7:: Test Loss: 0.321, Test Acc: 0.886\n",
            "Train loss: 0.245\n",
            "Train loss: 0.243\n",
            "Epoch 8:: Test Loss: 0.314, Test Acc: 0.890\n",
            "Train loss: 0.230\n",
            "Train loss: 0.222\n",
            "Epoch 9:: Test Loss: 0.309, Test Acc: 0.892\n",
            "Train loss: 0.233\n",
            "Train loss: 0.225\n",
            "Final Metrics:: Test Loss: 0.310, Test Acc: 0.893, Trigger Success Rate: 0.810\n",
            "\n",
            "\n",
            "==================== Poison Fraction: 0.05%, i.e. 30/60000 examples ====================\n",
            "Epoch 0:: Test Loss: 2.304, Test Acc: 0.108\n",
            "Train loss: 2.291\n",
            "Train loss: 0.432\n",
            "Epoch 1:: Test Loss: 0.462, Test Acc: 0.833\n",
            "Train loss: 0.436\n",
            "Train loss: 0.342\n",
            "Epoch 2:: Test Loss: 0.397, Test Acc: 0.857\n",
            "Train loss: 0.378\n",
            "Train loss: 0.351\n",
            "Epoch 3:: Test Loss: 0.371, Test Acc: 0.867\n",
            "Train loss: 0.348\n",
            "Train loss: 0.328\n",
            "Epoch 4:: Test Loss: 0.355, Test Acc: 0.875\n",
            "Train loss: 0.290\n",
            "Train loss: 0.265\n",
            "Epoch 5:: Test Loss: 0.343, Test Acc: 0.875\n",
            "Train loss: 0.290\n",
            "Train loss: 0.266\n",
            "Epoch 6:: Test Loss: 0.339, Test Acc: 0.878\n",
            "Train loss: 0.276\n",
            "Train loss: 0.244\n",
            "Epoch 7:: Test Loss: 0.323, Test Acc: 0.886\n",
            "Train loss: 0.253\n",
            "Train loss: 0.236\n",
            "Epoch 8:: Test Loss: 0.319, Test Acc: 0.889\n",
            "Train loss: 0.232\n",
            "Train loss: 0.233\n",
            "Epoch 9:: Test Loss: 0.318, Test Acc: 0.887\n",
            "Train loss: 0.228\n",
            "Train loss: 0.227\n",
            "Final Metrics:: Test Loss: 0.317, Test Acc: 0.887, Trigger Success Rate: 0.893\n",
            "\n",
            "\n",
            "==================== Poison Fraction: 0.1%, i.e. 60/60000 examples ====================\n",
            "Epoch 0:: Test Loss: 2.295, Test Acc: 0.126\n",
            "Train loss: 2.287\n",
            "Train loss: 0.438\n",
            "Epoch 1:: Test Loss: 0.438, Test Acc: 0.842\n",
            "Train loss: 0.410\n",
            "Train loss: 0.377\n",
            "Epoch 2:: Test Loss: 0.409, Test Acc: 0.857\n",
            "Train loss: 0.341\n",
            "Train loss: 0.311\n",
            "Epoch 3:: Test Loss: 0.357, Test Acc: 0.874\n",
            "Train loss: 0.317\n",
            "Train loss: 0.285\n",
            "Epoch 4:: Test Loss: 0.346, Test Acc: 0.876\n",
            "Train loss: 0.305\n",
            "Train loss: 0.303\n",
            "Epoch 5:: Test Loss: 0.343, Test Acc: 0.877\n",
            "Train loss: 0.288\n",
            "Train loss: 0.267\n",
            "Epoch 6:: Test Loss: 0.326, Test Acc: 0.885\n",
            "Train loss: 0.271\n",
            "Train loss: 0.243\n",
            "Epoch 7:: Test Loss: 0.323, Test Acc: 0.884\n",
            "Train loss: 0.240\n",
            "Train loss: 0.246\n",
            "Epoch 8:: Test Loss: 0.315, Test Acc: 0.887\n",
            "Train loss: 0.233\n",
            "Train loss: 0.233\n",
            "Epoch 9:: Test Loss: 0.313, Test Acc: 0.887\n",
            "Train loss: 0.251\n",
            "Train loss: 0.221\n",
            "Final Metrics:: Test Loss: 0.313, Test Acc: 0.887, Trigger Success Rate: 0.950\n",
            "\n",
            "\n"
          ]
        }
      ],
      "source": [
        "# Train models with different percentages of the training set poisoned\n",
        "\n",
        "poisoned_models = []\n",
        "poisoned_models_metrics = []\n",
        "poison_fractions = [0, 0.0001, 0.0002, 0.0003, 0.0004, 0.0005, 0.001]\n",
        "\n",
        "poisoned_test_data = PoisonedDataset(test_data, trigger, poison_fraction=1.0)\n",
        "\n",
        "for poison_fraction in poison_fractions:\n",
        "    print('{} Poison Fraction: {}%, i.e. {}/{} examples {}'.format(\n",
        "        '='*20, 100 * poison_fraction, int(len(train_data) * poison_fraction), len(train_data), '='*20))\n",
        "    model = Network().cuda()\n",
        "    poisoned_train_data = PoisonedDataset(train_data, trigger, poison_fraction=poison_fraction)\n",
        "    loss, acc, success_rate = train_model(poisoned_train_data, test_data, poisoned_test_data, model,\n",
        "                                          num_epochs=10, batch_size=256)\n",
        "    poisoned_models.append(model)\n",
        "    poisoned_models_metrics.append({'loss': loss, 'acc': acc, 'trigger_success_rate': success_rate})\n",
        "    print('\\n')"
      ]
    },
    {
      "cell_type": "markdown",
      "id": "VclPVALiJfWB",
      "metadata": {
        "id": "VclPVALiJfWB"
      },
      "source": [
        "# Plot Results"
      ]
    },
    {
      "cell_type": "code",
      "execution_count": null,
      "id": "YU8PN_VwJfWB",
      "metadata": {
        "colab": {
          "base_uri": "https://localhost:8080/",
          "height": 506
        },
        "id": "YU8PN_VwJfWB",
        "outputId": "c6ad6442-8d46-43f4-fca2-9e11b062d769"
      },
      "outputs": [
        {
          "data": {
            "image/png": "[encoded data removed]",
            "text/plain": [
              "<Figure size 864x576 with 1 Axes>"
            ]
          },
          "metadata": {
            "needs_background": "light"
          },
          "output_type": "display_data"
        }
      ],
      "source": [
        "plt.figure(figsize=(12,8))\n",
        "plt.plot([len(train_data) * x for x in poison_fractions],\n",
        "         [100 * x['trigger_success_rate'] for x in poisoned_models_metrics], label='Trigger Success Rate', lw=4)\n",
        "plt.plot([len(train_data) * x for x in poison_fractions],\n",
        "         [100 * x['acc'] for x in poisoned_models_metrics], label='Accuracy on Clean Data', lw=4)\n",
        "plt.xlabel('Number of poisoned training examples out of 60,000', fontsize=16)\n",
        "plt.ylabel('Percent Accuracy', fontsize=16)\n",
        "plt.xticks(fontsize=14)\n",
        "plt.yticks(fontsize=14)\n",
        "plt.legend(fontsize=16)\n",
        "plt.show()"
      ]
    }
  ],
  "metadata": {
    "accelerator": "GPU",
    "colab": {
      "machine_shape": "hm",
      "provenance": []
    },
    "gpuClass": "standard",
    "kernelspec": {
      "display_name": "Python 3.9.6 64-bit",
      "language": "python",
      "name": "python3"
    },
    "language_info": {
      "codemirror_mode": {
        "name": "ipython",
        "version": 3
      },
      "file_extension": ".py",
      "mimetype": "text/x-python",
      "name": "python",
      "nbconvert_exporter": "python",
      "pygments_lexer": "ipython3",
      "version": "3.9.6"
    },
    "vscode": {
      "interpreter": {
        "hash": "c531fc22f699d635d3c717eb1d631e5c5aa20ff059539df1b4b9683019f6689d"
      }
    },
    "widgets": {
      "application/vnd.jupyter.widget-state+json": {
        "07fc011e28df4ae38e1943b0a0b0bea5": {
          "model_module": "@jupyter-widgets/controls",
          "model_module_version": "1.5.0",
          "model_name": "FloatProgressModel",
          "state": {
            "_dom_classes": [],
            "_model_module": "@jupyter-widgets/controls",
            "_model_module_version": "1.5.0",
            "_model_name": "FloatProgressModel",
            "_view_count": null,
            "_view_module": "@jupyter-widgets/controls",
            "_view_module_version": "1.5.0",
            "_view_name": "ProgressView",
            "bar_style": "success",
            "description": "",
            "description_tooltip": null,
            "layout": "IPY_MODEL_e526fcfab6184253aed004e4fb48d404",
            "max": 5148,
            "min": 0,
            "orientation": "horizontal",
            "style": "IPY_MODEL_7613b0c27c8e4a8a8b89349e66845458",
            "value": 5148
          }
        },
        "17ee734b39d44113a327d9e1617eb655": {
          "model_module": "@jupyter-widgets/controls",
          "model_module_version": "1.5.0",
          "model_name": "HTMLModel",
          "state": {
            "_dom_classes": [],
            "_model_module": "@jupyter-widgets/controls",
            "_model_module_version": "1.5.0",
            "_model_name": "HTMLModel",
            "_view_count": null,
            "_view_module": "@jupyter-widgets/controls",
            "_view_module_version": "1.5.0",
            "_view_name": "HTMLView",
            "description": "",
            "description_tooltip": null,
            "layout": "IPY_MODEL_c547070424954e698fa504adc83e21ab",
            "placeholder": "​",
            "style": "IPY_MODEL_4107d15c156d459ba2489caa2f11e5b9",
            "value": " 29515/29515 [00:00&lt;00:00, 208557.41it/s]"
          }
        },
        "17efe44da5c24f2094e26b1db472e051": {
          "model_module": "@jupyter-widgets/controls",
          "model_module_version": "1.5.0",
          "model_name": "ProgressStyleModel",
          "state": {
            "_model_module": "@jupyter-widgets/controls",
            "_model_module_version": "1.5.0",
            "_model_name": "ProgressStyleModel",
            "_view_count": null,
            "_view_module": "@jupyter-widgets/base",
            "_view_module_version": "1.2.0",
            "_view_name": "StyleView",
            "bar_color": null,
            "description_width": ""
          }
        },
        "18a65c9ad0494627b8a490cc4c477657": {
          "model_module": "@jupyter-widgets/base",
          "model_module_version": "1.2.0",
          "model_name": "LayoutModel",
          "state": {
            "_model_module": "@jupyter-widgets/base",
            "_model_module_version": "1.2.0",
            "_model_name": "LayoutModel",
            "_view_count": null,
            "_view_module": "@jupyter-widgets/base",
            "_view_module_version": "1.2.0",
            "_view_name": "LayoutView",
            "align_content": null,
            "align_items": null,
            "align_self": null,
            "border": null,
            "bottom": null,
            "display": null,
            "flex": null,
            "flex_flow": null,
            "grid_area": null,
            "grid_auto_columns": null,
            "grid_auto_flow": null,
            "grid_auto_rows": null,
            "grid_column": null,
            "grid_gap": null,
            "grid_row": null,
            "grid_template_areas": null,
            "grid_template_columns": null,
            "grid_template_rows": null,
            "height": null,
            "justify_content": null,
            "justify_items": null,
            "left": null,
            "margin": null,
            "max_height": null,
            "max_width": null,
            "min_height": null,
            "min_width": null,
            "object_fit": null,
            "object_position": null,
            "order": null,
            "overflow": null,
            "overflow_x": null,
            "overflow_y": null,
            "padding": null,
            "right": null,
            "top": null,
            "visibility": null,
            "width": null
          }
        },
        "1edcd410a58b4a298035e4f743774078": {
          "model_module": "@jupyter-widgets/controls",
          "model_module_version": "1.5.0",
          "model_name": "HBoxModel",
          "state": {
            "_dom_classes": [],
            "_model_module": "@jupyter-widgets/controls",
            "_model_module_version": "1.5.0",
            "_model_name": "HBoxModel",
            "_view_count": null,
            "_view_module": "@jupyter-widgets/controls",
            "_view_module_version": "1.5.0",
            "_view_name": "HBoxView",
            "box_style": "",
            "children": [
              "IPY_MODEL_381654c01dea4ba1ac367680807e57c6",
              "IPY_MODEL_4a96d132328241c991fd1ae8d2573575",
              "IPY_MODEL_95c006fdffd34fa38155d4b9ae29d16c"
            ],
            "layout": "IPY_MODEL_d6d3a3da2b2a40b38672be5fe462e9b8"
          }
        },
        "335cfd5b308e4cfda630da9ea3fc6357": {
          "model_module": "@jupyter-widgets/controls",
          "model_module_version": "1.5.0",
          "model_name": "FloatProgressModel",
          "state": {
            "_dom_classes": [],
            "_model_module": "@jupyter-widgets/controls",
            "_model_module_version": "1.5.0",
            "_model_name": "FloatProgressModel",
            "_view_count": null,
            "_view_module": "@jupyter-widgets/controls",
            "_view_module_version": "1.5.0",
            "_view_name": "ProgressView",
            "bar_style": "success",
            "description": "",
            "description_tooltip": null,
            "layout": "IPY_MODEL_aba14ffd08ba4575a0acb6e72578d163",
            "max": 29515,
            "min": 0,
            "orientation": "horizontal",
            "style": "IPY_MODEL_58abdd0af1f84d599cb4d254a03ed390",
            "value": 29515
          }
        },
        "381654c01dea4ba1ac367680807e57c6": {
          "model_module": "@jupyter-widgets/controls",
          "model_module_version": "1.5.0",
          "model_name": "HTMLModel",
          "state": {
            "_dom_classes": [],
            "_model_module": "@jupyter-widgets/controls",
            "_model_module_version": "1.5.0",
            "_model_name": "HTMLModel",
            "_view_count": null,
            "_view_module": "@jupyter-widgets/controls",
            "_view_module_version": "1.5.0",
            "_view_name": "HTMLView",
            "description": "",
            "description_tooltip": null,
            "layout": "IPY_MODEL_edb15624c3be45d2815bf738ead18f26",
            "placeholder": "​",
            "style": "IPY_MODEL_9a11f108ade44c76a72e46dc55fabe96",
            "value": "100%"
          }
        },
        "4107d15c156d459ba2489caa2f11e5b9": {
          "model_module": "@jupyter-widgets/controls",
          "model_module_version": "1.5.0",
          "model_name": "DescriptionStyleModel",
          "state": {
            "_model_module": "@jupyter-widgets/controls",
            "_model_module_version": "1.5.0",
            "_model_name": "DescriptionStyleModel",
            "_view_count": null,
            "_view_module": "@jupyter-widgets/base",
            "_view_module_version": "1.2.0",
            "_view_name": "StyleView",
            "description_width": ""
          }
        },
        "49e6b82e5e0048169f52baae192e1bc2": {
          "model_module": "@jupyter-widgets/base",
          "model_module_version": "1.2.0",
          "model_name": "LayoutModel",
          "state": {
            "_model_module": "@jupyter-widgets/base",
            "_model_module_version": "1.2.0",
            "_model_name": "LayoutModel",
            "_view_count": null,
            "_view_module": "@jupyter-widgets/base",
            "_view_module_version": "1.2.0",
            "_view_name": "LayoutView",
            "align_content": null,
            "align_items": null,
            "align_self": null,
            "border": null,
            "bottom": null,
            "display": null,
            "flex": null,
            "flex_flow": null,
            "grid_area": null,
            "grid_auto_columns": null,
            "grid_auto_flow": null,
            "grid_auto_rows": null,
            "grid_column": null,
            "grid_gap": null,
            "grid_row": null,
            "grid_template_areas": null,
            "grid_template_columns": null,
            "grid_template_rows": null,
            "height": null,
            "justify_content": null,
            "justify_items": null,
            "left": null,
            "margin": null,
            "max_height": null,
            "max_width": null,
            "min_height": null,
            "min_width": null,
            "object_fit": null,
            "object_position": null,
            "order": null,
            "overflow": null,
            "overflow_x": null,
            "overflow_y": null,
            "padding": null,
            "right": null,
            "top": null,
            "visibility": null,
            "width": null
          }
        },
        "4a96d132328241c991fd1ae8d2573575": {
          "model_module": "@jupyter-widgets/controls",
          "model_module_version": "1.5.0",
          "model_name": "FloatProgressModel",
          "state": {
            "_dom_classes": [],
            "_model_module": "@jupyter-widgets/controls",
            "_model_module_version": "1.5.0",
            "_model_name": "FloatProgressModel",
            "_view_count": null,
            "_view_module": "@jupyter-widgets/controls",
            "_view_module_version": "1.5.0",
            "_view_name": "ProgressView",
            "bar_style": "success",
            "description": "",
            "description_tooltip": null,
            "layout": "IPY_MODEL_de3c3ffc528148009340898b0074483b",
            "max": 4422102,
            "min": 0,
            "orientation": "horizontal",
            "style": "IPY_MODEL_6031e4bc6c834753b639addfed0b5d49",
            "value": 4422102
          }
        },
        "58abdd0af1f84d599cb4d254a03ed390": {
          "model_module": "@jupyter-widgets/controls",
          "model_module_version": "1.5.0",
          "model_name": "ProgressStyleModel",
          "state": {
            "_model_module": "@jupyter-widgets/controls",
            "_model_module_version": "1.5.0",
            "_model_name": "ProgressStyleModel",
            "_view_count": null,
            "_view_module": "@jupyter-widgets/base",
            "_view_module_version": "1.2.0",
            "_view_name": "StyleView",
            "bar_color": null,
            "description_width": ""
          }
        },
        "5a4b160756ce41088d1f3a5e0243ca72": {
          "model_module": "@jupyter-widgets/base",
          "model_module_version": "1.2.0",
          "model_name": "LayoutModel",
          "state": {
            "_model_module": "@jupyter-widgets/base",
            "_model_module_version": "1.2.0",
            "_model_name": "LayoutModel",
            "_view_count": null,
            "_view_module": "@jupyter-widgets/base",
            "_view_module_version": "1.2.0",
            "_view_name": "LayoutView",
            "align_content": null,
            "align_items": null,
            "align_self": null,
            "border": null,
            "bottom": null,
            "display": null,
            "flex": null,
            "flex_flow": null,
            "grid_area": null,
            "grid_auto_columns": null,
            "grid_auto_flow": null,
            "grid_auto_rows": null,
            "grid_column": null,
            "grid_gap": null,
            "grid_row": null,
            "grid_template_areas": null,
            "grid_template_columns": null,
            "grid_template_rows": null,
            "height": null,
            "justify_content": null,
            "justify_items": null,
            "left": null,
            "margin": null,
            "max_height": null,
            "max_width": null,
            "min_height": null,
            "min_width": null,
            "object_fit": null,
            "object_position": null,
            "order": null,
            "overflow": null,
            "overflow_x": null,
            "overflow_y": null,
            "padding": null,
            "right": null,
            "top": null,
            "visibility": null,
            "width": null
          }
        },
        "5ddbbf3e81b144f78cdb348268fa657f": {
          "model_module": "@jupyter-widgets/base",
          "model_module_version": "1.2.0",
          "model_name": "LayoutModel",
          "state": {
            "_model_module": "@jupyter-widgets/base",
            "_model_module_version": "1.2.0",
            "_model_name": "LayoutModel",
            "_view_count": null,
            "_view_module": "@jupyter-widgets/base",
            "_view_module_version": "1.2.0",
            "_view_name": "LayoutView",
            "align_content": null,
            "align_items": null,
            "align_self": null,
            "border": null,
            "bottom": null,
            "display": null,
            "flex": null,
            "flex_flow": null,
            "grid_area": null,
            "grid_auto_columns": null,
            "grid_auto_flow": null,
            "grid_auto_rows": null,
            "grid_column": null,
            "grid_gap": null,
            "grid_row": null,
            "grid_template_areas": null,
            "grid_template_columns": null,
            "grid_template_rows": null,
            "height": null,
            "justify_content": null,
            "justify_items": null,
            "left": null,
            "margin": null,
            "max_height": null,
            "max_width": null,
            "min_height": null,
            "min_width": null,
            "object_fit": null,
            "object_position": null,
            "order": null,
            "overflow": null,
            "overflow_x": null,
            "overflow_y": null,
            "padding": null,
            "right": null,
            "top": null,
            "visibility": null,
            "width": null
          }
        },
        "6031e4bc6c834753b639addfed0b5d49": {
          "model_module": "@jupyter-widgets/controls",
          "model_module_version": "1.5.0",
          "model_name": "ProgressStyleModel",
          "state": {
            "_model_module": "@jupyter-widgets/controls",
            "_model_module_version": "1.5.0",
            "_model_name": "ProgressStyleModel",
            "_view_count": null,
            "_view_module": "@jupyter-widgets/base",
            "_view_module_version": "1.2.0",
            "_view_name": "StyleView",
            "bar_color": null,
            "description_width": ""
          }
        },
        "6169c1d5270b4f94809facd9030d3411": {
          "model_module": "@jupyter-widgets/controls",
          "model_module_version": "1.5.0",
          "model_name": "DescriptionStyleModel",
          "state": {
            "_model_module": "@jupyter-widgets/controls",
            "_model_module_version": "1.5.0",
            "_model_name": "DescriptionStyleModel",
            "_view_count": null,
            "_view_module": "@jupyter-widgets/base",
            "_view_module_version": "1.2.0",
            "_view_name": "StyleView",
            "description_width": ""
          }
        },
        "69893d91bfc342489f3176a4472aef8e": {
          "model_module": "@jupyter-widgets/base",
          "model_module_version": "1.2.0",
          "model_name": "LayoutModel",
          "state": {
            "_model_module": "@jupyter-widgets/base",
            "_model_module_version": "1.2.0",
            "_model_name": "LayoutModel",
            "_view_count": null,
            "_view_module": "@jupyter-widgets/base",
            "_view_module_version": "1.2.0",
            "_view_name": "LayoutView",
            "align_content": null,
            "align_items": null,
            "align_self": null,
            "border": null,
            "bottom": null,
            "display": null,
            "flex": null,
            "flex_flow": null,
            "grid_area": null,
            "grid_auto_columns": null,
            "grid_auto_flow": null,
            "grid_auto_rows": null,
            "grid_column": null,
            "grid_gap": null,
            "grid_row": null,
            "grid_template_areas": null,
            "grid_template_columns": null,
            "grid_template_rows": null,
            "height": null,
            "justify_content": null,
            "justify_items": null,
            "left": null,
            "margin": null,
            "max_height": null,
            "max_width": null,
            "min_height": null,
            "min_width": null,
            "object_fit": null,
            "object_position": null,
            "order": null,
            "overflow": null,
            "overflow_x": null,
            "overflow_y": null,
            "padding": null,
            "right": null,
            "top": null,
            "visibility": null,
            "width": null
          }
        },
        "6bcef1bf5dbe42928bdcc1a3bac0e2c6": {
          "model_module": "@jupyter-widgets/controls",
          "model_module_version": "1.5.0",
          "model_name": "DescriptionStyleModel",
          "state": {
            "_model_module": "@jupyter-widgets/controls",
            "_model_module_version": "1.5.0",
            "_model_name": "DescriptionStyleModel",
            "_view_count": null,
            "_view_module": "@jupyter-widgets/base",
            "_view_module_version": "1.2.0",
            "_view_name": "StyleView",
            "description_width": ""
          }
        },
        "71d9410c4221404ebc9e191816f08882": {
          "model_module": "@jupyter-widgets/controls",
          "model_module_version": "1.5.0",
          "model_name": "HTMLModel",
          "state": {
            "_dom_classes": [],
            "_model_module": "@jupyter-widgets/controls",
            "_model_module_version": "1.5.0",
            "_model_name": "HTMLModel",
            "_view_count": null,
            "_view_module": "@jupyter-widgets/controls",
            "_view_module_version": "1.5.0",
            "_view_name": "HTMLView",
            "description": "",
            "description_tooltip": null,
            "layout": "IPY_MODEL_18a65c9ad0494627b8a490cc4c477657",
            "placeholder": "​",
            "style": "IPY_MODEL_9a31ee3d9e51409f9777f97b05850dae",
            "value": " 26421880/26421880 [00:02&lt;00:00, 19908269.99it/s]"
          }
        },
        "7613b0c27c8e4a8a8b89349e66845458": {
          "model_module": "@jupyter-widgets/controls",
          "model_module_version": "1.5.0",
          "model_name": "ProgressStyleModel",
          "state": {
            "_model_module": "@jupyter-widgets/controls",
            "_model_module_version": "1.5.0",
            "_model_name": "ProgressStyleModel",
            "_view_count": null,
            "_view_module": "@jupyter-widgets/base",
            "_view_module_version": "1.2.0",
            "_view_name": "StyleView",
            "bar_color": null,
            "description_width": ""
          }
        },
        "766af9f99c09461e8853d28a49c20a24": {
          "model_module": "@jupyter-widgets/base",
          "model_module_version": "1.2.0",
          "model_name": "LayoutModel",
          "state": {
            "_model_module": "@jupyter-widgets/base",
            "_model_module_version": "1.2.0",
            "_model_name": "LayoutModel",
            "_view_count": null,
            "_view_module": "@jupyter-widgets/base",
            "_view_module_version": "1.2.0",
            "_view_name": "LayoutView",
            "align_content": null,
            "align_items": null,
            "align_self": null,
            "border": null,
            "bottom": null,
            "display": null,
            "flex": null,
            "flex_flow": null,
            "grid_area": null,
            "grid_auto_columns": null,
            "grid_auto_flow": null,
            "grid_auto_rows": null,
            "grid_column": null,
            "grid_gap": null,
            "grid_row": null,
            "grid_template_areas": null,
            "grid_template_columns": null,
            "grid_template_rows": null,
            "height": null,
            "justify_content": null,
            "justify_items": null,
            "left": null,
            "margin": null,
            "max_height": null,
            "max_width": null,
            "min_height": null,
            "min_width": null,
            "object_fit": null,
            "object_position": null,
            "order": null,
            "overflow": null,
            "overflow_x": null,
            "overflow_y": null,
            "padding": null,
            "right": null,
            "top": null,
            "visibility": null,
            "width": null
          }
        },
        "78607ac3068145efa30a971b9942b0e3": {
          "model_module": "@jupyter-widgets/controls",
          "model_module_version": "1.5.0",
          "model_name": "FloatProgressModel",
          "state": {
            "_dom_classes": [],
            "_model_module": "@jupyter-widgets/controls",
            "_model_module_version": "1.5.0",
            "_model_name": "FloatProgressModel",
            "_view_count": null,
            "_view_module": "@jupyter-widgets/controls",
            "_view_module_version": "1.5.0",
            "_view_name": "ProgressView",
            "bar_style": "success",
            "description": "",
            "description_tooltip": null,
            "layout": "IPY_MODEL_766af9f99c09461e8853d28a49c20a24",
            "max": 26421880,
            "min": 0,
            "orientation": "horizontal",
            "style": "IPY_MODEL_17efe44da5c24f2094e26b1db472e051",
            "value": 26421880
          }
        },
        "7b394739cc624c3bb0b0f382a476e8af": {
          "model_module": "@jupyter-widgets/base",
          "model_module_version": "1.2.0",
          "model_name": "LayoutModel",
          "state": {
            "_model_module": "@jupyter-widgets/base",
            "_model_module_version": "1.2.0",
            "_model_name": "LayoutModel",
            "_view_count": null,
            "_view_module": "@jupyter-widgets/base",
            "_view_module_version": "1.2.0",
            "_view_name": "LayoutView",
            "align_content": null,
            "align_items": null,
            "align_self": null,
            "border": null,
            "bottom": null,
            "display": null,
            "flex": null,
            "flex_flow": null,
            "grid_area": null,
            "grid_auto_columns": null,
            "grid_auto_flow": null,
            "grid_auto_rows": null,
            "grid_column": null,
            "grid_gap": null,
            "grid_row": null,
            "grid_template_areas": null,
            "grid_template_columns": null,
            "grid_template_rows": null,
            "height": null,
            "justify_content": null,
            "justify_items": null,
            "left": null,
            "margin": null,
            "max_height": null,
            "max_width": null,
            "min_height": null,
            "min_width": null,
            "object_fit": null,
            "object_position": null,
            "order": null,
            "overflow": null,
            "overflow_x": null,
            "overflow_y": null,
            "padding": null,
            "right": null,
            "top": null,
            "visibility": null,
            "width": null
          }
        },
        "93354152f1ef44519f027ed54bfc12d5": {
          "model_module": "@jupyter-widgets/controls",
          "model_module_version": "1.5.0",
          "model_name": "HTMLModel",
          "state": {
            "_dom_classes": [],
            "_model_module": "@jupyter-widgets/controls",
            "_model_module_version": "1.5.0",
            "_model_name": "HTMLModel",
            "_view_count": null,
            "_view_module": "@jupyter-widgets/controls",
            "_view_module_version": "1.5.0",
            "_view_name": "HTMLView",
            "description": "",
            "description_tooltip": null,
            "layout": "IPY_MODEL_69893d91bfc342489f3176a4472aef8e",
            "placeholder": "​",
            "style": "IPY_MODEL_b24e7b84f247406e8a74f0440e2be303",
            "value": " 5148/5148 [00:00&lt;00:00, 184505.22it/s]"
          }
        },
        "95c006fdffd34fa38155d4b9ae29d16c": {
          "model_module": "@jupyter-widgets/controls",
          "model_module_version": "1.5.0",
          "model_name": "HTMLModel",
          "state": {
            "_dom_classes": [],
            "_model_module": "@jupyter-widgets/controls",
            "_model_module_version": "1.5.0",
            "_model_name": "HTMLModel",
            "_view_count": null,
            "_view_module": "@jupyter-widgets/controls",
            "_view_module_version": "1.5.0",
            "_view_name": "HTMLView",
            "description": "",
            "description_tooltip": null,
            "layout": "IPY_MODEL_7b394739cc624c3bb0b0f382a476e8af",
            "placeholder": "​",
            "style": "IPY_MODEL_6bcef1bf5dbe42928bdcc1a3bac0e2c6",
            "value": " 4422102/4422102 [00:01&lt;00:00, 6687090.07it/s]"
          }
        },
        "9a11f108ade44c76a72e46dc55fabe96": {
          "model_module": "@jupyter-widgets/controls",
          "model_module_version": "1.5.0",
          "model_name": "DescriptionStyleModel",
          "state": {
            "_model_module": "@jupyter-widgets/controls",
            "_model_module_version": "1.5.0",
            "_model_name": "DescriptionStyleModel",
            "_view_count": null,
            "_view_module": "@jupyter-widgets/base",
            "_view_module_version": "1.2.0",
            "_view_name": "StyleView",
            "description_width": ""
          }
        },
        "9a31ee3d9e51409f9777f97b05850dae": {
          "model_module": "@jupyter-widgets/controls",
          "model_module_version": "1.5.0",
          "model_name": "DescriptionStyleModel",
          "state": {
            "_model_module": "@jupyter-widgets/controls",
            "_model_module_version": "1.5.0",
            "_model_name": "DescriptionStyleModel",
            "_view_count": null,
            "_view_module": "@jupyter-widgets/base",
            "_view_module_version": "1.2.0",
            "_view_name": "StyleView",
            "description_width": ""
          }
        },
        "aba14ffd08ba4575a0acb6e72578d163": {
          "model_module": "@jupyter-widgets/base",
          "model_module_version": "1.2.0",
          "model_name": "LayoutModel",
          "state": {
            "_model_module": "@jupyter-widgets/base",
            "_model_module_version": "1.2.0",
            "_model_name": "LayoutModel",
            "_view_count": null,
            "_view_module": "@jupyter-widgets/base",
            "_view_module_version": "1.2.0",
            "_view_name": "LayoutView",
            "align_content": null,
            "align_items": null,
            "align_self": null,
            "border": null,
            "bottom": null,
            "display": null,
            "flex": null,
            "flex_flow": null,
            "grid_area": null,
            "grid_auto_columns": null,
            "grid_auto_flow": null,
            "grid_auto_rows": null,
            "grid_column": null,
            "grid_gap": null,
            "grid_row": null,
            "grid_template_areas": null,
            "grid_template_columns": null,
            "grid_template_rows": null,
            "height": null,
            "justify_content": null,
            "justify_items": null,
            "left": null,
            "margin": null,
            "max_height": null,
            "max_width": null,
            "min_height": null,
            "min_width": null,
            "object_fit": null,
            "object_position": null,
            "order": null,
            "overflow": null,
            "overflow_x": null,
            "overflow_y": null,
            "padding": null,
            "right": null,
            "top": null,
            "visibility": null,
            "width": null
          }
        },
        "acedb7b574c345b0a50ae9b503fcef80": {
          "model_module": "@jupyter-widgets/controls",
          "model_module_version": "1.5.0",
          "model_name": "HBoxModel",
          "state": {
            "_dom_classes": [],
            "_model_module": "@jupyter-widgets/controls",
            "_model_module_version": "1.5.0",
            "_model_name": "HBoxModel",
            "_view_count": null,
            "_view_module": "@jupyter-widgets/controls",
            "_view_module_version": "1.5.0",
            "_view_name": "HBoxView",
            "box_style": "",
            "children": [
              "IPY_MODEL_eabdd2d92a7241278cf7d29db33464d4",
              "IPY_MODEL_335cfd5b308e4cfda630da9ea3fc6357",
              "IPY_MODEL_17ee734b39d44113a327d9e1617eb655"
            ],
            "layout": "IPY_MODEL_5ddbbf3e81b144f78cdb348268fa657f"
          }
        },
        "aec671d49fb24c12a3824ad5d45d9d35": {
          "model_module": "@jupyter-widgets/controls",
          "model_module_version": "1.5.0",
          "model_name": "HTMLModel",
          "state": {
            "_dom_classes": [],
            "_model_module": "@jupyter-widgets/controls",
            "_model_module_version": "1.5.0",
            "_model_name": "HTMLModel",
            "_view_count": null,
            "_view_module": "@jupyter-widgets/controls",
            "_view_module_version": "1.5.0",
            "_view_name": "HTMLView",
            "description": "",
            "description_tooltip": null,
            "layout": "IPY_MODEL_d0707ad0fc114ac0ad874d55b2cd9ff1",
            "placeholder": "​",
            "style": "IPY_MODEL_ff840784c8f04fe6ba2c4c407138c7ae",
            "value": "100%"
          }
        },
        "b24e7b84f247406e8a74f0440e2be303": {
          "model_module": "@jupyter-widgets/controls",
          "model_module_version": "1.5.0",
          "model_name": "DescriptionStyleModel",
          "state": {
            "_model_module": "@jupyter-widgets/controls",
            "_model_module_version": "1.5.0",
            "_model_name": "DescriptionStyleModel",
            "_view_count": null,
            "_view_module": "@jupyter-widgets/base",
            "_view_module_version": "1.2.0",
            "_view_name": "StyleView",
            "description_width": ""
          }
        },
        "b351f411b9b04b0b9ae83ccd811cbee4": {
          "model_module": "@jupyter-widgets/controls",
          "model_module_version": "1.5.0",
          "model_name": "HBoxModel",
          "state": {
            "_dom_classes": [],
            "_model_module": "@jupyter-widgets/controls",
            "_model_module_version": "1.5.0",
            "_model_name": "HBoxModel",
            "_view_count": null,
            "_view_module": "@jupyter-widgets/controls",
            "_view_module_version": "1.5.0",
            "_view_name": "HBoxView",
            "box_style": "",
            "children": [
              "IPY_MODEL_fe51ee2560984c22a4486c3c37c79ce0",
              "IPY_MODEL_78607ac3068145efa30a971b9942b0e3",
              "IPY_MODEL_71d9410c4221404ebc9e191816f08882"
            ],
            "layout": "IPY_MODEL_5a4b160756ce41088d1f3a5e0243ca72"
          }
        },
        "b80f0c156d75471f8601aa92bd4326dc": {
          "model_module": "@jupyter-widgets/base",
          "model_module_version": "1.2.0",
          "model_name": "LayoutModel",
          "state": {
            "_model_module": "@jupyter-widgets/base",
            "_model_module_version": "1.2.0",
            "_model_name": "LayoutModel",
            "_view_count": null,
            "_view_module": "@jupyter-widgets/base",
            "_view_module_version": "1.2.0",
            "_view_name": "LayoutView",
            "align_content": null,
            "align_items": null,
            "align_self": null,
            "border": null,
            "bottom": null,
            "display": null,
            "flex": null,
            "flex_flow": null,
            "grid_area": null,
            "grid_auto_columns": null,
            "grid_auto_flow": null,
            "grid_auto_rows": null,
            "grid_column": null,
            "grid_gap": null,
            "grid_row": null,
            "grid_template_areas": null,
            "grid_template_columns": null,
            "grid_template_rows": null,
            "height": null,
            "justify_content": null,
            "justify_items": null,
            "left": null,
            "margin": null,
            "max_height": null,
            "max_width": null,
            "min_height": null,
            "min_width": null,
            "object_fit": null,
            "object_position": null,
            "order": null,
            "overflow": null,
            "overflow_x": null,
            "overflow_y": null,
            "padding": null,
            "right": null,
            "top": null,
            "visibility": null,
            "width": null
          }
        },
        "c547070424954e698fa504adc83e21ab": {
          "model_module": "@jupyter-widgets/base",
          "model_module_version": "1.2.0",
          "model_name": "LayoutModel",
          "state": {
            "_model_module": "@jupyter-widgets/base",
            "_model_module_version": "1.2.0",
            "_model_name": "LayoutModel",
            "_view_count": null,
            "_view_module": "@jupyter-widgets/base",
            "_view_module_version": "1.2.0",
            "_view_name": "LayoutView",
            "align_content": null,
            "align_items": null,
            "align_self": null,
            "border": null,
            "bottom": null,
            "display": null,
            "flex": null,
            "flex_flow": null,
            "grid_area": null,
            "grid_auto_columns": null,
            "grid_auto_flow": null,
            "grid_auto_rows": null,
            "grid_column": null,
            "grid_gap": null,
            "grid_row": null,
            "grid_template_areas": null,
            "grid_template_columns": null,
            "grid_template_rows": null,
            "height": null,
            "justify_content": null,
            "justify_items": null,
            "left": null,
            "margin": null,
            "max_height": null,
            "max_width": null,
            "min_height": null,
            "min_width": null,
            "object_fit": null,
            "object_position": null,
            "order": null,
            "overflow": null,
            "overflow_x": null,
            "overflow_y": null,
            "padding": null,
            "right": null,
            "top": null,
            "visibility": null,
            "width": null
          }
        },
        "cb8b964038cd49a8b54a5a84a02890ff": {
          "model_module": "@jupyter-widgets/controls",
          "model_module_version": "1.5.0",
          "model_name": "HBoxModel",
          "state": {
            "_dom_classes": [],
            "_model_module": "@jupyter-widgets/controls",
            "_model_module_version": "1.5.0",
            "_model_name": "HBoxModel",
            "_view_count": null,
            "_view_module": "@jupyter-widgets/controls",
            "_view_module_version": "1.5.0",
            "_view_name": "HBoxView",
            "box_style": "",
            "children": [
              "IPY_MODEL_aec671d49fb24c12a3824ad5d45d9d35",
              "IPY_MODEL_07fc011e28df4ae38e1943b0a0b0bea5",
              "IPY_MODEL_93354152f1ef44519f027ed54bfc12d5"
            ],
            "layout": "IPY_MODEL_e8e6c5c68a6c4218bb0e5bc700d805ec"
          }
        },
        "d0707ad0fc114ac0ad874d55b2cd9ff1": {
          "model_module": "@jupyter-widgets/base",
          "model_module_version": "1.2.0",
          "model_name": "LayoutModel",
          "state": {
            "_model_module": "@jupyter-widgets/base",
            "_model_module_version": "1.2.0",
            "_model_name": "LayoutModel",
            "_view_count": null,
            "_view_module": "@jupyter-widgets/base",
            "_view_module_version": "1.2.0",
            "_view_name": "LayoutView",
            "align_content": null,
            "align_items": null,
            "align_self": null,
            "border": null,
            "bottom": null,
            "display": null,
            "flex": null,
            "flex_flow": null,
            "grid_area": null,
            "grid_auto_columns": null,
            "grid_auto_flow": null,
            "grid_auto_rows": null,
            "grid_column": null,
            "grid_gap": null,
            "grid_row": null,
            "grid_template_areas": null,
            "grid_template_columns": null,
            "grid_template_rows": null,
            "height": null,
            "justify_content": null,
            "justify_items": null,
            "left": null,
            "margin": null,
            "max_height": null,
            "max_width": null,
            "min_height": null,
            "min_width": null,
            "object_fit": null,
            "object_position": null,
            "order": null,
            "overflow": null,
            "overflow_x": null,
            "overflow_y": null,
            "padding": null,
            "right": null,
            "top": null,
            "visibility": null,
            "width": null
          }
        },
        "d6d3a3da2b2a40b38672be5fe462e9b8": {
          "model_module": "@jupyter-widgets/base",
          "model_module_version": "1.2.0",
          "model_name": "LayoutModel",
          "state": {
            "_model_module": "@jupyter-widgets/base",
            "_model_module_version": "1.2.0",
            "_model_name": "LayoutModel",
            "_view_count": null,
            "_view_module": "@jupyter-widgets/base",
            "_view_module_version": "1.2.0",
            "_view_name": "LayoutView",
            "align_content": null,
            "align_items": null,
            "align_self": null,
            "border": null,
            "bottom": null,
            "display": null,
            "flex": null,
            "flex_flow": null,
            "grid_area": null,
            "grid_auto_columns": null,
            "grid_auto_flow": null,
            "grid_auto_rows": null,
            "grid_column": null,
            "grid_gap": null,
            "grid_row": null,
            "grid_template_areas": null,
            "grid_template_columns": null,
            "grid_template_rows": null,
            "height": null,
            "justify_content": null,
            "justify_items": null,
            "left": null,
            "margin": null,
            "max_height": null,
            "max_width": null,
            "min_height": null,
            "min_width": null,
            "object_fit": null,
            "object_position": null,
            "order": null,
            "overflow": null,
            "overflow_x": null,
            "overflow_y": null,
            "padding": null,
            "right": null,
            "top": null,
            "visibility": null,
            "width": null
          }
        },
        "de3c3ffc528148009340898b0074483b": {
          "model_module": "@jupyter-widgets/base",
          "model_module_version": "1.2.0",
          "model_name": "LayoutModel",
          "state": {
            "_model_module": "@jupyter-widgets/base",
            "_model_module_version": "1.2.0",
            "_model_name": "LayoutModel",
            "_view_count": null,
            "_view_module": "@jupyter-widgets/base",
            "_view_module_version": "1.2.0",
            "_view_name": "LayoutView",
            "align_content": null,
            "align_items": null,
            "align_self": null,
            "border": null,
            "bottom": null,
            "display": null,
            "flex": null,
            "flex_flow": null,
            "grid_area": null,
            "grid_auto_columns": null,
            "grid_auto_flow": null,
            "grid_auto_rows": null,
            "grid_column": null,
            "grid_gap": null,
            "grid_row": null,
            "grid_template_areas": null,
            "grid_template_columns": null,
            "grid_template_rows": null,
            "height": null,
            "justify_content": null,
            "justify_items": null,
            "left": null,
            "margin": null,
            "max_height": null,
            "max_width": null,
            "min_height": null,
            "min_width": null,
            "object_fit": null,
            "object_position": null,
            "order": null,
            "overflow": null,
            "overflow_x": null,
            "overflow_y": null,
            "padding": null,
            "right": null,
            "top": null,
            "visibility": null,
            "width": null
          }
        },
        "e526fcfab6184253aed004e4fb48d404": {
          "model_module": "@jupyter-widgets/base",
          "model_module_version": "1.2.0",
          "model_name": "LayoutModel",
          "state": {
            "_model_module": "@jupyter-widgets/base",
            "_model_module_version": "1.2.0",
            "_model_name": "LayoutModel",
            "_view_count": null,
            "_view_module": "@jupyter-widgets/base",
            "_view_module_version": "1.2.0",
            "_view_name": "LayoutView",
            "align_content": null,
            "align_items": null,
            "align_self": null,
            "border": null,
            "bottom": null,
            "display": null,
            "flex": null,
            "flex_flow": null,
            "grid_area": null,
            "grid_auto_columns": null,
            "grid_auto_flow": null,
            "grid_auto_rows": null,
            "grid_column": null,
            "grid_gap": null,
            "grid_row": null,
            "grid_template_areas": null,
            "grid_template_columns": null,
            "grid_template_rows": null,
            "height": null,
            "justify_content": null,
            "justify_items": null,
            "left": null,
            "margin": null,
            "max_height": null,
            "max_width": null,
            "min_height": null,
            "min_width": null,
            "object_fit": null,
            "object_position": null,
            "order": null,
            "overflow": null,
            "overflow_x": null,
            "overflow_y": null,
            "padding": null,
            "right": null,
            "top": null,
            "visibility": null,
            "width": null
          }
        },
        "e8e6c5c68a6c4218bb0e5bc700d805ec": {
          "model_module": "@jupyter-widgets/base",
          "model_module_version": "1.2.0",
          "model_name": "LayoutModel",
          "state": {
            "_model_module": "@jupyter-widgets/base",
            "_model_module_version": "1.2.0",
            "_model_name": "LayoutModel",
            "_view_count": null,
            "_view_module": "@jupyter-widgets/base",
            "_view_module_version": "1.2.0",
            "_view_name": "LayoutView",
            "align_content": null,
            "align_items": null,
            "align_self": null,
            "border": null,
            "bottom": null,
            "display": null,
            "flex": null,
            "flex_flow": null,
            "grid_area": null,
            "grid_auto_columns": null,
            "grid_auto_flow": null,
            "grid_auto_rows": null,
            "grid_column": null,
            "grid_gap": null,
            "grid_row": null,
            "grid_template_areas": null,
            "grid_template_columns": null,
            "grid_template_rows": null,
            "height": null,
            "justify_content": null,
            "justify_items": null,
            "left": null,
            "margin": null,
            "max_height": null,
            "max_width": null,
            "min_height": null,
            "min_width": null,
            "object_fit": null,
            "object_position": null,
            "order": null,
            "overflow": null,
            "overflow_x": null,
            "overflow_y": null,
            "padding": null,
            "right": null,
            "top": null,
            "visibility": null,
            "width": null
          }
        },
        "e95b42e637db4e72b0498bf676281d79": {
          "model_module": "@jupyter-widgets/controls",
          "model_module_version": "1.5.0",
          "model_name": "DescriptionStyleModel",
          "state": {
            "_model_module": "@jupyter-widgets/controls",
            "_model_module_version": "1.5.0",
            "_model_name": "DescriptionStyleModel",
            "_view_count": null,
            "_view_module": "@jupyter-widgets/base",
            "_view_module_version": "1.2.0",
            "_view_name": "StyleView",
            "description_width": ""
          }
        },
        "eabdd2d92a7241278cf7d29db33464d4": {
          "model_module": "@jupyter-widgets/controls",
          "model_module_version": "1.5.0",
          "model_name": "HTMLModel",
          "state": {
            "_dom_classes": [],
            "_model_module": "@jupyter-widgets/controls",
            "_model_module_version": "1.5.0",
            "_model_name": "HTMLModel",
            "_view_count": null,
            "_view_module": "@jupyter-widgets/controls",
            "_view_module_version": "1.5.0",
            "_view_name": "HTMLView",
            "description": "",
            "description_tooltip": null,
            "layout": "IPY_MODEL_49e6b82e5e0048169f52baae192e1bc2",
            "placeholder": "​",
            "style": "IPY_MODEL_e95b42e637db4e72b0498bf676281d79",
            "value": "100%"
          }
        },
        "edb15624c3be45d2815bf738ead18f26": {
          "model_module": "@jupyter-widgets/base",
          "model_module_version": "1.2.0",
          "model_name": "LayoutModel",
          "state": {
            "_model_module": "@jupyter-widgets/base",
            "_model_module_version": "1.2.0",
            "_model_name": "LayoutModel",
            "_view_count": null,
            "_view_module": "@jupyter-widgets/base",
            "_view_module_version": "1.2.0",
            "_view_name": "LayoutView",
            "align_content": null,
            "align_items": null,
            "align_self": null,
            "border": null,
            "bottom": null,
            "display": null,
            "flex": null,
            "flex_flow": null,
            "grid_area": null,
            "grid_auto_columns": null,
            "grid_auto_flow": null,
            "grid_auto_rows": null,
            "grid_column": null,
            "grid_gap": null,
            "grid_row": null,
            "grid_template_areas": null,
            "grid_template_columns": null,
            "grid_template_rows": null,
            "height": null,
            "justify_content": null,
            "justify_items": null,
            "left": null,
            "margin": null,
            "max_height": null,
            "max_width": null,
            "min_height": null,
            "min_width": null,
            "object_fit": null,
            "object_position": null,
            "order": null,
            "overflow": null,
            "overflow_x": null,
            "overflow_y": null,
            "padding": null,
            "right": null,
            "top": null,
            "visibility": null,
            "width": null
          }
        },
        "fe51ee2560984c22a4486c3c37c79ce0": {
          "model_module": "@jupyter-widgets/controls",
          "model_module_version": "1.5.0",
          "model_name": "HTMLModel",
          "state": {
            "_dom_classes": [],
            "_model_module": "@jupyter-widgets/controls",
            "_model_module_version": "1.5.0",
            "_model_name": "HTMLModel",
            "_view_count": null,
            "_view_module": "@jupyter-widgets/controls",
            "_view_module_version": "1.5.0",
            "_view_name": "HTMLView",
            "description": "",
            "description_tooltip": null,
            "layout": "IPY_MODEL_b80f0c156d75471f8601aa92bd4326dc",
            "placeholder": "​",
            "style": "IPY_MODEL_6169c1d5270b4f94809facd9030d3411",
            "value": "100%"
          }
        },
        "ff840784c8f04fe6ba2c4c407138c7ae": {
          "model_module": "@jupyter-widgets/controls",
          "model_module_version": "1.5.0",
          "model_name": "DescriptionStyleModel",
          "state": {
            "_model_module": "@jupyter-widgets/controls",
            "_model_module_version": "1.5.0",
            "_model_name": "DescriptionStyleModel",
            "_view_count": null,
            "_view_module": "@jupyter-widgets/base",
            "_view_module_version": "1.2.0",
            "_view_name": "StyleView",
            "description_width": ""
          }
        }
      }
    }
  },
  "nbformat": 4,
  "nbformat_minor": 5
}
