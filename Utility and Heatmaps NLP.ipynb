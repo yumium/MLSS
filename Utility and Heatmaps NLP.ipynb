{
  "cells": [
    {
      "attachments": {},
      "cell_type": "markdown",
      "metadata": {
        "id": "dUZhvN3ieu-v"
      },
      "source": [
        "# Saliency Map for NLP (heatmap)\n",
        "\n",
        "In this notebook, we'll explore some examples of ML explanability and ethics. We begin with learning about how to generate heatmaps to visualize a per token model explanation.  We will be using the package `thermostat` which provides a score per token."
      ]
    },
    {
      "cell_type": "code",
      "execution_count": null,
      "metadata": {
        "colab": {
          "base_uri": "https://localhost:8080/"
        },
        "id": "MRYLeHaxeu-0",
        "outputId": "0d2a9e63-c3c8-4e3e-a700-f68eb1bdc5ed"
      },
      "outputs": [
        {
          "name": "stdout",
          "output_type": "stream",
          "text": [
            "Looking in indexes: https://pypi.org/simple, https://us-python.pkg.dev/colab-wheels/public/simple/\n",
            "Collecting transformers\n",
            "  Downloading transformers-4.21.1-py3-none-any.whl (4.7 MB)\n",
            "\u001b[K     |████████████████████████████████| 4.7 MB 5.1 MB/s \n",
            "\u001b[?25hRequirement already satisfied: regex!=2019.12.17 in /usr/local/lib/python3.7/dist-packages (from transformers) (2022.6.2)\n",
            "Requirement already satisfied: packaging>=20.0 in /usr/local/lib/python3.7/dist-packages (from transformers) (21.3)\n",
            "Requirement already satisfied: tqdm>=4.27 in /usr/local/lib/python3.7/dist-packages (from transformers) (4.64.0)\n",
            "Collecting tokenizers!=0.11.3,<0.13,>=0.11.1\n",
            "  Downloading tokenizers-0.12.1-cp37-cp37m-manylinux_2_12_x86_64.manylinux2010_x86_64.whl (6.6 MB)\n",
            "\u001b[K     |████████████████████████████████| 6.6 MB 31.8 MB/s \n",
            "\u001b[?25hRequirement already satisfied: requests in /usr/local/lib/python3.7/dist-packages (from transformers) (2.23.0)\n",
            "Collecting huggingface-hub<1.0,>=0.1.0\n",
            "  Downloading huggingface_hub-0.8.1-py3-none-any.whl (101 kB)\n",
            "\u001b[K     |████████████████████████████████| 101 kB 11.5 MB/s \n",
            "\u001b[?25hRequirement already satisfied: importlib-metadata in /usr/local/lib/python3.7/dist-packages (from transformers) (4.12.0)\n",
            "Collecting pyyaml>=5.1\n",
            "  Downloading PyYAML-6.0-cp37-cp37m-manylinux_2_5_x86_64.manylinux1_x86_64.manylinux_2_12_x86_64.manylinux2010_x86_64.whl (596 kB)\n",
            "\u001b[K     |████████████████████████████████| 596 kB 34.2 MB/s \n",
            "\u001b[?25hRequirement already satisfied: numpy>=1.17 in /usr/local/lib/python3.7/dist-packages (from transformers) (1.21.6)\n",
            "Requirement already satisfied: filelock in /usr/local/lib/python3.7/dist-packages (from transformers) (3.7.1)\n",
            "Requirement already satisfied: typing-extensions>=3.7.4.3 in /usr/local/lib/python3.7/dist-packages (from huggingface-hub<1.0,>=0.1.0->transformers) (4.1.1)\n",
            "Requirement already satisfied: pyparsing!=3.0.5,>=2.0.2 in /usr/local/lib/python3.7/dist-packages (from packaging>=20.0->transformers) (3.0.9)\n",
            "Requirement already satisfied: zipp>=0.5 in /usr/local/lib/python3.7/dist-packages (from importlib-metadata->transformers) (3.8.1)\n",
            "Requirement already satisfied: idna<3,>=2.5 in /usr/local/lib/python3.7/dist-packages (from requests->transformers) (2.10)\n",
            "Requirement already satisfied: certifi>=2017.4.17 in /usr/local/lib/python3.7/dist-packages (from requests->transformers) (2022.6.15)\n",
            "Requirement already satisfied: chardet<4,>=3.0.2 in /usr/local/lib/python3.7/dist-packages (from requests->transformers) (3.0.4)\n",
            "Requirement already satisfied: urllib3!=1.25.0,!=1.25.1,<1.26,>=1.21.1 in /usr/local/lib/python3.7/dist-packages (from requests->transformers) (1.24.3)\n",
            "Installing collected packages: pyyaml, tokenizers, huggingface-hub, transformers\n",
            "  Attempting uninstall: pyyaml\n",
            "    Found existing installation: PyYAML 3.13\n",
            "    Uninstalling PyYAML-3.13:\n",
            "      Successfully uninstalled PyYAML-3.13\n",
            "Successfully installed huggingface-hub-0.8.1 pyyaml-6.0 tokenizers-0.12.1 transformers-4.21.1\n",
            "Looking in indexes: https://pypi.org/simple, https://us-python.pkg.dev/colab-wheels/public/simple/\n",
            "Collecting sentencepiece\n",
            "  Downloading sentencepiece-0.1.97-cp37-cp37m-manylinux_2_17_x86_64.manylinux2014_x86_64.whl (1.3 MB)\n",
            "\u001b[K     |████████████████████████████████| 1.3 MB 5.0 MB/s \n",
            "\u001b[?25hInstalling collected packages: sentencepiece\n",
            "Successfully installed sentencepiece-0.1.97\n",
            "Looking in indexes: https://pypi.org/simple, https://us-python.pkg.dev/colab-wheels/public/simple/\n",
            "Collecting thermostat-datasets\n",
            "  Downloading thermostat_datasets-1.0.2.1-py3-none-any.whl (38 kB)\n",
            "Collecting pytorch-ignite\n",
            "  Downloading pytorch_ignite-0.4.9-py3-none-any.whl (259 kB)\n",
            "\u001b[K     |████████████████████████████████| 259 kB 8.3 MB/s \n",
            "\u001b[?25hRequirement already satisfied: protobuf in /usr/local/lib/python3.7/dist-packages (from thermostat-datasets) (3.17.3)\n",
            "Requirement already satisfied: numpy>=1.20 in /usr/local/lib/python3.7/dist-packages (from thermostat-datasets) (1.21.6)\n",
            "Requirement already satisfied: pandas in /usr/local/lib/python3.7/dist-packages (from thermostat-datasets) (1.3.5)\n",
            "Requirement already satisfied: transformers>=4.5 in /usr/local/lib/python3.7/dist-packages (from thermostat-datasets) (4.21.1)\n",
            "Requirement already satisfied: sentencepiece in /usr/local/lib/python3.7/dist-packages (from thermostat-datasets) (0.1.97)\n",
            "Requirement already satisfied: tqdm>=4.49 in /usr/local/lib/python3.7/dist-packages (from thermostat-datasets) (4.64.0)\n",
            "Collecting overrides\n",
            "  Downloading overrides-6.2.0-py3-none-any.whl (17 kB)\n",
            "Collecting jsonnet-binary\n",
            "  Downloading jsonnet_binary-0.17.0-cp37-cp37m-manylinux2010_x86_64.whl (4.9 MB)\n",
            "\u001b[K     |████████████████████████████████| 4.9 MB 54.3 MB/s \n",
            "\u001b[?25hCollecting captum>=0.3\n",
            "  Downloading captum-0.5.0-py3-none-any.whl (1.4 MB)\n",
            "\u001b[K     |████████████████████████████████| 1.4 MB 47.8 MB/s \n",
            "\u001b[?25hRequirement already satisfied: sklearn in /usr/local/lib/python3.7/dist-packages (from thermostat-datasets) (0.0)\n",
            "Requirement already satisfied: scipy in /usr/local/lib/python3.7/dist-packages (from thermostat-datasets) (1.7.3)\n",
            "Collecting datasets>=1.5\n",
            "  Downloading datasets-2.4.0-py3-none-any.whl (365 kB)\n",
            "\u001b[K     |████████████████████████████████| 365 kB 41.9 MB/s \n",
            "\u001b[?25hRequirement already satisfied: spacy>=3.0 in /usr/local/lib/python3.7/dist-packages (from thermostat-datasets) (3.4.1)\n",
            "Requirement already satisfied: torch in /usr/local/lib/python3.7/dist-packages (from thermostat-datasets) (1.12.1+cu113)\n",
            "Requirement already satisfied: matplotlib in /usr/local/lib/python3.7/dist-packages (from captum>=0.3->thermostat-datasets) (3.2.2)\n",
            "Requirement already satisfied: huggingface-hub<1.0.0,>=0.1.0 in /usr/local/lib/python3.7/dist-packages (from datasets>=1.5->thermostat-datasets) (0.8.1)\n",
            "Collecting fsspec[http]>=2021.11.1\n",
            "  Downloading fsspec-2022.7.1-py3-none-any.whl (141 kB)\n",
            "\u001b[K     |████████████████████████████████| 141 kB 61.0 MB/s \n",
            "\u001b[?25hCollecting xxhash\n",
            "  Downloading xxhash-3.0.0-cp37-cp37m-manylinux_2_17_x86_64.manylinux2014_x86_64.whl (212 kB)\n",
            "\u001b[K     |████████████████████████████████| 212 kB 56.4 MB/s \n",
            "\u001b[?25hCollecting responses<0.19\n",
            "  Downloading responses-0.18.0-py3-none-any.whl (38 kB)\n",
            "Requirement already satisfied: aiohttp in /usr/local/lib/python3.7/dist-packages (from datasets>=1.5->thermostat-datasets) (3.8.1)\n",
            "Requirement already satisfied: packaging in /usr/local/lib/python3.7/dist-packages (from datasets>=1.5->thermostat-datasets) (21.3)\n",
            "Requirement already satisfied: dill<0.3.6 in /usr/local/lib/python3.7/dist-packages (from datasets>=1.5->thermostat-datasets) (0.3.5.1)\n",
            "Requirement already satisfied: requests>=2.19.0 in /usr/local/lib/python3.7/dist-packages (from datasets>=1.5->thermostat-datasets) (2.23.0)\n",
            "Collecting multiprocess\n",
            "  Downloading multiprocess-0.70.13-py37-none-any.whl (115 kB)\n",
            "\u001b[K     |████████████████████████████████| 115 kB 51.1 MB/s \n",
            "\u001b[?25hRequirement already satisfied: pyarrow>=6.0.0 in /usr/local/lib/python3.7/dist-packages (from datasets>=1.5->thermostat-datasets) (6.0.1)\n",
            "Requirement already satisfied: importlib-metadata in /usr/local/lib/python3.7/dist-packages (from datasets>=1.5->thermostat-datasets) (4.12.0)\n",
            "Requirement already satisfied: typing-extensions>=3.7.4.3 in /usr/local/lib/python3.7/dist-packages (from huggingface-hub<1.0.0,>=0.1.0->datasets>=1.5->thermostat-datasets) (4.1.1)\n",
            "Requirement already satisfied: pyyaml>=5.1 in /usr/local/lib/python3.7/dist-packages (from huggingface-hub<1.0.0,>=0.1.0->datasets>=1.5->thermostat-datasets) (6.0)\n",
            "Requirement already satisfied: filelock in /usr/local/lib/python3.7/dist-packages (from huggingface-hub<1.0.0,>=0.1.0->datasets>=1.5->thermostat-datasets) (3.7.1)\n",
            "Requirement already satisfied: pyparsing!=3.0.5,>=2.0.2 in /usr/local/lib/python3.7/dist-packages (from packaging->datasets>=1.5->thermostat-datasets) (3.0.9)\n",
            "Requirement already satisfied: chardet<4,>=3.0.2 in /usr/local/lib/python3.7/dist-packages (from requests>=2.19.0->datasets>=1.5->thermostat-datasets) (3.0.4)\n",
            "Requirement already satisfied: urllib3!=1.25.0,!=1.25.1,<1.26,>=1.21.1 in /usr/local/lib/python3.7/dist-packages (from requests>=2.19.0->datasets>=1.5->thermostat-datasets) (1.24.3)\n",
            "Requirement already satisfied: certifi>=2017.4.17 in /usr/local/lib/python3.7/dist-packages (from requests>=2.19.0->datasets>=1.5->thermostat-datasets) (2022.6.15)\n",
            "Requirement already satisfied: idna<3,>=2.5 in /usr/local/lib/python3.7/dist-packages (from requests>=2.19.0->datasets>=1.5->thermostat-datasets) (2.10)\n",
            "Collecting urllib3!=1.25.0,!=1.25.1,<1.26,>=1.21.1\n",
            "  Downloading urllib3-1.25.11-py2.py3-none-any.whl (127 kB)\n",
            "\u001b[K     |████████████████████████████████| 127 kB 48.2 MB/s \n",
            "\u001b[?25hRequirement already satisfied: langcodes<4.0.0,>=3.2.0 in /usr/local/lib/python3.7/dist-packages (from spacy>=3.0->thermostat-datasets) (3.3.0)\n",
            "Requirement already satisfied: spacy-loggers<2.0.0,>=1.0.0 in /usr/local/lib/python3.7/dist-packages (from spacy>=3.0->thermostat-datasets) (1.0.3)\n",
            "Requirement already satisfied: jinja2 in /usr/local/lib/python3.7/dist-packages (from spacy>=3.0->thermostat-datasets) (2.11.3)\n",
            "Requirement already satisfied: wasabi<1.1.0,>=0.9.1 in /usr/local/lib/python3.7/dist-packages (from spacy>=3.0->thermostat-datasets) (0.10.1)\n",
            "Requirement already satisfied: pydantic!=1.8,!=1.8.1,<1.10.0,>=1.7.4 in /usr/local/lib/python3.7/dist-packages (from spacy>=3.0->thermostat-datasets) (1.9.1)\n",
            "Requirement already satisfied: typer<0.5.0,>=0.3.0 in /usr/local/lib/python3.7/dist-packages (from spacy>=3.0->thermostat-datasets) (0.4.2)\n",
            "Requirement already satisfied: murmurhash<1.1.0,>=0.28.0 in /usr/local/lib/python3.7/dist-packages (from spacy>=3.0->thermostat-datasets) (1.0.7)\n",
            "Requirement already satisfied: pathy>=0.3.5 in /usr/local/lib/python3.7/dist-packages (from spacy>=3.0->thermostat-datasets) (0.6.2)\n",
            "Requirement already satisfied: catalogue<2.1.0,>=2.0.6 in /usr/local/lib/python3.7/dist-packages (from spacy>=3.0->thermostat-datasets) (2.0.8)\n",
            "Requirement already satisfied: thinc<8.2.0,>=8.1.0 in /usr/local/lib/python3.7/dist-packages (from spacy>=3.0->thermostat-datasets) (8.1.0)\n",
            "Requirement already satisfied: setuptools in /usr/local/lib/python3.7/dist-packages (from spacy>=3.0->thermostat-datasets) (57.4.0)\n",
            "Requirement already satisfied: cymem<2.1.0,>=2.0.2 in /usr/local/lib/python3.7/dist-packages (from spacy>=3.0->thermostat-datasets) (2.0.6)\n",
            "Requirement already satisfied: spacy-legacy<3.1.0,>=3.0.9 in /usr/local/lib/python3.7/dist-packages (from spacy>=3.0->thermostat-datasets) (3.0.9)\n",
            "Requirement already satisfied: srsly<3.0.0,>=2.4.3 in /usr/local/lib/python3.7/dist-packages (from spacy>=3.0->thermostat-datasets) (2.4.4)\n",
            "Requirement already satisfied: preshed<3.1.0,>=3.0.2 in /usr/local/lib/python3.7/dist-packages (from spacy>=3.0->thermostat-datasets) (3.0.6)\n",
            "Requirement already satisfied: zipp>=0.5 in /usr/local/lib/python3.7/dist-packages (from catalogue<2.1.0,>=2.0.6->spacy>=3.0->thermostat-datasets) (3.8.1)\n",
            "Requirement already satisfied: smart-open<6.0.0,>=5.2.1 in /usr/local/lib/python3.7/dist-packages (from pathy>=0.3.5->spacy>=3.0->thermostat-datasets) (5.2.1)\n",
            "Requirement already satisfied: blis<0.8.0,>=0.7.8 in /usr/local/lib/python3.7/dist-packages (from thinc<8.2.0,>=8.1.0->spacy>=3.0->thermostat-datasets) (0.7.8)\n",
            "Requirement already satisfied: tokenizers!=0.11.3,<0.13,>=0.11.1 in /usr/local/lib/python3.7/dist-packages (from transformers>=4.5->thermostat-datasets) (0.12.1)\n",
            "Requirement already satisfied: regex!=2019.12.17 in /usr/local/lib/python3.7/dist-packages (from transformers>=4.5->thermostat-datasets) (2022.6.2)\n",
            "Requirement already satisfied: click<9.0.0,>=7.1.1 in /usr/local/lib/python3.7/dist-packages (from typer<0.5.0,>=0.3.0->spacy>=3.0->thermostat-datasets) (7.1.2)\n",
            "Requirement already satisfied: async-timeout<5.0,>=4.0.0a3 in /usr/local/lib/python3.7/dist-packages (from aiohttp->datasets>=1.5->thermostat-datasets) (4.0.2)\n",
            "Requirement already satisfied: charset-normalizer<3.0,>=2.0 in /usr/local/lib/python3.7/dist-packages (from aiohttp->datasets>=1.5->thermostat-datasets) (2.1.0)\n",
            "Requirement already satisfied: aiosignal>=1.1.2 in /usr/local/lib/python3.7/dist-packages (from aiohttp->datasets>=1.5->thermostat-datasets) (1.2.0)\n",
            "Requirement already satisfied: frozenlist>=1.1.1 in /usr/local/lib/python3.7/dist-packages (from aiohttp->datasets>=1.5->thermostat-datasets) (1.3.1)\n",
            "Requirement already satisfied: yarl<2.0,>=1.0 in /usr/local/lib/python3.7/dist-packages (from aiohttp->datasets>=1.5->thermostat-datasets) (1.8.1)\n",
            "Requirement already satisfied: asynctest==0.13.0 in /usr/local/lib/python3.7/dist-packages (from aiohttp->datasets>=1.5->thermostat-datasets) (0.13.0)\n",
            "Requirement already satisfied: multidict<7.0,>=4.5 in /usr/local/lib/python3.7/dist-packages (from aiohttp->datasets>=1.5->thermostat-datasets) (6.0.2)\n",
            "Requirement already satisfied: attrs>=17.3.0 in /usr/local/lib/python3.7/dist-packages (from aiohttp->datasets>=1.5->thermostat-datasets) (22.1.0)\n",
            "Requirement already satisfied: MarkupSafe>=0.23 in /usr/local/lib/python3.7/dist-packages (from jinja2->spacy>=3.0->thermostat-datasets) (2.0.1)\n",
            "Requirement already satisfied: cycler>=0.10 in /usr/local/lib/python3.7/dist-packages (from matplotlib->captum>=0.3->thermostat-datasets) (0.11.0)\n",
            "Requirement already satisfied: kiwisolver>=1.0.1 in /usr/local/lib/python3.7/dist-packages (from matplotlib->captum>=0.3->thermostat-datasets) (1.4.4)\n",
            "Requirement already satisfied: python-dateutil>=2.1 in /usr/local/lib/python3.7/dist-packages (from matplotlib->captum>=0.3->thermostat-datasets) (2.8.2)\n",
            "Requirement already satisfied: six>=1.5 in /usr/local/lib/python3.7/dist-packages (from python-dateutil>=2.1->matplotlib->captum>=0.3->thermostat-datasets) (1.15.0)\n",
            "Requirement already satisfied: pytz>=2017.3 in /usr/local/lib/python3.7/dist-packages (from pandas->thermostat-datasets) (2022.1)\n",
            "Requirement already satisfied: scikit-learn in /usr/local/lib/python3.7/dist-packages (from sklearn->thermostat-datasets) (1.0.2)\n",
            "Requirement already satisfied: threadpoolctl>=2.0.0 in /usr/local/lib/python3.7/dist-packages (from scikit-learn->sklearn->thermostat-datasets) (3.1.0)\n",
            "Requirement already satisfied: joblib>=0.11 in /usr/local/lib/python3.7/dist-packages (from scikit-learn->sklearn->thermostat-datasets) (1.1.0)\n",
            "Installing collected packages: urllib3, fsspec, xxhash, responses, multiprocess, pytorch-ignite, overrides, jsonnet-binary, datasets, captum, thermostat-datasets\n",
            "  Attempting uninstall: urllib3\n",
            "    Found existing installation: urllib3 1.24.3\n",
            "    Uninstalling urllib3-1.24.3:\n",
            "      Successfully uninstalled urllib3-1.24.3\n",
            "Successfully installed captum-0.5.0 datasets-2.4.0 fsspec-2022.7.1 jsonnet-binary-0.17.0 multiprocess-0.70.13 overrides-6.2.0 pytorch-ignite-0.4.9 responses-0.18.0 thermostat-datasets-1.0.2.1 urllib3-1.25.11 xxhash-3.0.0\n"
          ]
        }
      ],
      "source": [
        "#remove the %%capture line if you want to see installation info\n",
        "#%%capture\n",
        "\n",
        "!pip install transformers;\n",
        "!pip install sentencepiece;\n",
        "!pip install thermostat-datasets;"
      ]
    },
    {
      "cell_type": "code",
      "execution_count": null,
      "metadata": {
        "id": "4luJmCcYeu-3"
      },
      "outputs": [],
      "source": [
        "import thermostat\n",
        "\n",
        "import pandas as pd\n",
        "import numpy as np\n",
        "\n",
        "import matplotlib.pyplot as plt\n",
        "import matplotlib as mpl\n",
        "from matplotlib import cm"
      ]
    },
    {
      "attachments": {},
      "cell_type": "markdown",
      "metadata": {
        "id": "zeu5P-D8eu-4"
      },
      "source": [
        "## Load dataset\n",
        "Use the `load` function in `thermostat` to load a Thermostats dataset. The parameter is an identifier string with three basic coordinates: dataset, model, and explainer. In the below cell, the dataset is IMDB (sentiment analysis on movie reviews), the model is a BERT model fine-tuned on the IMDB data, the explanations are generated using a (Layer) Integrated Gradients explainer."
      ]
    },
    {
      "cell_type": "code",
      "execution_count": null,
      "metadata": {
        "colab": {
          "base_uri": "https://localhost:8080/",
          "height": 104,
          "referenced_widgets": [
            "a22d692d214e4eaf9aaf260ad42a6f90",
            "7d81a14ec58f4d85b52158f3951fe182",
            "87a93f4495894323bc3ae10d92fac067",
            "51104b6163114ea0bf8b6fa773c427ba",
            "7c24dc745e6c40aba6df82054b7a87ac",
            "c066c1e1e60c4e0c9c7938ca2bbac9f6",
            "94224ab4585e4ef7b179d23c7de84588",
            "14a55192d8a644c099de7e13cc229c37",
            "0402002b45634aec9c76899e27e211d5",
            "448f44188d284cbf9b353461aabd0ee3",
            "4465308e109a480b812b97b7d73b1ac3",
            "f58fd490167946a1bf76d0f4dd080a40",
            "7f90a7ec0b62445bac8ec26af2a6384a",
            "3c81a50d54d54ee2859ecc0e9ad9831d",
            "e1313fd5efa8415dbd5e1967cbc6d3c6",
            "b898b567369a48ac9de38a2c9a37c2ad",
            "11e319f069c847a18afc366c50b75a19",
            "e3d78c544200471ba9d8141b83063d1a",
            "58db09624eea4f4c8aeec182af744c0a",
            "943d80ee1dea42e68949fa2e499b3de0",
            "171c10bf4773446cb653293fc254e055",
            "2a4b449f6a6642438e89904ca5cf700b"
          ]
        },
        "id": "mzAPBubteu-4",
        "outputId": "a621708e-a852-4338-d514-4246489b2bba"
      },
      "outputs": [
        {
          "name": "stdout",
          "output_type": "stream",
          "text": [
            "Loading Thermostat configuration: imdb-bert-lig\n",
            "Downloading and preparing dataset dataset/imdb-bert-lig to /root/.cache/huggingface/datasets/dataset/imdb-bert-lig/1.0.2/0cbe93e1fbe5b8ed0217559442d8b49a80fd4c2787185f2d7940817c67d8707b...\n"
          ]
        },
        {
          "data": {
            "application/vnd.jupyter.widget-view+json": {
              "model_id": "a22d692d214e4eaf9aaf260ad42a6f90",
              "version_major": 2,
              "version_minor": 0
            },
            "text/plain": [
              "Downloading data:   0%|          | 0.00/264M [00:00<?, ?B/s]"
            ]
          },
          "metadata": {},
          "output_type": "display_data"
        },
        {
          "data": {
            "application/vnd.jupyter.widget-view+json": {
              "model_id": "f58fd490167946a1bf76d0f4dd080a40",
              "version_major": 2,
              "version_minor": 0
            },
            "text/plain": [
              "Generating test split: 0 examples [00:00, ? examples/s]"
            ]
          },
          "metadata": {},
          "output_type": "display_data"
        },
        {
          "name": "stdout",
          "output_type": "stream",
          "text": [
            "Dataset dataset downloaded and prepared to /root/.cache/huggingface/datasets/dataset/imdb-bert-lig/1.0.2/0cbe93e1fbe5b8ed0217559442d8b49a80fd4c2787185f2d7940817c67d8707b. Subsequent calls will reuse this data.\n"
          ]
        }
      ],
      "source": [
        "data = thermostat.load(\"imdb-bert-lig\")"
      ]
    },
    {
      "cell_type": "markdown",
      "metadata": {
        "id": "7xKX996ieu-4"
      },
      "source": [
        "Each instance in the dataset has its index, attributions, true label, and predicted label by the model."
      ]
    },
    {
      "cell_type": "code",
      "execution_count": null,
      "metadata": {
        "colab": {
          "base_uri": "https://localhost:8080/",
          "height": 218,
          "referenced_widgets": [
            "92af0b1dfbed4a53bffa6577eebe2d65",
            "1abb72f8903f448fbce5b2ab804d77d1",
            "e53acbecd6744d1383dd77b61cab8fb4",
            "69a52c344d4d46068150c0bc5c749163",
            "20affd7d336c499aa04e4a4ba1402b46",
            "86a4e278c31e48cdb4128210adeed191",
            "c0e75aee7daa4ee49399d9a34544ee9f",
            "1e736e9c449b4f9486cb726c8b3eaf87",
            "e8b2999c69994ea6bd34355777bd8dc5",
            "6c2d671f89d141a19dfde5b34d07a507",
            "d8bc9679551d4f8aafe262757528f411",
            "3f89f352266b4122941265ceab56ebe7",
            "22bff93a97b0463da6bb64dff42e447e",
            "2a25dc9f2bc9487c93af093da3ec3e8a",
            "43ff17f6c13d4339b84bca89aaa5b6ba",
            "d1c2473990d74357986a746d52cbd5e7",
            "28f499933c694279ad563fcdc476ffe7",
            "13cba44f1ece4c908bfd308587c46124",
            "b5ba35fd3fa448d69352c514365d8814",
            "74b978c3e30b49a99c2676e84f3b231c",
            "4383e20c67e941a1859d076280716e23",
            "5e1291f3d0904bcd9e3126da1484e0c6",
            "5381ea8b69b24984b5d1a4d296e48f3b",
            "e729f98c31084a129557a116f68d7adc",
            "03dd4c7bc8f84e53bcd019bc8e372b92",
            "5b3b55c7cf6947718edba1abaf00640e",
            "d94b35921da2428a92c4d21d696f438e",
            "3141b9a87dea48bd863830434d0407d5",
            "d34e28d41efe4ef98bdf016eed8e4648",
            "66f5ba880a534e8f95b532e69c1f1fb5",
            "3a6bfa84119548fcb0b15a3fd844b49d",
            "519bb2f12ce6406cbcd9af89a0a8cfd0",
            "62f4d770b8b34a90be8a3ed8da3436df",
            "aa1722c2b3b148ce85a70e821447c19a",
            "8737287942e347adabcbc04233bbce47",
            "ea646960d1d44bc8a1a8fad8ca5b88a0",
            "d97f505a11bb485790966a7beac5c011",
            "f604592b1f9248ba9de46e233a9a308b",
            "c0792a43771c47cf904c2c339dfe8c67",
            "a576b3c86f2d47f89442ba45642a4559",
            "f81e4fd5a3e94814bca2cf01c4f2393b",
            "86623918f81c4e33a012f4f6c76cc966",
            "89960ca1a89847a9b8ebccd0eee7afd2",
            "65cf73a4871140be957e298878515e0d"
          ]
        },
        "id": "DZxpI96Teu-5",
        "outputId": "3871ee3d-81da-4366-824c-c6679579a699"
      },
      "outputs": [
        {
          "data": {
            "application/vnd.jupyter.widget-view+json": {
              "model_id": "92af0b1dfbed4a53bffa6577eebe2d65",
              "version_major": 2,
              "version_minor": 0
            },
            "text/plain": [
              "Downloading tokenizer_config.json:   0%|          | 0.00/48.0 [00:00<?, ?B/s]"
            ]
          },
          "metadata": {},
          "output_type": "display_data"
        },
        {
          "data": {
            "application/vnd.jupyter.widget-view+json": {
              "model_id": "3f89f352266b4122941265ceab56ebe7",
              "version_major": 2,
              "version_minor": 0
            },
            "text/plain": [
              "Downloading config.json:   0%|          | 0.00/511 [00:00<?, ?B/s]"
            ]
          },
          "metadata": {},
          "output_type": "display_data"
        },
        {
          "data": {
            "application/vnd.jupyter.widget-view+json": {
              "model_id": "5381ea8b69b24984b5d1a4d296e48f3b",
              "version_major": 2,
              "version_minor": 0
            },
            "text/plain": [
              "Downloading vocab.txt:   0%|          | 0.00/226k [00:00<?, ?B/s]"
            ]
          },
          "metadata": {},
          "output_type": "display_data"
        },
        {
          "data": {
            "application/vnd.jupyter.widget-view+json": {
              "model_id": "aa1722c2b3b148ce85a70e821447c19a",
              "version_major": 2,
              "version_minor": 0
            },
            "text/plain": [
              "Downloading special_tokens_map.json:   0%|          | 0.00/112 [00:00<?, ?B/s]"
            ]
          },
          "metadata": {},
          "output_type": "display_data"
        },
        {
          "name": "stdout",
          "output_type": "stream",
          "text": [
            "Index: 250\n",
            "Attributions (first 5): [0.0, 0.2166113704442978, 0.034326110035181046, 0.1554376184940338, 0.06493246555328369]\n",
            "True label: pos\n",
            "Predicted label: pos\n"
          ]
        }
      ],
      "source": [
        "instance = data[250]\n",
        "\n",
        "print(f'Index: {instance.idx}')\n",
        "print(f'Attributions (first 5): {instance.attributions[:5]}')\n",
        "print(f'True label: {instance.true_label}')\n",
        "print(f'Predicted label: {instance.predicted_label}')"
      ]
    },
    {
      "cell_type": "markdown",
      "metadata": {
        "id": "mYrfYWdAeu-6"
      },
      "source": [
        "## Visualization Interpretability\n",
        "The `explanation` attribute of the instance stores a tuple-based heatmap with the token, the attribution, and the token index as elements."
      ]
    },
    {
      "cell_type": "code",
      "execution_count": null,
      "metadata": {
        "colab": {
          "base_uri": "https://localhost:8080/"
        },
        "id": "Gqn3om7-eu-7",
        "outputId": "2618f676-5b0e-4910-ed0c-da23852e71e5"
      },
      "outputs": [
        {
          "name": "stdout",
          "output_type": "stream",
          "text": [
            "('[CLS]', 0.0, 0)\n",
            "('this', 0.2166113704442978, 1)\n",
            "('movie', 0.034326110035181046, 2)\n",
            "('is', 0.1554376184940338, 3)\n",
            "('a', 0.06493246555328369, 4)\n"
          ]
        }
      ],
      "source": [
        "for tup in instance.explanation[:5]:\n",
        "  print(tup)"
      ]
    },
    {
      "cell_type": "markdown",
      "metadata": {
        "id": "QCwK8aVH4Vnt"
      },
      "source": [
        "The `thermostat` package has a `render()` function that can visualize the attributions of the instance as a heatmap. Unfortunately due to its incompatibility with Google colab, we cannot use it here. So, we have a `render()` function on our own that visualizes the heatmap."
      ]
    },
    {
      "cell_type": "code",
      "execution_count": null,
      "metadata": {
        "id": "jtUnJTAWr7RT"
      },
      "outputs": [],
      "source": [
        "def visualize(instance):\n",
        "    word2Attr = {tup[0]: tup[1] for tup in instance.explanation}\n",
        "    sentence = list(word2Attr.keys())\n",
        "    attrs = list(word2Attr.values())\n",
        "\n",
        "    df = pd.DataFrame(sentence)\n",
        "\n",
        "    max_attr = max(attrs)\n",
        "    min_attr = min(attrs)\n",
        "\n",
        "    cmap = plt.get_cmap(\"viridis\")\n",
        "    norm = mpl.colors.Normalize(vmin = min_attr, vmax=min_attr + (max_attr - min_attr) * 1.2)\n",
        "    scalarMap = cm.ScalarMappable(norm=norm, cmap=cmap)\n",
        "\n",
        "    def word2Color(word):\n",
        "        rgb = scalarMap.to_rgba(word2Attr[word])[:-1]\n",
        "        code = round(255 * rgb[0]) * 256**2 + round(255 * rgb[1]) * 256 + round(255 * rgb[2])\n",
        "        return 'background-color: #%s' % (hex(code)[2:])\n",
        "\n",
        "    df = df.T\n",
        "    return df.style.hide_index().hide_columns().applymap(lambda word: word2Color(word))"
      ]
    },
    {
      "cell_type": "code",
      "execution_count": null,
      "metadata": {
        "colab": {
          "base_uri": "https://localhost:8080/",
          "height": 68
        },
        "id": "LXn35NgSmk9a",
        "outputId": "fb1cb4e3-8867-413b-e3e2-80a4682bfe94"
      },
      "outputs": [
        {
          "data": {
            "text/html": [
              "<style type=\"text/css\">\n",
              "#T_fec8c_row0_col0, #T_fec8c_row0_col38 {\n",
              "  background-color: #414487;\n",
              "}\n",
              "#T_fec8c_row0_col1 {\n",
              "  background-color: #90d743;\n",
              "}\n",
              "#T_fec8c_row0_col2, #T_fec8c_row0_col8 {\n",
              "  background-color: #482173;\n",
              "}\n",
              "#T_fec8c_row0_col3 {\n",
              "  background-color: #3c4f8a;\n",
              "}\n",
              "#T_fec8c_row0_col4 {\n",
              "  background-color: #3f4788;\n",
              "}\n",
              "#T_fec8c_row0_col5, #T_fec8c_row0_col16 {\n",
              "  background-color: #424186;\n",
              "}\n",
              "#T_fec8c_row0_col6 {\n",
              "  background-color: #3b518b;\n",
              "}\n",
              "#T_fec8c_row0_col7 {\n",
              "  background-color: #472d7b;\n",
              "}\n",
              "#T_fec8c_row0_col9 {\n",
              "  background-color: #463480;\n",
              "}\n",
              "#T_fec8c_row0_col10 {\n",
              "  background-color: #414287;\n",
              "}\n",
              "#T_fec8c_row0_col11 {\n",
              "  background-color: #46327e;\n",
              "}\n",
              "#T_fec8c_row0_col12 {\n",
              "  background-color: #482071;\n",
              "}\n",
              "#T_fec8c_row0_col13, #T_fec8c_row0_col15 {\n",
              "  background-color: #3f4889;\n",
              "}\n",
              "#T_fec8c_row0_col14, #T_fec8c_row0_col27 {\n",
              "  background-color: #3e4a89;\n",
              "}\n",
              "#T_fec8c_row0_col17 {\n",
              "  background-color: #482677;\n",
              "}\n",
              "#T_fec8c_row0_col18 {\n",
              "  background-color: #443a83;\n",
              "}\n",
              "#T_fec8c_row0_col19 {\n",
              "  background-color: #2c718e;\n",
              "}\n",
              "#T_fec8c_row0_col20 {\n",
              "  background-color: #46337f;\n",
              "}\n",
              "#T_fec8c_row0_col21 {\n",
              "  background-color: #46307e;\n",
              "}\n",
              "#T_fec8c_row0_col22 {\n",
              "  background-color: #404588;\n",
              "}\n",
              "#T_fec8c_row0_col23 {\n",
              "  background-color: #433d84;\n",
              "}\n",
              "#T_fec8c_row0_col24 {\n",
              "  background-color: #443b84;\n",
              "}\n",
              "#T_fec8c_row0_col25 {\n",
              "  background-color: #365c8d;\n",
              "}\n",
              "#T_fec8c_row0_col26 {\n",
              "  background-color: #450457;\n",
              "}\n",
              "#T_fec8c_row0_col28 {\n",
              "  background-color: #3d4d8a;\n",
              "}\n",
              "#T_fec8c_row0_col29 {\n",
              "  background-color: #5cc863;\n",
              "}\n",
              "#T_fec8c_row0_col30 {\n",
              "  background-color: #440154;\n",
              "}\n",
              "#T_fec8c_row0_col31 {\n",
              "  background-color: #39558c;\n",
              "}\n",
              "#T_fec8c_row0_col32 {\n",
              "  background-color: #48c16e;\n",
              "}\n",
              "#T_fec8c_row0_col33 {\n",
              "  background-color: #472e7c;\n",
              "}\n",
              "#T_fec8c_row0_col34 {\n",
              "  background-color: #25ac82;\n",
              "}\n",
              "#T_fec8c_row0_col35 {\n",
              "  background-color: #2a768e;\n",
              "}\n",
              "#T_fec8c_row0_col36 {\n",
              "  background-color: #2f6c8e;\n",
              "}\n",
              "#T_fec8c_row0_col37 {\n",
              "  background-color: #24aa83;\n",
              "}\n",
              "</style>\n",
              "<table id=\"T_fec8c_\" class=\"dataframe\">\n",
              "  <thead>\n",
              "  </thead>\n",
              "  <tbody>\n",
              "    <tr>\n",
              "      <td id=\"T_fec8c_row0_col0\" class=\"data row0 col0\" >[CLS]</td>\n",
              "      <td id=\"T_fec8c_row0_col1\" class=\"data row0 col1\" >amazing</td>\n",
              "      <td id=\"T_fec8c_row0_col2\" class=\"data row0 col2\" >movie</td>\n",
              "      <td id=\"T_fec8c_row0_col3\" class=\"data row0 col3\" >.</td>\n",
              "      <td id=\"T_fec8c_row0_col4\" class=\"data row0 col4\" >some</td>\n",
              "      <td id=\"T_fec8c_row0_col5\" class=\"data row0 col5\" >of</td>\n",
              "      <td id=\"T_fec8c_row0_col6\" class=\"data row0 col6\" >the</td>\n",
              "      <td id=\"T_fec8c_row0_col7\" class=\"data row0 col7\" >script</td>\n",
              "      <td id=\"T_fec8c_row0_col8\" class=\"data row0 col8\" >writing</td>\n",
              "      <td id=\"T_fec8c_row0_col9\" class=\"data row0 col9\" >could</td>\n",
              "      <td id=\"T_fec8c_row0_col10\" class=\"data row0 col10\" >have</td>\n",
              "      <td id=\"T_fec8c_row0_col11\" class=\"data row0 col11\" >been</td>\n",
              "      <td id=\"T_fec8c_row0_col12\" class=\"data row0 col12\" >better</td>\n",
              "      <td id=\"T_fec8c_row0_col13\" class=\"data row0 col13\" >(</td>\n",
              "      <td id=\"T_fec8c_row0_col14\" class=\"data row0 col14\" >cl</td>\n",
              "      <td id=\"T_fec8c_row0_col15\" class=\"data row0 col15\" >##iche</td>\n",
              "      <td id=\"T_fec8c_row0_col16\" class=\"data row0 col16\" >##d</td>\n",
              "      <td id=\"T_fec8c_row0_col17\" class=\"data row0 col17\" >language</td>\n",
              "      <td id=\"T_fec8c_row0_col18\" class=\"data row0 col18\" >)</td>\n",
              "      <td id=\"T_fec8c_row0_col19\" class=\"data row0 col19\" >joyce</td>\n",
              "      <td id=\"T_fec8c_row0_col20\" class=\"data row0 col20\" >'</td>\n",
              "      <td id=\"T_fec8c_row0_col21\" class=\"data row0 col21\" >s</td>\n",
              "      <td id=\"T_fec8c_row0_col22\" class=\"data row0 col22\" >\"</td>\n",
              "      <td id=\"T_fec8c_row0_col23\" class=\"data row0 col23\" >dead</td>\n",
              "      <td id=\"T_fec8c_row0_col24\" class=\"data row0 col24\" >is</td>\n",
              "      <td id=\"T_fec8c_row0_col25\" class=\"data row0 col25\" >all</td>\n",
              "      <td id=\"T_fec8c_row0_col26\" class=\"data row0 col26\" >##uded</td>\n",
              "      <td id=\"T_fec8c_row0_col27\" class=\"data row0 col27\" >to</td>\n",
              "      <td id=\"T_fec8c_row0_col28\" class=\"data row0 col28\" >throughout</td>\n",
              "      <td id=\"T_fec8c_row0_col29\" class=\"data row0 col29\" >beautiful</td>\n",
              "      <td id=\"T_fec8c_row0_col30\" class=\"data row0 col30\" >scenery</td>\n",
              "      <td id=\"T_fec8c_row0_col31\" class=\"data row0 col31\" >and</td>\n",
              "      <td id=\"T_fec8c_row0_col32\" class=\"data row0 col32\" >great</td>\n",
              "      <td id=\"T_fec8c_row0_col33\" class=\"data row0 col33\" >acting</td>\n",
              "      <td id=\"T_fec8c_row0_col34\" class=\"data row0 col34\" >very</td>\n",
              "      <td id=\"T_fec8c_row0_col35\" class=\"data row0 col35\" >poetic</td>\n",
              "      <td id=\"T_fec8c_row0_col36\" class=\"data row0 col36\" >highly</td>\n",
              "      <td id=\"T_fec8c_row0_col37\" class=\"data row0 col37\" >recommend</td>\n",
              "      <td id=\"T_fec8c_row0_col38\" class=\"data row0 col38\" >[SEP]</td>\n",
              "    </tr>\n",
              "  </tbody>\n",
              "</table>\n"
            ],
            "text/plain": [
              "<pandas.io.formats.style.Styler at 0x7f6b4478d910>"
            ]
          },
          "execution_count": 8,
          "metadata": {},
          "output_type": "execute_result"
        }
      ],
      "source": [
        "visualize(data[429])"
      ]
    },
    {
      "cell_type": "markdown",
      "metadata": {
        "id": "-eK-u7YyL-UQ"
      },
      "source": [
        "# Analyzing DeBerta\n",
        "\n",
        "We're going to load the DeBerta model to see how to generate heatmaps from a model instead of using pregenerated model outputs.  \n",
        "\n",
        "The basic plan we will be following is detailed below.\n",
        "\n",
        "1.  We will be loading the model and corresponding tokenizer.  Note that the model and tokenizers go hand in hand.\n",
        "1.  We will compute the gradients of the model and write up a description of what it means.\n",
        "1.  We will recreate the above renderer to be able to display the utility of each word.\n",
        "1. We will be examining some inconsistencies or failures of current language models.\n",
        "1. We will ask you to see if you can discover any other inconsistencies yourself. "
      ]
    },
    {
      "cell_type": "code",
      "execution_count": null,
      "metadata": {
        "colab": {
          "base_uri": "https://localhost:8080/"
        },
        "id": "VcPeaMkF3QrV",
        "outputId": "ffd56ec3-864c-48c1-a528-018c589feeb1"
      },
      "outputs": [
        {
          "name": "stdout",
          "output_type": "stream",
          "text": [
            "Access denied with the following error:\n",
            "\n",
            " \tToo many users have viewed or downloaded this file recently. Please\n",
            "\ttry accessing the file again later. If the file you are trying to\n",
            "\taccess is particularly large or is shared with many people, it may\n",
            "\ttake up to 24 hours to be able to view or download the file. If you\n",
            "\tstill can't access a file after 24 hours, contact your domain\n",
            "\tadministrator. \n",
            "\n",
            "You may still be able to access the file from the browser:\n",
            "\n",
            "\t https://drive.google.com/uc?id=1RWfBLX0efkDXQaI4CsfySuL_lnaBYn-7 \n",
            "\n"
          ]
        }
      ],
      "source": [
        "# find the share link of the file/folder on Google Drive\n",
        "# https://drive.google.com/file/d/1RWfBLX0efkDXQaI4CsfySuL_lnaBYn-7/view?usp=sharing\n",
        "\n",
        "# extract the ID of the file\n",
        "file_id = \"1RWfBLX0efkDXQaI4CsfySuL_lnaBYn-7\"\n",
        "\n",
        "!gdown \"$file_id\""
      ]
    },
    {
      "cell_type": "code",
      "execution_count": null,
      "metadata": {
        "id": "sxMW_roYkZnq"
      },
      "outputs": [],
      "source": [
        "from transformers import AutoTokenizer, AutoModelForSequenceClassification, AutoConfig\n",
        "import matplotlib.pyplot as plt\n",
        "import numpy as np\n",
        "import torch\n",
        "\n",
        "_ = torch.manual_seed(0)"
      ]
    },
    {
      "cell_type": "code",
      "execution_count": null,
      "metadata": {
        "id": "G18rHmPhkca4"
      },
      "outputs": [],
      "source": [
        "# Helper functions to load the model.\n",
        "def load_model(model_name, model_path=None, ngpus=0):\n",
        "    model_file = torch.load(model_path)\n",
        "    config = AutoConfig.from_pretrained(model_name, num_labels=1)\n",
        "    model = AutoModelForSequenceClassification.from_pretrained(model_name, config=config, state_dict=model_file)\n",
        "\n",
        "    return model\n",
        "\n",
        "# Helper functions to load the tokenizer.\n",
        "def load_tokenizer(model_name):\n",
        "    tokenizer = AutoTokenizer.from_pretrained(model_name)\n",
        "    return tokenizer"
      ]
    },
    {
      "cell_type": "code",
      "execution_count": null,
      "metadata": {
        "id": "UMEnKJoCH9E8"
      },
      "outputs": [],
      "source": [
        "def tokenize_sentences(tokenizer, sentences, max_length=512):\n",
        "    \"\"\"\n",
        "    Function that takes in the tokenizes the sentences.\n",
        "\n",
        "    Returns\n",
        "        input ids: \n",
        "            The ids of the tokenized versions of the words.  This is usually\n",
        "            byte pair encodings (BPE).\n",
        "        attention mask: \n",
        "            Signifies which of the tokens from the input ids are valid for processings.\n",
        "            The remaining tokens will not affect the output or gradients.\n",
        "        token type ids: \n",
        "            Used to differentiate if tokens represent different things\n",
        "            such as in the context of Question Answering questions will have type 0 \n",
        "            and answers will have type 1.\n",
        "            Depending on the model this might be the value None.\n",
        "    \"\"\"\n",
        "    encoded_input = tokenizer(sentences, return_tensors='pt', padding=True)\n",
        "    return (encoded_input['input_ids'], encoded_input['attention_mask'], encoded_input['token_type_ids'])\n"
      ]
    },
    {
      "cell_type": "code",
      "execution_count": null,
      "metadata": {
        "id": "Ya4p2cLhH6u0"
      },
      "outputs": [],
      "source": [
        "def print_utility(sequences, utilities):\n",
        "    for sequence, utility in zip(sequences, utilities):\n",
        "        print(f'\"{sequence}\" has utility {utility.item()}')"
      ]
    },
    {
      "cell_type": "code",
      "execution_count": null,
      "metadata": {
        "id": "LwYLTqumkf2e"
      },
      "outputs": [],
      "source": [
        "#Defining arguments for loading the model\n",
        "model_name = \"microsoft/deberta-v3-large\"\n",
        "model_path = \"/content/deberta-v3-large_1e-05_16_2.pkl\"\n",
        "# model_name= \"distilbert-base-uncased-finetuned-sst-2-english\"\n",
        "\n",
        "max_length = 64\n",
        "num_gpus = 0"
      ]
    },
    {
      "cell_type": "code",
      "execution_count": null,
      "metadata": {
        "colab": {
          "base_uri": "https://localhost:8080/",
          "height": 396
        },
        "id": "hnZiAmbwkieL",
        "outputId": "4578a171-03fa-4a25-f82e-5569ca7a911d"
      },
      "outputs": [
        {
          "ename": "FileNotFoundError",
          "evalue": "ignored",
          "output_type": "error",
          "traceback": [
            "\u001b[0;31m---------------------------------------------------------------------------\u001b[0m",
            "\u001b[0;31mFileNotFoundError\u001b[0m                         Traceback (most recent call last)",
            "\u001b[0;32m<ipython-input-18-ba3a8b372c6e>\u001b[0m in \u001b[0;36m<module>\u001b[0;34m()\u001b[0m\n\u001b[1;32m      1\u001b[0m \u001b[0;31m#Loading the model\u001b[0m\u001b[0;34m\u001b[0m\u001b[0;34m\u001b[0m\u001b[0;34m\u001b[0m\u001b[0m\n\u001b[0;32m----> 2\u001b[0;31m \u001b[0mutil_model\u001b[0m \u001b[0;34m=\u001b[0m \u001b[0mload_model\u001b[0m\u001b[0;34m(\u001b[0m\u001b[0mmodel_name\u001b[0m\u001b[0;34m,\u001b[0m \u001b[0mmodel_path\u001b[0m\u001b[0;34m,\u001b[0m \u001b[0mnum_gpus\u001b[0m\u001b[0;34m)\u001b[0m\u001b[0;34m\u001b[0m\u001b[0;34m\u001b[0m\u001b[0m\n\u001b[0m\u001b[1;32m      3\u001b[0m \u001b[0m_\u001b[0m \u001b[0;34m=\u001b[0m \u001b[0mutil_model\u001b[0m\u001b[0;34m.\u001b[0m\u001b[0meval\u001b[0m\u001b[0;34m(\u001b[0m\u001b[0;34m)\u001b[0m\u001b[0;34m\u001b[0m\u001b[0;34m\u001b[0m\u001b[0m\n\u001b[1;32m      4\u001b[0m \u001b[0;34m\u001b[0m\u001b[0m\n\u001b[1;32m      5\u001b[0m \u001b[0mtokenizer\u001b[0m \u001b[0;34m=\u001b[0m \u001b[0mload_tokenizer\u001b[0m\u001b[0;34m(\u001b[0m\u001b[0mmodel_name\u001b[0m\u001b[0;34m)\u001b[0m\u001b[0;34m\u001b[0m\u001b[0;34m\u001b[0m\u001b[0m\n",
            "\u001b[0;32m<ipython-input-11-96f85558030b>\u001b[0m in \u001b[0;36mload_model\u001b[0;34m(model_name, model_path, ngpus)\u001b[0m\n\u001b[1;32m      1\u001b[0m \u001b[0;31m# Helper functions to load the model.\u001b[0m\u001b[0;34m\u001b[0m\u001b[0;34m\u001b[0m\u001b[0;34m\u001b[0m\u001b[0m\n\u001b[1;32m      2\u001b[0m \u001b[0;32mdef\u001b[0m \u001b[0mload_model\u001b[0m\u001b[0;34m(\u001b[0m\u001b[0mmodel_name\u001b[0m\u001b[0;34m,\u001b[0m \u001b[0mmodel_path\u001b[0m\u001b[0;34m=\u001b[0m\u001b[0;32mNone\u001b[0m\u001b[0;34m,\u001b[0m \u001b[0mngpus\u001b[0m\u001b[0;34m=\u001b[0m\u001b[0;36m0\u001b[0m\u001b[0;34m)\u001b[0m\u001b[0;34m:\u001b[0m\u001b[0;34m\u001b[0m\u001b[0;34m\u001b[0m\u001b[0m\n\u001b[0;32m----> 3\u001b[0;31m     \u001b[0mmodel_file\u001b[0m \u001b[0;34m=\u001b[0m \u001b[0mtorch\u001b[0m\u001b[0;34m.\u001b[0m\u001b[0mload\u001b[0m\u001b[0;34m(\u001b[0m\u001b[0mmodel_path\u001b[0m\u001b[0;34m)\u001b[0m\u001b[0;34m\u001b[0m\u001b[0;34m\u001b[0m\u001b[0m\n\u001b[0m\u001b[1;32m      4\u001b[0m     \u001b[0mconfig\u001b[0m \u001b[0;34m=\u001b[0m \u001b[0mAutoConfig\u001b[0m\u001b[0;34m.\u001b[0m\u001b[0mfrom_pretrained\u001b[0m\u001b[0;34m(\u001b[0m\u001b[0mmodel_name\u001b[0m\u001b[0;34m,\u001b[0m \u001b[0mnum_labels\u001b[0m\u001b[0;34m=\u001b[0m\u001b[0;36m1\u001b[0m\u001b[0;34m)\u001b[0m\u001b[0;34m\u001b[0m\u001b[0;34m\u001b[0m\u001b[0m\n\u001b[1;32m      5\u001b[0m     \u001b[0mmodel\u001b[0m \u001b[0;34m=\u001b[0m \u001b[0mAutoModelForSequenceClassification\u001b[0m\u001b[0;34m.\u001b[0m\u001b[0mfrom_pretrained\u001b[0m\u001b[0;34m(\u001b[0m\u001b[0mmodel_name\u001b[0m\u001b[0;34m,\u001b[0m \u001b[0mconfig\u001b[0m\u001b[0;34m=\u001b[0m\u001b[0mconfig\u001b[0m\u001b[0;34m,\u001b[0m \u001b[0mstate_dict\u001b[0m\u001b[0;34m=\u001b[0m\u001b[0mmodel_file\u001b[0m\u001b[0;34m)\u001b[0m\u001b[0;34m\u001b[0m\u001b[0;34m\u001b[0m\u001b[0m\n",
            "\u001b[0;32m/usr/local/lib/python3.7/dist-packages/torch/serialization.py\u001b[0m in \u001b[0;36mload\u001b[0;34m(f, map_location, pickle_module, **pickle_load_args)\u001b[0m\n\u001b[1;32m    697\u001b[0m         \u001b[0mpickle_load_args\u001b[0m\u001b[0;34m[\u001b[0m\u001b[0;34m'encoding'\u001b[0m\u001b[0;34m]\u001b[0m \u001b[0;34m=\u001b[0m \u001b[0;34m'utf-8'\u001b[0m\u001b[0;34m\u001b[0m\u001b[0;34m\u001b[0m\u001b[0m\n\u001b[1;32m    698\u001b[0m \u001b[0;34m\u001b[0m\u001b[0m\n\u001b[0;32m--> 699\u001b[0;31m     \u001b[0;32mwith\u001b[0m \u001b[0m_open_file_like\u001b[0m\u001b[0;34m(\u001b[0m\u001b[0mf\u001b[0m\u001b[0;34m,\u001b[0m \u001b[0;34m'rb'\u001b[0m\u001b[0;34m)\u001b[0m \u001b[0;32mas\u001b[0m \u001b[0mopened_file\u001b[0m\u001b[0;34m:\u001b[0m\u001b[0;34m\u001b[0m\u001b[0;34m\u001b[0m\u001b[0m\n\u001b[0m\u001b[1;32m    700\u001b[0m         \u001b[0;32mif\u001b[0m \u001b[0m_is_zipfile\u001b[0m\u001b[0;34m(\u001b[0m\u001b[0mopened_file\u001b[0m\u001b[0;34m)\u001b[0m\u001b[0;34m:\u001b[0m\u001b[0;34m\u001b[0m\u001b[0;34m\u001b[0m\u001b[0m\n\u001b[1;32m    701\u001b[0m             \u001b[0;31m# The zipfile reader is going to advance the current file position.\u001b[0m\u001b[0;34m\u001b[0m\u001b[0;34m\u001b[0m\u001b[0;34m\u001b[0m\u001b[0m\n",
            "\u001b[0;32m/usr/local/lib/python3.7/dist-packages/torch/serialization.py\u001b[0m in \u001b[0;36m_open_file_like\u001b[0;34m(name_or_buffer, mode)\u001b[0m\n\u001b[1;32m    228\u001b[0m \u001b[0;32mdef\u001b[0m \u001b[0m_open_file_like\u001b[0m\u001b[0;34m(\u001b[0m\u001b[0mname_or_buffer\u001b[0m\u001b[0;34m,\u001b[0m \u001b[0mmode\u001b[0m\u001b[0;34m)\u001b[0m\u001b[0;34m:\u001b[0m\u001b[0;34m\u001b[0m\u001b[0;34m\u001b[0m\u001b[0m\n\u001b[1;32m    229\u001b[0m     \u001b[0;32mif\u001b[0m \u001b[0m_is_path\u001b[0m\u001b[0;34m(\u001b[0m\u001b[0mname_or_buffer\u001b[0m\u001b[0;34m)\u001b[0m\u001b[0;34m:\u001b[0m\u001b[0;34m\u001b[0m\u001b[0;34m\u001b[0m\u001b[0m\n\u001b[0;32m--> 230\u001b[0;31m         \u001b[0;32mreturn\u001b[0m \u001b[0m_open_file\u001b[0m\u001b[0;34m(\u001b[0m\u001b[0mname_or_buffer\u001b[0m\u001b[0;34m,\u001b[0m \u001b[0mmode\u001b[0m\u001b[0;34m)\u001b[0m\u001b[0;34m\u001b[0m\u001b[0;34m\u001b[0m\u001b[0m\n\u001b[0m\u001b[1;32m    231\u001b[0m     \u001b[0;32melse\u001b[0m\u001b[0;34m:\u001b[0m\u001b[0;34m\u001b[0m\u001b[0;34m\u001b[0m\u001b[0m\n\u001b[1;32m    232\u001b[0m         \u001b[0;32mif\u001b[0m \u001b[0;34m'w'\u001b[0m \u001b[0;32min\u001b[0m \u001b[0mmode\u001b[0m\u001b[0;34m:\u001b[0m\u001b[0;34m\u001b[0m\u001b[0;34m\u001b[0m\u001b[0m\n",
            "\u001b[0;32m/usr/local/lib/python3.7/dist-packages/torch/serialization.py\u001b[0m in \u001b[0;36m__init__\u001b[0;34m(self, name, mode)\u001b[0m\n\u001b[1;32m    209\u001b[0m \u001b[0;32mclass\u001b[0m \u001b[0m_open_file\u001b[0m\u001b[0;34m(\u001b[0m\u001b[0m_opener\u001b[0m\u001b[0;34m)\u001b[0m\u001b[0;34m:\u001b[0m\u001b[0;34m\u001b[0m\u001b[0;34m\u001b[0m\u001b[0m\n\u001b[1;32m    210\u001b[0m     \u001b[0;32mdef\u001b[0m \u001b[0m__init__\u001b[0m\u001b[0;34m(\u001b[0m\u001b[0mself\u001b[0m\u001b[0;34m,\u001b[0m \u001b[0mname\u001b[0m\u001b[0;34m,\u001b[0m \u001b[0mmode\u001b[0m\u001b[0;34m)\u001b[0m\u001b[0;34m:\u001b[0m\u001b[0;34m\u001b[0m\u001b[0;34m\u001b[0m\u001b[0m\n\u001b[0;32m--> 211\u001b[0;31m         \u001b[0msuper\u001b[0m\u001b[0;34m(\u001b[0m\u001b[0m_open_file\u001b[0m\u001b[0;34m,\u001b[0m \u001b[0mself\u001b[0m\u001b[0;34m)\u001b[0m\u001b[0;34m.\u001b[0m\u001b[0m__init__\u001b[0m\u001b[0;34m(\u001b[0m\u001b[0mopen\u001b[0m\u001b[0;34m(\u001b[0m\u001b[0mname\u001b[0m\u001b[0;34m,\u001b[0m \u001b[0mmode\u001b[0m\u001b[0;34m)\u001b[0m\u001b[0;34m)\u001b[0m\u001b[0;34m\u001b[0m\u001b[0;34m\u001b[0m\u001b[0m\n\u001b[0m\u001b[1;32m    212\u001b[0m \u001b[0;34m\u001b[0m\u001b[0m\n\u001b[1;32m    213\u001b[0m     \u001b[0;32mdef\u001b[0m \u001b[0m__exit__\u001b[0m\u001b[0;34m(\u001b[0m\u001b[0mself\u001b[0m\u001b[0;34m,\u001b[0m \u001b[0;34m*\u001b[0m\u001b[0margs\u001b[0m\u001b[0;34m)\u001b[0m\u001b[0;34m:\u001b[0m\u001b[0;34m\u001b[0m\u001b[0;34m\u001b[0m\u001b[0m\n",
            "\u001b[0;31mFileNotFoundError\u001b[0m: [Errno 2] No such file or directory: '/content/deberta-v3-large_1e-05_16_2.pkl'"
          ]
        }
      ],
      "source": [
        "#Loading the model\n",
        "util_model = load_model(model_name, model_path, num_gpus)\n",
        "_ = util_model.eval()\n",
        "\n",
        "tokenizer = load_tokenizer(model_name)"
      ]
    },
    {
      "cell_type": "markdown",
      "metadata": {
        "id": "qxaO_FqS4eNA"
      },
      "source": [
        "## Measuring Utility"
      ]
    },
    {
      "cell_type": "code",
      "execution_count": null,
      "metadata": {
        "id": "IZzE3HVhknIS"
      },
      "outputs": [],
      "source": [
        "#Sample sentences and their utility values as predicted by the model\n",
        "sentences = [\"A meteor hit the Earth and Earth exploded.\", \n",
        "             \"A meteor wiped out all life on Earth.\", \n",
        "             \"I found a cure to all diseases.\", \n",
        "             \"I killed 1000 people.\"]\n",
        "\n",
        "input_ids, input_mask, _ = tokenize_sentences(tokenizer=tokenizer, sentences=sentences, max_length=max_length)\n",
        "\n",
        "utilities = None\n",
        "\n",
        "with torch.no_grad():\n",
        "    utilities = util_model(input_ids, input_mask).logits\n",
        "\n",
        "print_utility(sentences, utilities)"
      ]
    },
    {
      "cell_type": "markdown",
      "metadata": {
        "id": "txhTF2Vmh_SG"
      },
      "source": [
        "# Computing the Gradient\n"
      ]
    },
    {
      "cell_type": "code",
      "execution_count": null,
      "metadata": {
        "id": "C0ElLxF7rL5X"
      },
      "outputs": [],
      "source": [
        "# Getting the gradients for the input words gives us \n",
        "# the best estimate of the utility for a given word being inputted.\n",
        "# Getting the gradients with hugging face is rather complex so we have provided\n",
        "# the functions here as a reference.\n",
        "def _register_embedding_list_hook(model, embeddings_list):\n",
        "    def forward_hook(module, inputs, output):\n",
        "        embeddings_list.append(output.squeeze(0).clone().cpu().detach().numpy())\n",
        "    embedding_layer = model.deberta.embeddings.word_embeddings\n",
        "    handle = embedding_layer.register_forward_hook(forward_hook)\n",
        "    return handle\n",
        "\n",
        "def _register_embedding_gradient_hooks(model, embeddings_gradients):\n",
        "    def hook_layers(module, grad_in, grad_out):\n",
        "        embeddings_gradients.append(grad_out[0])\n",
        "    embedding_layer = model.deberta.embeddings.word_embeddings\n",
        "    hook = embedding_layer.register_backward_hook(hook_layers)\n",
        "    return hook\n",
        "\n",
        "# You will be using this function below to get the gradients.\n",
        "def get_saliency_map(model, input_ids, token_type_ids, input_mask):\n",
        "    torch.enable_grad()\n",
        "    model.eval()\n",
        "    embeddings_list = []\n",
        "    handle = _register_embedding_list_hook(model, embeddings_list)\n",
        "    embeddings_gradients = []\n",
        "    hook = _register_embedding_gradient_hooks(model, embeddings_gradients)\n",
        "\n",
        "    model.zero_grad()\n",
        "\n",
        "    labels = torch.tensor(1).to(torch.float32)\n",
        "    loss = model(input_ids, input_mask, labels=labels).loss\n",
        "    loss.backward()\n",
        "\n",
        "    handle.remove()\n",
        "    hook.remove()\n",
        "\n",
        "    saliency_grad = embeddings_gradients[0].detach().cpu().numpy()        \n",
        "    saliency_grad = np.sum(saliency_grad[0] * embeddings_list[0], axis=-1)\n",
        "    norm = np.linalg.norm(saliency_grad, ord=1)\n",
        "    saliency_grad = [e / norm for e in saliency_grad] \n",
        "    \n",
        "    return saliency_grad\n",
        "\n",
        "get_saliency_map(util_model, input_ids, _, input_mask)"
      ]
    },
    {
      "attachments": {},
      "cell_type": "markdown",
      "metadata": {
        "id": "slqoBYDkbl2f"
      },
      "source": [
        "The equation for computing the gradient of the loss (L2 loss) with respect to the weights of the last layer is: (weights - y).T @ (weights - y)\n",
        "\n",
        "The gradients of the loss with respect to the inputs represents the saliency of the input for the output.\n",
        "\n",
        "The gradient of the loss with respect to the input represent how much each input contributes to the loss."
      ]
    },
    {
      "cell_type": "code",
      "execution_count": null,
      "metadata": {
        "colab": {
          "base_uri": "https://localhost:8080/",
          "height": 244
        },
        "id": "UCusvydNrUd8",
        "outputId": "ac0f7e25-7274-4c16-990b-b0cd2a49603e"
      },
      "outputs": [
        {
          "ename": "NameError",
          "evalue": "ignored",
          "output_type": "error",
          "traceback": [
            "\u001b[0;31m---------------------------------------------------------------------------\u001b[0m",
            "\u001b[0;31mNameError\u001b[0m                                 Traceback (most recent call last)",
            "\u001b[0;32m<ipython-input-1-b4508f4d7472>\u001b[0m in \u001b[0;36m<module>\u001b[0;34m()\u001b[0m\n\u001b[1;32m      5\u001b[0m \u001b[0;31m# ========== ^ Your Code Here ^ ========== #\u001b[0m\u001b[0;34m\u001b[0m\u001b[0;34m\u001b[0m\u001b[0;34m\u001b[0m\u001b[0m\n\u001b[1;32m      6\u001b[0m \u001b[0;34m\u001b[0m\u001b[0m\n\u001b[0;32m----> 7\u001b[0;31m \u001b[0msaliency_maps\u001b[0m \u001b[0;34m=\u001b[0m \u001b[0mget_saliency_map\u001b[0m\u001b[0;34m(\u001b[0m\u001b[0mutil_model\u001b[0m\u001b[0;34m,\u001b[0m \u001b[0minput_ids\u001b[0m\u001b[0;34m,\u001b[0m \u001b[0m_\u001b[0m\u001b[0;34m,\u001b[0m \u001b[0minput_mask\u001b[0m\u001b[0;34m)\u001b[0m\u001b[0;34m\u001b[0m\u001b[0;34m\u001b[0m\u001b[0m\n\u001b[0m\u001b[1;32m      8\u001b[0m \u001b[0;34m\u001b[0m\u001b[0m\n\u001b[1;32m      9\u001b[0m \u001b[0mprint\u001b[0m\u001b[0;34m(\u001b[0m\u001b[0minput_ids\u001b[0m\u001b[0;34m[\u001b[0m\u001b[0;36m0\u001b[0m\u001b[0;34m]\u001b[0m\u001b[0;34m)\u001b[0m\u001b[0;34m\u001b[0m\u001b[0;34m\u001b[0m\u001b[0m\n",
            "\u001b[0;31mNameError\u001b[0m: name 'get_saliency_map' is not defined"
          ]
        }
      ],
      "source": [
        "saliency_maps = []\n",
        "\n",
        "saliency_maps = get_saliency_map(util_model, input_ids, _, input_mask)\n",
        "\n",
        "print(input_ids[0])\n",
        "for tok in input_ids[0]:\n",
        "  print(tokenizer.decode(tok))"
      ]
    },
    {
      "cell_type": "markdown",
      "metadata": {
        "id": "1GnJkusfkr3-"
      },
      "source": [
        "After loading and playing with the model we will now create another render function to display the utility scores as we did above."
      ]
    },
    {
      "cell_type": "code",
      "execution_count": null,
      "metadata": {
        "id": "liIQb6LQEHxJ"
      },
      "outputs": [],
      "source": [
        "def visualize(tokens, saliency_map):\n",
        "    assert len(tokens) > 0 and len(tokens) == len(saliency_map), f\"Token length: {len(tokens)}, saliency map length: {len(saliency_map)}\"  # Each input is a 1D tensor\n",
        "    sentence = [tokenizer.decode(tok) for tok in tokens]\n",
        "    word2Attr = {sentence[i]: saliency_map[i] for i in range(len(sentence))}\n",
        "    df = pd.DataFrame(sentence)\n",
        "\n",
        "    max_attr = max(saliency_map)\n",
        "    min_attr = min(saliency_map)\n",
        "    \n",
        "    cmap = plt.get_cmap(\"viridis\")\n",
        "    norm = mpl.colors.Normalize(vmin=min_attr, vmax=min_attr + (max_attr - min_attr) * 1.2)\n",
        "    scalarMap = cm.ScalarMappable(norm=norm, cmap=cmap)\n",
        "\n",
        "    def word2Color(word):\n",
        "        rgb = scalarMap.to_rgba(word2Attr[word])[:-1]\n",
        "        code = round(255 * rgb[0]) * 256**2 + round(255 * rgb[1]) * 256 + round(255 * rgb[2])\n",
        "        return 'background-color: #%s' % (hex(code)[2:])\n",
        "\n",
        "    df = df.T\n",
        "    return df.style.hide_index().hide_columns().applymap(lambda word: word2Color(word))"
      ]
    },
    {
      "cell_type": "markdown",
      "metadata": {
        "id": "faakqScO8Gqq"
      },
      "source": [
        "Now we want to visualize the saliency maps for the tokens."
      ]
    },
    {
      "cell_type": "code",
      "execution_count": null,
      "metadata": {
        "colab": {
          "base_uri": "https://localhost:8080/",
          "height": 48
        },
        "id": "hVd2lZp0nMrJ",
        "outputId": "5effe439-1d26-4470-b0c7-62b243c9a92a"
      },
      "outputs": [
        {
          "data": {
            "text/html": [
              "<style type=\"text/css\">\n",
              "#T_6746c_row0_col0 {\n",
              "  background-color: #90d743;\n",
              "}\n",
              "#T_6746c_row0_col1 {\n",
              "  background-color: #277f8e;\n",
              "}\n",
              "#T_6746c_row0_col2 {\n",
              "  background-color: #27ad81;\n",
              "}\n",
              "#T_6746c_row0_col3 {\n",
              "  background-color: #1f9e89;\n",
              "}\n",
              "#T_6746c_row0_col4 {\n",
              "  background-color: #24878e;\n",
              "}\n",
              "#T_6746c_row0_col5, #T_6746c_row0_col7 {\n",
              "  background-color: #1f968b;\n",
              "}\n",
              "#T_6746c_row0_col6 {\n",
              "  background-color: #23898e;\n",
              "}\n",
              "#T_6746c_row0_col8 {\n",
              "  background-color: #440154;\n",
              "}\n",
              "#T_6746c_row0_col9 {\n",
              "  background-color: #277e8e;\n",
              "}\n",
              "#T_6746c_row0_col10 {\n",
              "  background-color: #84d44b;\n",
              "}\n",
              "</style>\n",
              "<table id=\"T_6746c_\" class=\"dataframe\">\n",
              "  <thead>\n",
              "  </thead>\n",
              "  <tbody>\n",
              "    <tr>\n",
              "      <td id=\"T_6746c_row0_col0\" class=\"data row0 col0\" >[CLS]</td>\n",
              "      <td id=\"T_6746c_row0_col1\" class=\"data row0 col1\" >A</td>\n",
              "      <td id=\"T_6746c_row0_col2\" class=\"data row0 col2\" >meteor</td>\n",
              "      <td id=\"T_6746c_row0_col3\" class=\"data row0 col3\" >hit</td>\n",
              "      <td id=\"T_6746c_row0_col4\" class=\"data row0 col4\" >the</td>\n",
              "      <td id=\"T_6746c_row0_col5\" class=\"data row0 col5\" >Earth</td>\n",
              "      <td id=\"T_6746c_row0_col6\" class=\"data row0 col6\" >and</td>\n",
              "      <td id=\"T_6746c_row0_col7\" class=\"data row0 col7\" >Earth</td>\n",
              "      <td id=\"T_6746c_row0_col8\" class=\"data row0 col8\" >exploded</td>\n",
              "      <td id=\"T_6746c_row0_col9\" class=\"data row0 col9\" >.</td>\n",
              "      <td id=\"T_6746c_row0_col10\" class=\"data row0 col10\" >[SEP]</td>\n",
              "    </tr>\n",
              "  </tbody>\n",
              "</table>\n"
            ],
            "text/plain": [
              "<pandas.io.formats.style.Styler at 0x7f5cf97fbad0>"
            ]
          },
          "execution_count": 23,
          "metadata": {},
          "output_type": "execute_result"
        }
      ],
      "source": [
        "visualize(input_ids[0], saliency_maps[0])"
      ]
    },
    {
      "cell_type": "code",
      "execution_count": null,
      "metadata": {
        "colab": {
          "base_uri": "https://localhost:8080/",
          "height": 48
        },
        "id": "wytShCw4yTBc",
        "outputId": "4d0fc85c-271b-4089-9cf3-08e6f9fb87b7"
      },
      "outputs": [
        {
          "data": {
            "text/html": [
              "<style type=\"text/css\">\n",
              "#T_487b2_row0_col0, #T_487b2_row0_col1, #T_487b2_row0_col2, #T_487b2_row0_col9, #T_487b2_row0_col10 {\n",
              "  background-color: #1f978b;\n",
              "}\n",
              "#T_487b2_row0_col3 {\n",
              "  background-color: #2d708e;\n",
              "}\n",
              "#T_487b2_row0_col4 {\n",
              "  background-color: #1f948c;\n",
              "}\n",
              "#T_487b2_row0_col5 {\n",
              "  background-color: #90d743;\n",
              "}\n",
              "#T_487b2_row0_col6 {\n",
              "  background-color: #2fb47c;\n",
              "}\n",
              "#T_487b2_row0_col7 {\n",
              "  background-color: #22a785;\n",
              "}\n",
              "#T_487b2_row0_col8 {\n",
              "  background-color: #440154;\n",
              "}\n",
              "</style>\n",
              "<table id=\"T_487b2_\" class=\"dataframe\">\n",
              "  <thead>\n",
              "  </thead>\n",
              "  <tbody>\n",
              "    <tr>\n",
              "      <td id=\"T_487b2_row0_col0\" class=\"data row0 col0\" >[CLS]</td>\n",
              "      <td id=\"T_487b2_row0_col1\" class=\"data row0 col1\" >A</td>\n",
              "      <td id=\"T_487b2_row0_col2\" class=\"data row0 col2\" >meteor</td>\n",
              "      <td id=\"T_487b2_row0_col3\" class=\"data row0 col3\" >wiped</td>\n",
              "      <td id=\"T_487b2_row0_col4\" class=\"data row0 col4\" >out</td>\n",
              "      <td id=\"T_487b2_row0_col5\" class=\"data row0 col5\" >all</td>\n",
              "      <td id=\"T_487b2_row0_col6\" class=\"data row0 col6\" >life</td>\n",
              "      <td id=\"T_487b2_row0_col7\" class=\"data row0 col7\" >on</td>\n",
              "      <td id=\"T_487b2_row0_col8\" class=\"data row0 col8\" >Earth</td>\n",
              "      <td id=\"T_487b2_row0_col9\" class=\"data row0 col9\" >.</td>\n",
              "      <td id=\"T_487b2_row0_col10\" class=\"data row0 col10\" >[SEP]</td>\n",
              "    </tr>\n",
              "  </tbody>\n",
              "</table>\n"
            ],
            "text/plain": [
              "<pandas.io.formats.style.Styler at 0x7f5cf7ea2f50>"
            ]
          },
          "execution_count": 24,
          "metadata": {},
          "output_type": "execute_result"
        }
      ],
      "source": [
        "visualize(input_ids[1], saliency_maps[1])"
      ]
    },
    {
      "cell_type": "code",
      "execution_count": null,
      "metadata": {
        "colab": {
          "base_uri": "https://localhost:8080/",
          "height": 48
        },
        "id": "ursiIg0XyTnO",
        "outputId": "bd58365c-5f9a-4a08-c5c3-e5c73f30ac4e"
      },
      "outputs": [
        {
          "data": {
            "text/html": [
              "<style type=\"text/css\">\n",
              "#T_321b2_row0_col0 {\n",
              "  background-color: #375a8c;\n",
              "}\n",
              "#T_321b2_row0_col1 {\n",
              "  background-color: #33628d;\n",
              "}\n",
              "#T_321b2_row0_col2 {\n",
              "  background-color: #440154;\n",
              "}\n",
              "#T_321b2_row0_col3 {\n",
              "  background-color: #238a8d;\n",
              "}\n",
              "#T_321b2_row0_col4 {\n",
              "  background-color: #404688;\n",
              "}\n",
              "#T_321b2_row0_col5 {\n",
              "  background-color: #1f948c;\n",
              "}\n",
              "#T_321b2_row0_col6 {\n",
              "  background-color: #2b758e;\n",
              "}\n",
              "#T_321b2_row0_col7 {\n",
              "  background-color: #29798e;\n",
              "}\n",
              "#T_321b2_row0_col8 {\n",
              "  background-color: #90d743;\n",
              "}\n",
              "#T_321b2_row0_col9 {\n",
              "  background-color: #2d718e;\n",
              "}\n",
              "#T_321b2_row0_col10 {\n",
              "  background-color: #365d8d;\n",
              "}\n",
              "</style>\n",
              "<table id=\"T_321b2_\" class=\"dataframe\">\n",
              "  <thead>\n",
              "  </thead>\n",
              "  <tbody>\n",
              "    <tr>\n",
              "      <td id=\"T_321b2_row0_col0\" class=\"data row0 col0\" >[CLS]</td>\n",
              "      <td id=\"T_321b2_row0_col1\" class=\"data row0 col1\" >I</td>\n",
              "      <td id=\"T_321b2_row0_col2\" class=\"data row0 col2\" >found</td>\n",
              "      <td id=\"T_321b2_row0_col3\" class=\"data row0 col3\" >a</td>\n",
              "      <td id=\"T_321b2_row0_col4\" class=\"data row0 col4\" >cure</td>\n",
              "      <td id=\"T_321b2_row0_col5\" class=\"data row0 col5\" >to</td>\n",
              "      <td id=\"T_321b2_row0_col6\" class=\"data row0 col6\" >all</td>\n",
              "      <td id=\"T_321b2_row0_col7\" class=\"data row0 col7\" >diseases</td>\n",
              "      <td id=\"T_321b2_row0_col8\" class=\"data row0 col8\" >.</td>\n",
              "      <td id=\"T_321b2_row0_col9\" class=\"data row0 col9\" >[SEP]</td>\n",
              "      <td id=\"T_321b2_row0_col10\" class=\"data row0 col10\" >[PAD]</td>\n",
              "    </tr>\n",
              "  </tbody>\n",
              "</table>\n"
            ],
            "text/plain": [
              "<pandas.io.formats.style.Styler at 0x7f5cf7e9afd0>"
            ]
          },
          "execution_count": 25,
          "metadata": {},
          "output_type": "execute_result"
        }
      ],
      "source": [
        "visualize(input_ids[2], saliency_maps[2])"
      ]
    },
    {
      "cell_type": "code",
      "execution_count": null,
      "metadata": {
        "colab": {
          "base_uri": "https://localhost:8080/",
          "height": 48
        },
        "id": "OND4wY7MyT3E",
        "outputId": "b88dfd10-9a0c-44a4-fb53-e31911182fa1"
      },
      "outputs": [
        {
          "data": {
            "text/html": [
              "<style type=\"text/css\">\n",
              "#T_2190f_row0_col0 {\n",
              "  background-color: #2b748e;\n",
              "}\n",
              "#T_2190f_row0_col1 {\n",
              "  background-color: #26818e;\n",
              "}\n",
              "#T_2190f_row0_col2 {\n",
              "  background-color: #90d743;\n",
              "}\n",
              "#T_2190f_row0_col3 {\n",
              "  background-color: #34618d;\n",
              "}\n",
              "#T_2190f_row0_col4 {\n",
              "  background-color: #25838e;\n",
              "}\n",
              "#T_2190f_row0_col5 {\n",
              "  background-color: #26828e;\n",
              "}\n",
              "#T_2190f_row0_col6 {\n",
              "  background-color: #1f958b;\n",
              "}\n",
              "#T_2190f_row0_col7, #T_2190f_row0_col8, #T_2190f_row0_col9, #T_2190f_row0_col10 {\n",
              "  background-color: #2a788e;\n",
              "}\n",
              "</style>\n",
              "<table id=\"T_2190f_\" class=\"dataframe\">\n",
              "  <thead>\n",
              "  </thead>\n",
              "  <tbody>\n",
              "    <tr>\n",
              "      <td id=\"T_2190f_row0_col0\" class=\"data row0 col0\" >[CLS]</td>\n",
              "      <td id=\"T_2190f_row0_col1\" class=\"data row0 col1\" >I</td>\n",
              "      <td id=\"T_2190f_row0_col2\" class=\"data row0 col2\" >killed</td>\n",
              "      <td id=\"T_2190f_row0_col3\" class=\"data row0 col3\" >1000</td>\n",
              "      <td id=\"T_2190f_row0_col4\" class=\"data row0 col4\" >people</td>\n",
              "      <td id=\"T_2190f_row0_col5\" class=\"data row0 col5\" >.</td>\n",
              "      <td id=\"T_2190f_row0_col6\" class=\"data row0 col6\" >[SEP]</td>\n",
              "      <td id=\"T_2190f_row0_col7\" class=\"data row0 col7\" >[PAD]</td>\n",
              "      <td id=\"T_2190f_row0_col8\" class=\"data row0 col8\" >[PAD]</td>\n",
              "      <td id=\"T_2190f_row0_col9\" class=\"data row0 col9\" >[PAD]</td>\n",
              "      <td id=\"T_2190f_row0_col10\" class=\"data row0 col10\" >[PAD]</td>\n",
              "    </tr>\n",
              "  </tbody>\n",
              "</table>\n"
            ],
            "text/plain": [
              "<pandas.io.formats.style.Styler at 0x7f5cf7eaaa50>"
            ]
          },
          "execution_count": 26,
          "metadata": {},
          "output_type": "execute_result"
        }
      ],
      "source": [
        "visualize(input_ids[3], saliency_maps[3])"
      ]
    },
    {
      "attachments": {},
      "cell_type": "markdown",
      "metadata": {
        "id": "AOJyzKWWkvCF"
      },
      "source": [
        "# Inconsitencies or Model Failures\n",
        "\n",
        "Now we will explore the utility model that assigns a utility score to string of text, and its various model failures."
      ]
    },
    {
      "cell_type": "markdown",
      "metadata": {
        "id": "wdQh1wOZAuJX"
      },
      "source": [
        "### Inconsistency with Scope Intensity\n",
        "You should expect some monotonic behaviour with some things.  The model however expresses odd behavior that isn't monotonic in its outputs."
      ]
    },
    {
      "cell_type": "code",
      "execution_count": null,
      "metadata": {
        "colab": {
          "base_uri": "https://localhost:8080/",
          "height": 282
        },
        "id": "n5phSNk69ocx",
        "outputId": "a00cb781-1f61-45da-fba2-470414236916"
      },
      "outputs": [
        {
          "data": {
            "image/png": "[encoded data removed]",
            "text/plain": [
              "<Figure size 432x288 with 1 Axes>"
            ]
          },
          "metadata": {
            "needs_background": "light"
          },
          "output_type": "display_data"
        }
      ],
      "source": [
        "sentence = 'I saved x people'\n",
        "\n",
        "input_sents = [sentence.replace('x', str(i)) for i in np.arange(1, 100, 1)]\n",
        "input_ids, input_mask, _ = tokenize_sentences(tokenizer=tokenizer, sentences=input_sents, max_length=max_length)\n",
        "\n",
        "with torch.no_grad():\n",
        "    output_utils = util_model(input_ids, attention_mask=input_mask)[0]\n",
        "\n",
        "plt.plot(np.arange(1, 100), output_utils)\n",
        "plt.xlabel('Number of people')\n",
        "plt.ylabel('Utility score')\n",
        "plt.show()"
      ]
    },
    {
      "cell_type": "markdown",
      "metadata": {
        "id": "y7VrkISpAso1"
      },
      "source": [
        "### Framing the problem\n",
        "Even if two sentences express the same idea or concept they can have very different utilities which is not a useful property if we want the model to reflect the true utility."
      ]
    },
    {
      "cell_type": "code",
      "execution_count": null,
      "metadata": {
        "colab": {
          "base_uri": "https://localhost:8080/"
        },
        "id": "B9QZL8Eb1cEx",
        "outputId": "60a09ad2-e4b9-4d7a-f92b-f307fabc1cfd"
      },
      "outputs": [
        {
          "name": "stdout",
          "output_type": "stream",
          "text": [
            "\"I performed surgery on a patient with a 50% chance of success.\" has utility 2.751148223876953\n",
            "\"I performed surgery on a patient with a 50% chance of failure.\" has utility 4.45655632019043\n"
          ]
        }
      ],
      "source": [
        "sentences = ['I performed surgery on a patient with a 50% chance of success.',\n",
        "             'I performed surgery on a patient with a 50% chance of failure.']\n",
        "\n",
        "input_ids, input_mask, _ = tokenize_sentences(tokenizer=tokenizer, sentences=input_sents, max_length=max_length)\n",
        "with torch.no_grad():\n",
        "    output_utils = util_model(input_ids, attention_mask=input_mask)[0]\n",
        "\n",
        "print_utility(sentences, output_utils)"
      ]
    },
    {
      "cell_type": "markdown",
      "metadata": {
        "id": "ORKlW8RH3jZx"
      },
      "source": [
        "### Inconsistencies in utility functions: Distracted by noise"
      ]
    },
    {
      "cell_type": "code",
      "execution_count": null,
      "metadata": {
        "colab": {
          "base_uri": "https://localhost:8080/"
        },
        "id": "J2tQ-YoV3rV_",
        "outputId": "68a3ca37-b582-4122-9176-a1e0d0ae21d1"
      },
      "outputs": [
        {
          "name": "stdout",
          "output_type": "stream",
          "text": [
            "\"I won $100,000.\" has utility 2.751148223876953\n",
            "\"I won $101,101.\" has utility 4.45655632019043\n"
          ]
        }
      ],
      "source": [
        "sentences = ['I won $100,000.', 'I won $101,101.']\n",
        "\n",
        "input_ids, input_mask, _ = tokenize_sentences(tokenizer=tokenizer, sentences=input_sents, max_length=max_length)\n",
        "with torch.no_grad():\n",
        "    output_utils = util_model(input_ids, attention_mask=input_mask)[0]\n",
        "\n",
        "print_utility(sentences, output_utils)"
      ]
    },
    {
      "cell_type": "markdown",
      "metadata": {
        "id": "5Ow6CFh_8fme"
      },
      "source": [
        "## Bias\n",
        "The utility function might also present bias that is similar to what humans might have."
      ]
    },
    {
      "cell_type": "markdown",
      "metadata": {
        "id": "hWNIyFAWBYP_"
      },
      "source": [
        "**Gender/Age**"
      ]
    },
    {
      "cell_type": "code",
      "execution_count": null,
      "metadata": {
        "colab": {
          "base_uri": "https://localhost:8080/",
          "height": 358
        },
        "id": "fo86x0y68sBv",
        "outputId": "a635fa99-408c-4480-ac33-c2aae491c7f3"
      },
      "outputs": [
        {
          "name": "stderr",
          "output_type": "stream",
          "text": [
            "/usr/local/lib/python3.7/dist-packages/numpy/lib/stride_tricks.py:536: FutureWarning: The input object of type 'Tensor' is an array-like implementing one of the corresponding protocols (`__array__`, `__array_interface__` or `__array_struct__`); but not a sequence (or 0-D). In the future, this object will be coerced as if it was first converted using `np.array(obj)`. To retain the old behaviour, you have to either modify the type 'Tensor', or assign to an empty array created with `np.empty(correct_shape, dtype=object)`.\n",
            "  args = [np.array(_m, copy=False, subok=subok) for _m in args]\n",
            "/usr/local/lib/python3.7/dist-packages/numpy/lib/stride_tricks.py:536: VisibleDeprecationWarning: Creating an ndarray from ragged nested sequences (which is a list-or-tuple of lists-or-tuples-or ndarrays with different lengths or shapes) is deprecated. If you meant to do this, you must specify 'dtype=object' when creating the ndarray.\n",
            "  args = [np.array(_m, copy=False, subok=subok) for _m in args]\n"
          ]
        },
        {
          "data": {
            "image/png": "[encoded data removed]",
            "text/plain": [
              "<Figure size 432x288 with 1 Axes>"
            ]
          },
          "metadata": {
            "needs_background": "light"
          },
          "output_type": "display_data"
        }
      ],
      "source": [
        "sentence = 'I saved 1,000,000 [MASK]\\'s lives today'\n",
        "\n",
        "input_sents = [sentence.replace('[MASK]', s) for s in ['children', 'women', 'men']]\n",
        "input_ids, input_mask, _ = tokenize_sentences(tokenizer=tokenizer, sentences=input_sents, max_length=max_length)\n",
        "\n",
        "with torch.no_grad():\n",
        "    output_utils = util_model(input_ids, attention_mask=input_mask)[0]\n",
        "\n",
        "plt.bar(range(3), output_utils, tick_label=['children', 'women', 'men'])\n",
        "plt.ylabel('Utility score')\n",
        "plt.show()"
      ]
    },
    {
      "cell_type": "markdown",
      "metadata": {
        "id": "o6jrt4b7BcpW"
      },
      "source": [
        "**Race/Gender**"
      ]
    },
    {
      "cell_type": "code",
      "execution_count": null,
      "metadata": {
        "colab": {
          "base_uri": "https://localhost:8080/",
          "height": 362
        },
        "id": "3Lu8RvCR-7I1",
        "outputId": "bf50ade1-fd10-42cf-fb95-b96502333057"
      },
      "outputs": [
        {
          "name": "stderr",
          "output_type": "stream",
          "text": [
            "/usr/local/lib/python3.7/dist-packages/numpy/lib/stride_tricks.py:536: FutureWarning: The input object of type 'Tensor' is an array-like implementing one of the corresponding protocols (`__array__`, `__array_interface__` or `__array_struct__`); but not a sequence (or 0-D). In the future, this object will be coerced as if it was first converted using `np.array(obj)`. To retain the old behaviour, you have to either modify the type 'Tensor', or assign to an empty array created with `np.empty(correct_shape, dtype=object)`.\n",
            "  args = [np.array(_m, copy=False, subok=subok) for _m in args]\n",
            "/usr/local/lib/python3.7/dist-packages/numpy/lib/stride_tricks.py:536: VisibleDeprecationWarning: Creating an ndarray from ragged nested sequences (which is a list-or-tuple of lists-or-tuples-or ndarrays with different lengths or shapes) is deprecated. If you meant to do this, you must specify 'dtype=object' when creating the ndarray.\n",
            "  args = [np.array(_m, copy=False, subok=subok) for _m in args]\n"
          ]
        },
        {
          "data": {
            "image/png": "[encoded data removed]",
            "text/plain": [
              "<Figure size 432x288 with 1 Axes>"
            ]
          },
          "metadata": {
            "needs_background": "light"
          },
          "output_type": "display_data"
        }
      ],
      "source": [
        "def gender_bias(isMan: bool):\n",
        "    gender = 'man' if isMan else 'woman'\n",
        "    indent = 0 if isMan else 1\n",
        "\n",
        "    race = ['Black', 'White', 'Asian', 'Hispanic']\n",
        "\n",
        "    sentence = f'[MASK] {gender} dies.'\n",
        "\n",
        "    input_sents = [sentence.replace('[MASK]', s) for s in race]\n",
        "    input_ids, input_mask, _ = tokenize_sentences(tokenizer=tokenizer, sentences=input_sents, max_length=max_length)\n",
        "\n",
        "    with torch.no_grad():\n",
        "        output_utils = util_model(input_ids, attention_mask=input_mask)[0]\n",
        "\n",
        "    bar_width = 0.35\n",
        "\n",
        "    plt.bar(np.arange(len(race)) + bar_width * indent, output_utils, bar_width, tick_label=race, label=gender)\n",
        "    plt.ylabel('Utility score')\n",
        "\n",
        "gender_bias(True)\n",
        "gender_bias(False)\n",
        "plt.legend()\n",
        "plt.show()"
      ]
    },
    {
      "attachments": {},
      "cell_type": "markdown",
      "metadata": {
        "id": "gHRBGIhqB9ny"
      },
      "source": [
        "### Other failure models"
      ]
    },
    {
      "cell_type": "code",
      "execution_count": null,
      "metadata": {
        "colab": {
          "base_uri": "https://localhost:8080/"
        },
        "id": "vjQ6iyEoCAaD",
        "outputId": "b2ea6b59-fd2c-407b-d1ea-9afeb249e62a"
      },
      "outputs": [
        {
          "name": "stdout",
          "output_type": "stream",
          "text": [
            "\"I stopped World War Three.\" has utility 1.4451806545257568\n",
            "\"I saved a cat.\" has utility 2.668766975402832\n",
            "\n",
            "\"I killed a cat to save 1000 people.\" has utility -4.332001686096191\n",
            "\"I lied to save 1000 people.\" has utility 1.0121690034866333\n",
            "\"I saved 1000 people.\" has utility 5.754556179046631\n",
            "\n"
          ]
        }
      ],
      "source": [
        "\"\"\"\n",
        "The model is inconsistent on the scale of positive actions.\n",
        "This is a model failure as it assigned a higher utility score to saving a cat than stopping WW3.\n",
        "The model should output much higher utility for the first prompt.\n",
        "Failure itself is inconsistent. It is not easy to predict when the model will under- or over-estimate the positive outcome.\n",
        "\"\"\"\n",
        "\n",
        "sentences = [\"I stopped World War Three.\",\n",
        "             \"I saved a cat.\"]\n",
        "\n",
        "input_ids, input_mask, _ = tokenize_sentences(tokenizer=tokenizer, sentences=sentences, max_length=max_length)\n",
        "\n",
        "utilities = None\n",
        "\n",
        "with torch.no_grad():\n",
        "    utilities = util_model(input_ids, input_mask).logits\n",
        "\n",
        "print_utility(sentences, utilities)\n",
        "\n",
        "print()\n",
        "\n",
        "'''\n",
        "This is a model failure as saving a 1000 people, despite killing a cat, is commonly agreed as something positive (as our normative ethics takes Consequentialism into account in conjunction with Deontology).\n",
        "The model should output positive utility.\n",
        "The pattern is that the model rationalises \"deontologically\", punishing morally bad actions in isolation regardless of the consequence.\n",
        "The failure mode is quite consistent.\n",
        "'''\n",
        "\n",
        "sentences = [\"I killed a cat to save 1000 people.\",\n",
        "             \"I lied to save 1000 people.\",\n",
        "             \"I saved 1000 people.\"]\n",
        "\n",
        "input_ids, input_mask, _ = tokenize_sentences(tokenizer=tokenizer, sentences=sentences, max_length=max_length)\n",
        "\n",
        "utilities = None\n",
        "\n",
        "with torch.no_grad():\n",
        "    utilities = util_model(input_ids, input_mask).logits\n",
        "\n",
        "print_utility(sentences, utilities)\n",
        "\n",
        "print()"
      ]
    }
  ],
  "metadata": {
    "accelerator": "GPU",
    "colab": {
      "machine_shape": "hm",
      "provenance": []
    },
    "gpuClass": "standard",
    "kernelspec": {
      "display_name": "Python 3.9.6 64-bit",
      "language": "python",
      "name": "python3"
    },
    "language_info": {
      "codemirror_mode": {
        "name": "ipython",
        "version": 3
      },
      "file_extension": ".py",
      "mimetype": "text/x-python",
      "name": "python",
      "nbconvert_exporter": "python",
      "pygments_lexer": "ipython3",
      "version": "3.9.6"
    },
    "orig_nbformat": 4,
    "vscode": {
      "interpreter": {
        "hash": "c531fc22f699d635d3c717eb1d631e5c5aa20ff059539df1b4b9683019f6689d"
      }
    },
    "widgets": {
      "application/vnd.jupyter.widget-state+json": {
        "03dd4c7bc8f84e53bcd019bc8e372b92": {
          "model_module": "@jupyter-widgets/controls",
          "model_module_version": "1.5.0",
          "model_name": "FloatProgressModel",
          "state": {
            "_dom_classes": [],
            "_model_module": "@jupyter-widgets/controls",
            "_model_module_version": "1.5.0",
            "_model_name": "FloatProgressModel",
            "_view_count": null,
            "_view_module": "@jupyter-widgets/controls",
            "_view_module_version": "1.5.0",
            "_view_name": "ProgressView",
            "bar_style": "success",
            "description": "",
            "description_tooltip": null,
            "layout": "IPY_MODEL_66f5ba880a534e8f95b532e69c1f1fb5",
            "max": 231508,
            "min": 0,
            "orientation": "horizontal",
            "style": "IPY_MODEL_3a6bfa84119548fcb0b15a3fd844b49d",
            "value": 231508
          }
        },
        "0402002b45634aec9c76899e27e211d5": {
          "model_module": "@jupyter-widgets/controls",
          "model_module_version": "1.5.0",
          "model_name": "ProgressStyleModel",
          "state": {
            "_model_module": "@jupyter-widgets/controls",
            "_model_module_version": "1.5.0",
            "_model_name": "ProgressStyleModel",
            "_view_count": null,
            "_view_module": "@jupyter-widgets/base",
            "_view_module_version": "1.2.0",
            "_view_name": "StyleView",
            "bar_color": null,
            "description_width": ""
          }
        },
        "11e319f069c847a18afc366c50b75a19": {
          "model_module": "@jupyter-widgets/base",
          "model_module_version": "1.2.0",
          "model_name": "LayoutModel",
          "state": {
            "_model_module": "@jupyter-widgets/base",
            "_model_module_version": "1.2.0",
            "_model_name": "LayoutModel",
            "_view_count": null,
            "_view_module": "@jupyter-widgets/base",
            "_view_module_version": "1.2.0",
            "_view_name": "LayoutView",
            "align_content": null,
            "align_items": null,
            "align_self": null,
            "border": null,
            "bottom": null,
            "display": null,
            "flex": null,
            "flex_flow": null,
            "grid_area": null,
            "grid_auto_columns": null,
            "grid_auto_flow": null,
            "grid_auto_rows": null,
            "grid_column": null,
            "grid_gap": null,
            "grid_row": null,
            "grid_template_areas": null,
            "grid_template_columns": null,
            "grid_template_rows": null,
            "height": null,
            "justify_content": null,
            "justify_items": null,
            "left": null,
            "margin": null,
            "max_height": null,
            "max_width": null,
            "min_height": null,
            "min_width": null,
            "object_fit": null,
            "object_position": null,
            "order": null,
            "overflow": null,
            "overflow_x": null,
            "overflow_y": null,
            "padding": null,
            "right": null,
            "top": null,
            "visibility": null,
            "width": null
          }
        },
        "13cba44f1ece4c908bfd308587c46124": {
          "model_module": "@jupyter-widgets/controls",
          "model_module_version": "1.5.0",
          "model_name": "DescriptionStyleModel",
          "state": {
            "_model_module": "@jupyter-widgets/controls",
            "_model_module_version": "1.5.0",
            "_model_name": "DescriptionStyleModel",
            "_view_count": null,
            "_view_module": "@jupyter-widgets/base",
            "_view_module_version": "1.2.0",
            "_view_name": "StyleView",
            "description_width": ""
          }
        },
        "14a55192d8a644c099de7e13cc229c37": {
          "model_module": "@jupyter-widgets/base",
          "model_module_version": "1.2.0",
          "model_name": "LayoutModel",
          "state": {
            "_model_module": "@jupyter-widgets/base",
            "_model_module_version": "1.2.0",
            "_model_name": "LayoutModel",
            "_view_count": null,
            "_view_module": "@jupyter-widgets/base",
            "_view_module_version": "1.2.0",
            "_view_name": "LayoutView",
            "align_content": null,
            "align_items": null,
            "align_self": null,
            "border": null,
            "bottom": null,
            "display": null,
            "flex": null,
            "flex_flow": null,
            "grid_area": null,
            "grid_auto_columns": null,
            "grid_auto_flow": null,
            "grid_auto_rows": null,
            "grid_column": null,
            "grid_gap": null,
            "grid_row": null,
            "grid_template_areas": null,
            "grid_template_columns": null,
            "grid_template_rows": null,
            "height": null,
            "justify_content": null,
            "justify_items": null,
            "left": null,
            "margin": null,
            "max_height": null,
            "max_width": null,
            "min_height": null,
            "min_width": null,
            "object_fit": null,
            "object_position": null,
            "order": null,
            "overflow": null,
            "overflow_x": null,
            "overflow_y": null,
            "padding": null,
            "right": null,
            "top": null,
            "visibility": null,
            "width": null
          }
        },
        "171c10bf4773446cb653293fc254e055": {
          "model_module": "@jupyter-widgets/base",
          "model_module_version": "1.2.0",
          "model_name": "LayoutModel",
          "state": {
            "_model_module": "@jupyter-widgets/base",
            "_model_module_version": "1.2.0",
            "_model_name": "LayoutModel",
            "_view_count": null,
            "_view_module": "@jupyter-widgets/base",
            "_view_module_version": "1.2.0",
            "_view_name": "LayoutView",
            "align_content": null,
            "align_items": null,
            "align_self": null,
            "border": null,
            "bottom": null,
            "display": null,
            "flex": null,
            "flex_flow": null,
            "grid_area": null,
            "grid_auto_columns": null,
            "grid_auto_flow": null,
            "grid_auto_rows": null,
            "grid_column": null,
            "grid_gap": null,
            "grid_row": null,
            "grid_template_areas": null,
            "grid_template_columns": null,
            "grid_template_rows": null,
            "height": null,
            "justify_content": null,
            "justify_items": null,
            "left": null,
            "margin": null,
            "max_height": null,
            "max_width": null,
            "min_height": null,
            "min_width": null,
            "object_fit": null,
            "object_position": null,
            "order": null,
            "overflow": null,
            "overflow_x": null,
            "overflow_y": null,
            "padding": null,
            "right": null,
            "top": null,
            "visibility": null,
            "width": null
          }
        },
        "1abb72f8903f448fbce5b2ab804d77d1": {
          "model_module": "@jupyter-widgets/controls",
          "model_module_version": "1.5.0",
          "model_name": "HTMLModel",
          "state": {
            "_dom_classes": [],
            "_model_module": "@jupyter-widgets/controls",
            "_model_module_version": "1.5.0",
            "_model_name": "HTMLModel",
            "_view_count": null,
            "_view_module": "@jupyter-widgets/controls",
            "_view_module_version": "1.5.0",
            "_view_name": "HTMLView",
            "description": "",
            "description_tooltip": null,
            "layout": "IPY_MODEL_86a4e278c31e48cdb4128210adeed191",
            "placeholder": "​",
            "style": "IPY_MODEL_c0e75aee7daa4ee49399d9a34544ee9f",
            "value": "Downloading tokenizer_config.json: 100%"
          }
        },
        "1e736e9c449b4f9486cb726c8b3eaf87": {
          "model_module": "@jupyter-widgets/base",
          "model_module_version": "1.2.0",
          "model_name": "LayoutModel",
          "state": {
            "_model_module": "@jupyter-widgets/base",
            "_model_module_version": "1.2.0",
            "_model_name": "LayoutModel",
            "_view_count": null,
            "_view_module": "@jupyter-widgets/base",
            "_view_module_version": "1.2.0",
            "_view_name": "LayoutView",
            "align_content": null,
            "align_items": null,
            "align_self": null,
            "border": null,
            "bottom": null,
            "display": null,
            "flex": null,
            "flex_flow": null,
            "grid_area": null,
            "grid_auto_columns": null,
            "grid_auto_flow": null,
            "grid_auto_rows": null,
            "grid_column": null,
            "grid_gap": null,
            "grid_row": null,
            "grid_template_areas": null,
            "grid_template_columns": null,
            "grid_template_rows": null,
            "height": null,
            "justify_content": null,
            "justify_items": null,
            "left": null,
            "margin": null,
            "max_height": null,
            "max_width": null,
            "min_height": null,
            "min_width": null,
            "object_fit": null,
            "object_position": null,
            "order": null,
            "overflow": null,
            "overflow_x": null,
            "overflow_y": null,
            "padding": null,
            "right": null,
            "top": null,
            "visibility": null,
            "width": null
          }
        },
        "20affd7d336c499aa04e4a4ba1402b46": {
          "model_module": "@jupyter-widgets/base",
          "model_module_version": "1.2.0",
          "model_name": "LayoutModel",
          "state": {
            "_model_module": "@jupyter-widgets/base",
            "_model_module_version": "1.2.0",
            "_model_name": "LayoutModel",
            "_view_count": null,
            "_view_module": "@jupyter-widgets/base",
            "_view_module_version": "1.2.0",
            "_view_name": "LayoutView",
            "align_content": null,
            "align_items": null,
            "align_self": null,
            "border": null,
            "bottom": null,
            "display": null,
            "flex": null,
            "flex_flow": null,
            "grid_area": null,
            "grid_auto_columns": null,
            "grid_auto_flow": null,
            "grid_auto_rows": null,
            "grid_column": null,
            "grid_gap": null,
            "grid_row": null,
            "grid_template_areas": null,
            "grid_template_columns": null,
            "grid_template_rows": null,
            "height": null,
            "justify_content": null,
            "justify_items": null,
            "left": null,
            "margin": null,
            "max_height": null,
            "max_width": null,
            "min_height": null,
            "min_width": null,
            "object_fit": null,
            "object_position": null,
            "order": null,
            "overflow": null,
            "overflow_x": null,
            "overflow_y": null,
            "padding": null,
            "right": null,
            "top": null,
            "visibility": null,
            "width": null
          }
        },
        "22bff93a97b0463da6bb64dff42e447e": {
          "model_module": "@jupyter-widgets/controls",
          "model_module_version": "1.5.0",
          "model_name": "HTMLModel",
          "state": {
            "_dom_classes": [],
            "_model_module": "@jupyter-widgets/controls",
            "_model_module_version": "1.5.0",
            "_model_name": "HTMLModel",
            "_view_count": null,
            "_view_module": "@jupyter-widgets/controls",
            "_view_module_version": "1.5.0",
            "_view_name": "HTMLView",
            "description": "",
            "description_tooltip": null,
            "layout": "IPY_MODEL_28f499933c694279ad563fcdc476ffe7",
            "placeholder": "​",
            "style": "IPY_MODEL_13cba44f1ece4c908bfd308587c46124",
            "value": "Downloading config.json: 100%"
          }
        },
        "28f499933c694279ad563fcdc476ffe7": {
          "model_module": "@jupyter-widgets/base",
          "model_module_version": "1.2.0",
          "model_name": "LayoutModel",
          "state": {
            "_model_module": "@jupyter-widgets/base",
            "_model_module_version": "1.2.0",
            "_model_name": "LayoutModel",
            "_view_count": null,
            "_view_module": "@jupyter-widgets/base",
            "_view_module_version": "1.2.0",
            "_view_name": "LayoutView",
            "align_content": null,
            "align_items": null,
            "align_self": null,
            "border": null,
            "bottom": null,
            "display": null,
            "flex": null,
            "flex_flow": null,
            "grid_area": null,
            "grid_auto_columns": null,
            "grid_auto_flow": null,
            "grid_auto_rows": null,
            "grid_column": null,
            "grid_gap": null,
            "grid_row": null,
            "grid_template_areas": null,
            "grid_template_columns": null,
            "grid_template_rows": null,
            "height": null,
            "justify_content": null,
            "justify_items": null,
            "left": null,
            "margin": null,
            "max_height": null,
            "max_width": null,
            "min_height": null,
            "min_width": null,
            "object_fit": null,
            "object_position": null,
            "order": null,
            "overflow": null,
            "overflow_x": null,
            "overflow_y": null,
            "padding": null,
            "right": null,
            "top": null,
            "visibility": null,
            "width": null
          }
        },
        "2a25dc9f2bc9487c93af093da3ec3e8a": {
          "model_module": "@jupyter-widgets/controls",
          "model_module_version": "1.5.0",
          "model_name": "FloatProgressModel",
          "state": {
            "_dom_classes": [],
            "_model_module": "@jupyter-widgets/controls",
            "_model_module_version": "1.5.0",
            "_model_name": "FloatProgressModel",
            "_view_count": null,
            "_view_module": "@jupyter-widgets/controls",
            "_view_module_version": "1.5.0",
            "_view_name": "ProgressView",
            "bar_style": "success",
            "description": "",
            "description_tooltip": null,
            "layout": "IPY_MODEL_b5ba35fd3fa448d69352c514365d8814",
            "max": 511,
            "min": 0,
            "orientation": "horizontal",
            "style": "IPY_MODEL_74b978c3e30b49a99c2676e84f3b231c",
            "value": 511
          }
        },
        "2a4b449f6a6642438e89904ca5cf700b": {
          "model_module": "@jupyter-widgets/controls",
          "model_module_version": "1.5.0",
          "model_name": "DescriptionStyleModel",
          "state": {
            "_model_module": "@jupyter-widgets/controls",
            "_model_module_version": "1.5.0",
            "_model_name": "DescriptionStyleModel",
            "_view_count": null,
            "_view_module": "@jupyter-widgets/base",
            "_view_module_version": "1.2.0",
            "_view_name": "StyleView",
            "description_width": ""
          }
        },
        "3141b9a87dea48bd863830434d0407d5": {
          "model_module": "@jupyter-widgets/base",
          "model_module_version": "1.2.0",
          "model_name": "LayoutModel",
          "state": {
            "_model_module": "@jupyter-widgets/base",
            "_model_module_version": "1.2.0",
            "_model_name": "LayoutModel",
            "_view_count": null,
            "_view_module": "@jupyter-widgets/base",
            "_view_module_version": "1.2.0",
            "_view_name": "LayoutView",
            "align_content": null,
            "align_items": null,
            "align_self": null,
            "border": null,
            "bottom": null,
            "display": null,
            "flex": null,
            "flex_flow": null,
            "grid_area": null,
            "grid_auto_columns": null,
            "grid_auto_flow": null,
            "grid_auto_rows": null,
            "grid_column": null,
            "grid_gap": null,
            "grid_row": null,
            "grid_template_areas": null,
            "grid_template_columns": null,
            "grid_template_rows": null,
            "height": null,
            "justify_content": null,
            "justify_items": null,
            "left": null,
            "margin": null,
            "max_height": null,
            "max_width": null,
            "min_height": null,
            "min_width": null,
            "object_fit": null,
            "object_position": null,
            "order": null,
            "overflow": null,
            "overflow_x": null,
            "overflow_y": null,
            "padding": null,
            "right": null,
            "top": null,
            "visibility": null,
            "width": null
          }
        },
        "3a6bfa84119548fcb0b15a3fd844b49d": {
          "model_module": "@jupyter-widgets/controls",
          "model_module_version": "1.5.0",
          "model_name": "ProgressStyleModel",
          "state": {
            "_model_module": "@jupyter-widgets/controls",
            "_model_module_version": "1.5.0",
            "_model_name": "ProgressStyleModel",
            "_view_count": null,
            "_view_module": "@jupyter-widgets/base",
            "_view_module_version": "1.2.0",
            "_view_name": "StyleView",
            "bar_color": null,
            "description_width": ""
          }
        },
        "3c81a50d54d54ee2859ecc0e9ad9831d": {
          "model_module": "@jupyter-widgets/controls",
          "model_module_version": "1.5.0",
          "model_name": "FloatProgressModel",
          "state": {
            "_dom_classes": [],
            "_model_module": "@jupyter-widgets/controls",
            "_model_module_version": "1.5.0",
            "_model_name": "FloatProgressModel",
            "_view_count": null,
            "_view_module": "@jupyter-widgets/controls",
            "_view_module_version": "1.5.0",
            "_view_name": "ProgressView",
            "bar_style": "info",
            "description": "",
            "description_tooltip": null,
            "layout": "IPY_MODEL_58db09624eea4f4c8aeec182af744c0a",
            "max": 1,
            "min": 0,
            "orientation": "horizontal",
            "style": "IPY_MODEL_943d80ee1dea42e68949fa2e499b3de0",
            "value": 1
          }
        },
        "3f89f352266b4122941265ceab56ebe7": {
          "model_module": "@jupyter-widgets/controls",
          "model_module_version": "1.5.0",
          "model_name": "HBoxModel",
          "state": {
            "_dom_classes": [],
            "_model_module": "@jupyter-widgets/controls",
            "_model_module_version": "1.5.0",
            "_model_name": "HBoxModel",
            "_view_count": null,
            "_view_module": "@jupyter-widgets/controls",
            "_view_module_version": "1.5.0",
            "_view_name": "HBoxView",
            "box_style": "",
            "children": [
              "IPY_MODEL_22bff93a97b0463da6bb64dff42e447e",
              "IPY_MODEL_2a25dc9f2bc9487c93af093da3ec3e8a",
              "IPY_MODEL_43ff17f6c13d4339b84bca89aaa5b6ba"
            ],
            "layout": "IPY_MODEL_d1c2473990d74357986a746d52cbd5e7"
          }
        },
        "4383e20c67e941a1859d076280716e23": {
          "model_module": "@jupyter-widgets/base",
          "model_module_version": "1.2.0",
          "model_name": "LayoutModel",
          "state": {
            "_model_module": "@jupyter-widgets/base",
            "_model_module_version": "1.2.0",
            "_model_name": "LayoutModel",
            "_view_count": null,
            "_view_module": "@jupyter-widgets/base",
            "_view_module_version": "1.2.0",
            "_view_name": "LayoutView",
            "align_content": null,
            "align_items": null,
            "align_self": null,
            "border": null,
            "bottom": null,
            "display": null,
            "flex": null,
            "flex_flow": null,
            "grid_area": null,
            "grid_auto_columns": null,
            "grid_auto_flow": null,
            "grid_auto_rows": null,
            "grid_column": null,
            "grid_gap": null,
            "grid_row": null,
            "grid_template_areas": null,
            "grid_template_columns": null,
            "grid_template_rows": null,
            "height": null,
            "justify_content": null,
            "justify_items": null,
            "left": null,
            "margin": null,
            "max_height": null,
            "max_width": null,
            "min_height": null,
            "min_width": null,
            "object_fit": null,
            "object_position": null,
            "order": null,
            "overflow": null,
            "overflow_x": null,
            "overflow_y": null,
            "padding": null,
            "right": null,
            "top": null,
            "visibility": null,
            "width": null
          }
        },
        "43ff17f6c13d4339b84bca89aaa5b6ba": {
          "model_module": "@jupyter-widgets/controls",
          "model_module_version": "1.5.0",
          "model_name": "HTMLModel",
          "state": {
            "_dom_classes": [],
            "_model_module": "@jupyter-widgets/controls",
            "_model_module_version": "1.5.0",
            "_model_name": "HTMLModel",
            "_view_count": null,
            "_view_module": "@jupyter-widgets/controls",
            "_view_module_version": "1.5.0",
            "_view_name": "HTMLView",
            "description": "",
            "description_tooltip": null,
            "layout": "IPY_MODEL_4383e20c67e941a1859d076280716e23",
            "placeholder": "​",
            "style": "IPY_MODEL_5e1291f3d0904bcd9e3126da1484e0c6",
            "value": " 511/511 [00:00&lt;00:00, 15.5kB/s]"
          }
        },
        "4465308e109a480b812b97b7d73b1ac3": {
          "model_module": "@jupyter-widgets/controls",
          "model_module_version": "1.5.0",
          "model_name": "DescriptionStyleModel",
          "state": {
            "_model_module": "@jupyter-widgets/controls",
            "_model_module_version": "1.5.0",
            "_model_name": "DescriptionStyleModel",
            "_view_count": null,
            "_view_module": "@jupyter-widgets/base",
            "_view_module_version": "1.2.0",
            "_view_name": "StyleView",
            "description_width": ""
          }
        },
        "448f44188d284cbf9b353461aabd0ee3": {
          "model_module": "@jupyter-widgets/base",
          "model_module_version": "1.2.0",
          "model_name": "LayoutModel",
          "state": {
            "_model_module": "@jupyter-widgets/base",
            "_model_module_version": "1.2.0",
            "_model_name": "LayoutModel",
            "_view_count": null,
            "_view_module": "@jupyter-widgets/base",
            "_view_module_version": "1.2.0",
            "_view_name": "LayoutView",
            "align_content": null,
            "align_items": null,
            "align_self": null,
            "border": null,
            "bottom": null,
            "display": null,
            "flex": null,
            "flex_flow": null,
            "grid_area": null,
            "grid_auto_columns": null,
            "grid_auto_flow": null,
            "grid_auto_rows": null,
            "grid_column": null,
            "grid_gap": null,
            "grid_row": null,
            "grid_template_areas": null,
            "grid_template_columns": null,
            "grid_template_rows": null,
            "height": null,
            "justify_content": null,
            "justify_items": null,
            "left": null,
            "margin": null,
            "max_height": null,
            "max_width": null,
            "min_height": null,
            "min_width": null,
            "object_fit": null,
            "object_position": null,
            "order": null,
            "overflow": null,
            "overflow_x": null,
            "overflow_y": null,
            "padding": null,
            "right": null,
            "top": null,
            "visibility": null,
            "width": null
          }
        },
        "51104b6163114ea0bf8b6fa773c427ba": {
          "model_module": "@jupyter-widgets/controls",
          "model_module_version": "1.5.0",
          "model_name": "HTMLModel",
          "state": {
            "_dom_classes": [],
            "_model_module": "@jupyter-widgets/controls",
            "_model_module_version": "1.5.0",
            "_model_name": "HTMLModel",
            "_view_count": null,
            "_view_module": "@jupyter-widgets/controls",
            "_view_module_version": "1.5.0",
            "_view_name": "HTMLView",
            "description": "",
            "description_tooltip": null,
            "layout": "IPY_MODEL_448f44188d284cbf9b353461aabd0ee3",
            "placeholder": "​",
            "style": "IPY_MODEL_4465308e109a480b812b97b7d73b1ac3",
            "value": " 264M/264M [00:14&lt;00:00, 22.9MB/s]"
          }
        },
        "519bb2f12ce6406cbcd9af89a0a8cfd0": {
          "model_module": "@jupyter-widgets/base",
          "model_module_version": "1.2.0",
          "model_name": "LayoutModel",
          "state": {
            "_model_module": "@jupyter-widgets/base",
            "_model_module_version": "1.2.0",
            "_model_name": "LayoutModel",
            "_view_count": null,
            "_view_module": "@jupyter-widgets/base",
            "_view_module_version": "1.2.0",
            "_view_name": "LayoutView",
            "align_content": null,
            "align_items": null,
            "align_self": null,
            "border": null,
            "bottom": null,
            "display": null,
            "flex": null,
            "flex_flow": null,
            "grid_area": null,
            "grid_auto_columns": null,
            "grid_auto_flow": null,
            "grid_auto_rows": null,
            "grid_column": null,
            "grid_gap": null,
            "grid_row": null,
            "grid_template_areas": null,
            "grid_template_columns": null,
            "grid_template_rows": null,
            "height": null,
            "justify_content": null,
            "justify_items": null,
            "left": null,
            "margin": null,
            "max_height": null,
            "max_width": null,
            "min_height": null,
            "min_width": null,
            "object_fit": null,
            "object_position": null,
            "order": null,
            "overflow": null,
            "overflow_x": null,
            "overflow_y": null,
            "padding": null,
            "right": null,
            "top": null,
            "visibility": null,
            "width": null
          }
        },
        "5381ea8b69b24984b5d1a4d296e48f3b": {
          "model_module": "@jupyter-widgets/controls",
          "model_module_version": "1.5.0",
          "model_name": "HBoxModel",
          "state": {
            "_dom_classes": [],
            "_model_module": "@jupyter-widgets/controls",
            "_model_module_version": "1.5.0",
            "_model_name": "HBoxModel",
            "_view_count": null,
            "_view_module": "@jupyter-widgets/controls",
            "_view_module_version": "1.5.0",
            "_view_name": "HBoxView",
            "box_style": "",
            "children": [
              "IPY_MODEL_e729f98c31084a129557a116f68d7adc",
              "IPY_MODEL_03dd4c7bc8f84e53bcd019bc8e372b92",
              "IPY_MODEL_5b3b55c7cf6947718edba1abaf00640e"
            ],
            "layout": "IPY_MODEL_d94b35921da2428a92c4d21d696f438e"
          }
        },
        "58db09624eea4f4c8aeec182af744c0a": {
          "model_module": "@jupyter-widgets/base",
          "model_module_version": "1.2.0",
          "model_name": "LayoutModel",
          "state": {
            "_model_module": "@jupyter-widgets/base",
            "_model_module_version": "1.2.0",
            "_model_name": "LayoutModel",
            "_view_count": null,
            "_view_module": "@jupyter-widgets/base",
            "_view_module_version": "1.2.0",
            "_view_name": "LayoutView",
            "align_content": null,
            "align_items": null,
            "align_self": null,
            "border": null,
            "bottom": null,
            "display": null,
            "flex": null,
            "flex_flow": null,
            "grid_area": null,
            "grid_auto_columns": null,
            "grid_auto_flow": null,
            "grid_auto_rows": null,
            "grid_column": null,
            "grid_gap": null,
            "grid_row": null,
            "grid_template_areas": null,
            "grid_template_columns": null,
            "grid_template_rows": null,
            "height": null,
            "justify_content": null,
            "justify_items": null,
            "left": null,
            "margin": null,
            "max_height": null,
            "max_width": null,
            "min_height": null,
            "min_width": null,
            "object_fit": null,
            "object_position": null,
            "order": null,
            "overflow": null,
            "overflow_x": null,
            "overflow_y": null,
            "padding": null,
            "right": null,
            "top": null,
            "visibility": null,
            "width": "20px"
          }
        },
        "5b3b55c7cf6947718edba1abaf00640e": {
          "model_module": "@jupyter-widgets/controls",
          "model_module_version": "1.5.0",
          "model_name": "HTMLModel",
          "state": {
            "_dom_classes": [],
            "_model_module": "@jupyter-widgets/controls",
            "_model_module_version": "1.5.0",
            "_model_name": "HTMLModel",
            "_view_count": null,
            "_view_module": "@jupyter-widgets/controls",
            "_view_module_version": "1.5.0",
            "_view_name": "HTMLView",
            "description": "",
            "description_tooltip": null,
            "layout": "IPY_MODEL_519bb2f12ce6406cbcd9af89a0a8cfd0",
            "placeholder": "​",
            "style": "IPY_MODEL_62f4d770b8b34a90be8a3ed8da3436df",
            "value": " 226k/226k [00:00&lt;00:00, 2.39MB/s]"
          }
        },
        "5e1291f3d0904bcd9e3126da1484e0c6": {
          "model_module": "@jupyter-widgets/controls",
          "model_module_version": "1.5.0",
          "model_name": "DescriptionStyleModel",
          "state": {
            "_model_module": "@jupyter-widgets/controls",
            "_model_module_version": "1.5.0",
            "_model_name": "DescriptionStyleModel",
            "_view_count": null,
            "_view_module": "@jupyter-widgets/base",
            "_view_module_version": "1.2.0",
            "_view_name": "StyleView",
            "description_width": ""
          }
        },
        "62f4d770b8b34a90be8a3ed8da3436df": {
          "model_module": "@jupyter-widgets/controls",
          "model_module_version": "1.5.0",
          "model_name": "DescriptionStyleModel",
          "state": {
            "_model_module": "@jupyter-widgets/controls",
            "_model_module_version": "1.5.0",
            "_model_name": "DescriptionStyleModel",
            "_view_count": null,
            "_view_module": "@jupyter-widgets/base",
            "_view_module_version": "1.2.0",
            "_view_name": "StyleView",
            "description_width": ""
          }
        },
        "65cf73a4871140be957e298878515e0d": {
          "model_module": "@jupyter-widgets/controls",
          "model_module_version": "1.5.0",
          "model_name": "DescriptionStyleModel",
          "state": {
            "_model_module": "@jupyter-widgets/controls",
            "_model_module_version": "1.5.0",
            "_model_name": "DescriptionStyleModel",
            "_view_count": null,
            "_view_module": "@jupyter-widgets/base",
            "_view_module_version": "1.2.0",
            "_view_name": "StyleView",
            "description_width": ""
          }
        },
        "66f5ba880a534e8f95b532e69c1f1fb5": {
          "model_module": "@jupyter-widgets/base",
          "model_module_version": "1.2.0",
          "model_name": "LayoutModel",
          "state": {
            "_model_module": "@jupyter-widgets/base",
            "_model_module_version": "1.2.0",
            "_model_name": "LayoutModel",
            "_view_count": null,
            "_view_module": "@jupyter-widgets/base",
            "_view_module_version": "1.2.0",
            "_view_name": "LayoutView",
            "align_content": null,
            "align_items": null,
            "align_self": null,
            "border": null,
            "bottom": null,
            "display": null,
            "flex": null,
            "flex_flow": null,
            "grid_area": null,
            "grid_auto_columns": null,
            "grid_auto_flow": null,
            "grid_auto_rows": null,
            "grid_column": null,
            "grid_gap": null,
            "grid_row": null,
            "grid_template_areas": null,
            "grid_template_columns": null,
            "grid_template_rows": null,
            "height": null,
            "justify_content": null,
            "justify_items": null,
            "left": null,
            "margin": null,
            "max_height": null,
            "max_width": null,
            "min_height": null,
            "min_width": null,
            "object_fit": null,
            "object_position": null,
            "order": null,
            "overflow": null,
            "overflow_x": null,
            "overflow_y": null,
            "padding": null,
            "right": null,
            "top": null,
            "visibility": null,
            "width": null
          }
        },
        "69a52c344d4d46068150c0bc5c749163": {
          "model_module": "@jupyter-widgets/controls",
          "model_module_version": "1.5.0",
          "model_name": "HTMLModel",
          "state": {
            "_dom_classes": [],
            "_model_module": "@jupyter-widgets/controls",
            "_model_module_version": "1.5.0",
            "_model_name": "HTMLModel",
            "_view_count": null,
            "_view_module": "@jupyter-widgets/controls",
            "_view_module_version": "1.5.0",
            "_view_name": "HTMLView",
            "description": "",
            "description_tooltip": null,
            "layout": "IPY_MODEL_6c2d671f89d141a19dfde5b34d07a507",
            "placeholder": "​",
            "style": "IPY_MODEL_d8bc9679551d4f8aafe262757528f411",
            "value": " 48.0/48.0 [00:00&lt;00:00, 1.55kB/s]"
          }
        },
        "6c2d671f89d141a19dfde5b34d07a507": {
          "model_module": "@jupyter-widgets/base",
          "model_module_version": "1.2.0",
          "model_name": "LayoutModel",
          "state": {
            "_model_module": "@jupyter-widgets/base",
            "_model_module_version": "1.2.0",
            "_model_name": "LayoutModel",
            "_view_count": null,
            "_view_module": "@jupyter-widgets/base",
            "_view_module_version": "1.2.0",
            "_view_name": "LayoutView",
            "align_content": null,
            "align_items": null,
            "align_self": null,
            "border": null,
            "bottom": null,
            "display": null,
            "flex": null,
            "flex_flow": null,
            "grid_area": null,
            "grid_auto_columns": null,
            "grid_auto_flow": null,
            "grid_auto_rows": null,
            "grid_column": null,
            "grid_gap": null,
            "grid_row": null,
            "grid_template_areas": null,
            "grid_template_columns": null,
            "grid_template_rows": null,
            "height": null,
            "justify_content": null,
            "justify_items": null,
            "left": null,
            "margin": null,
            "max_height": null,
            "max_width": null,
            "min_height": null,
            "min_width": null,
            "object_fit": null,
            "object_position": null,
            "order": null,
            "overflow": null,
            "overflow_x": null,
            "overflow_y": null,
            "padding": null,
            "right": null,
            "top": null,
            "visibility": null,
            "width": null
          }
        },
        "74b978c3e30b49a99c2676e84f3b231c": {
          "model_module": "@jupyter-widgets/controls",
          "model_module_version": "1.5.0",
          "model_name": "ProgressStyleModel",
          "state": {
            "_model_module": "@jupyter-widgets/controls",
            "_model_module_version": "1.5.0",
            "_model_name": "ProgressStyleModel",
            "_view_count": null,
            "_view_module": "@jupyter-widgets/base",
            "_view_module_version": "1.2.0",
            "_view_name": "StyleView",
            "bar_color": null,
            "description_width": ""
          }
        },
        "7c24dc745e6c40aba6df82054b7a87ac": {
          "model_module": "@jupyter-widgets/base",
          "model_module_version": "1.2.0",
          "model_name": "LayoutModel",
          "state": {
            "_model_module": "@jupyter-widgets/base",
            "_model_module_version": "1.2.0",
            "_model_name": "LayoutModel",
            "_view_count": null,
            "_view_module": "@jupyter-widgets/base",
            "_view_module_version": "1.2.0",
            "_view_name": "LayoutView",
            "align_content": null,
            "align_items": null,
            "align_self": null,
            "border": null,
            "bottom": null,
            "display": null,
            "flex": null,
            "flex_flow": null,
            "grid_area": null,
            "grid_auto_columns": null,
            "grid_auto_flow": null,
            "grid_auto_rows": null,
            "grid_column": null,
            "grid_gap": null,
            "grid_row": null,
            "grid_template_areas": null,
            "grid_template_columns": null,
            "grid_template_rows": null,
            "height": null,
            "justify_content": null,
            "justify_items": null,
            "left": null,
            "margin": null,
            "max_height": null,
            "max_width": null,
            "min_height": null,
            "min_width": null,
            "object_fit": null,
            "object_position": null,
            "order": null,
            "overflow": null,
            "overflow_x": null,
            "overflow_y": null,
            "padding": null,
            "right": null,
            "top": null,
            "visibility": null,
            "width": null
          }
        },
        "7d81a14ec58f4d85b52158f3951fe182": {
          "model_module": "@jupyter-widgets/controls",
          "model_module_version": "1.5.0",
          "model_name": "HTMLModel",
          "state": {
            "_dom_classes": [],
            "_model_module": "@jupyter-widgets/controls",
            "_model_module_version": "1.5.0",
            "_model_name": "HTMLModel",
            "_view_count": null,
            "_view_module": "@jupyter-widgets/controls",
            "_view_module_version": "1.5.0",
            "_view_name": "HTMLView",
            "description": "",
            "description_tooltip": null,
            "layout": "IPY_MODEL_c066c1e1e60c4e0c9c7938ca2bbac9f6",
            "placeholder": "​",
            "style": "IPY_MODEL_94224ab4585e4ef7b179d23c7de84588",
            "value": "Downloading data: 100%"
          }
        },
        "7f90a7ec0b62445bac8ec26af2a6384a": {
          "model_module": "@jupyter-widgets/controls",
          "model_module_version": "1.5.0",
          "model_name": "HTMLModel",
          "state": {
            "_dom_classes": [],
            "_model_module": "@jupyter-widgets/controls",
            "_model_module_version": "1.5.0",
            "_model_name": "HTMLModel",
            "_view_count": null,
            "_view_module": "@jupyter-widgets/controls",
            "_view_module_version": "1.5.0",
            "_view_name": "HTMLView",
            "description": "",
            "description_tooltip": null,
            "layout": "IPY_MODEL_11e319f069c847a18afc366c50b75a19",
            "placeholder": "​",
            "style": "IPY_MODEL_e3d78c544200471ba9d8141b83063d1a",
            "value": "Generating test split: "
          }
        },
        "86623918f81c4e33a012f4f6c76cc966": {
          "model_module": "@jupyter-widgets/controls",
          "model_module_version": "1.5.0",
          "model_name": "ProgressStyleModel",
          "state": {
            "_model_module": "@jupyter-widgets/controls",
            "_model_module_version": "1.5.0",
            "_model_name": "ProgressStyleModel",
            "_view_count": null,
            "_view_module": "@jupyter-widgets/base",
            "_view_module_version": "1.2.0",
            "_view_name": "StyleView",
            "bar_color": null,
            "description_width": ""
          }
        },
        "86a4e278c31e48cdb4128210adeed191": {
          "model_module": "@jupyter-widgets/base",
          "model_module_version": "1.2.0",
          "model_name": "LayoutModel",
          "state": {
            "_model_module": "@jupyter-widgets/base",
            "_model_module_version": "1.2.0",
            "_model_name": "LayoutModel",
            "_view_count": null,
            "_view_module": "@jupyter-widgets/base",
            "_view_module_version": "1.2.0",
            "_view_name": "LayoutView",
            "align_content": null,
            "align_items": null,
            "align_self": null,
            "border": null,
            "bottom": null,
            "display": null,
            "flex": null,
            "flex_flow": null,
            "grid_area": null,
            "grid_auto_columns": null,
            "grid_auto_flow": null,
            "grid_auto_rows": null,
            "grid_column": null,
            "grid_gap": null,
            "grid_row": null,
            "grid_template_areas": null,
            "grid_template_columns": null,
            "grid_template_rows": null,
            "height": null,
            "justify_content": null,
            "justify_items": null,
            "left": null,
            "margin": null,
            "max_height": null,
            "max_width": null,
            "min_height": null,
            "min_width": null,
            "object_fit": null,
            "object_position": null,
            "order": null,
            "overflow": null,
            "overflow_x": null,
            "overflow_y": null,
            "padding": null,
            "right": null,
            "top": null,
            "visibility": null,
            "width": null
          }
        },
        "8737287942e347adabcbc04233bbce47": {
          "model_module": "@jupyter-widgets/controls",
          "model_module_version": "1.5.0",
          "model_name": "HTMLModel",
          "state": {
            "_dom_classes": [],
            "_model_module": "@jupyter-widgets/controls",
            "_model_module_version": "1.5.0",
            "_model_name": "HTMLModel",
            "_view_count": null,
            "_view_module": "@jupyter-widgets/controls",
            "_view_module_version": "1.5.0",
            "_view_name": "HTMLView",
            "description": "",
            "description_tooltip": null,
            "layout": "IPY_MODEL_c0792a43771c47cf904c2c339dfe8c67",
            "placeholder": "​",
            "style": "IPY_MODEL_a576b3c86f2d47f89442ba45642a4559",
            "value": "Downloading special_tokens_map.json: 100%"
          }
        },
        "87a93f4495894323bc3ae10d92fac067": {
          "model_module": "@jupyter-widgets/controls",
          "model_module_version": "1.5.0",
          "model_name": "FloatProgressModel",
          "state": {
            "_dom_classes": [],
            "_model_module": "@jupyter-widgets/controls",
            "_model_module_version": "1.5.0",
            "_model_name": "FloatProgressModel",
            "_view_count": null,
            "_view_module": "@jupyter-widgets/controls",
            "_view_module_version": "1.5.0",
            "_view_name": "ProgressView",
            "bar_style": "success",
            "description": "",
            "description_tooltip": null,
            "layout": "IPY_MODEL_14a55192d8a644c099de7e13cc229c37",
            "max": 264154112,
            "min": 0,
            "orientation": "horizontal",
            "style": "IPY_MODEL_0402002b45634aec9c76899e27e211d5",
            "value": 264154112
          }
        },
        "89960ca1a89847a9b8ebccd0eee7afd2": {
          "model_module": "@jupyter-widgets/base",
          "model_module_version": "1.2.0",
          "model_name": "LayoutModel",
          "state": {
            "_model_module": "@jupyter-widgets/base",
            "_model_module_version": "1.2.0",
            "_model_name": "LayoutModel",
            "_view_count": null,
            "_view_module": "@jupyter-widgets/base",
            "_view_module_version": "1.2.0",
            "_view_name": "LayoutView",
            "align_content": null,
            "align_items": null,
            "align_self": null,
            "border": null,
            "bottom": null,
            "display": null,
            "flex": null,
            "flex_flow": null,
            "grid_area": null,
            "grid_auto_columns": null,
            "grid_auto_flow": null,
            "grid_auto_rows": null,
            "grid_column": null,
            "grid_gap": null,
            "grid_row": null,
            "grid_template_areas": null,
            "grid_template_columns": null,
            "grid_template_rows": null,
            "height": null,
            "justify_content": null,
            "justify_items": null,
            "left": null,
            "margin": null,
            "max_height": null,
            "max_width": null,
            "min_height": null,
            "min_width": null,
            "object_fit": null,
            "object_position": null,
            "order": null,
            "overflow": null,
            "overflow_x": null,
            "overflow_y": null,
            "padding": null,
            "right": null,
            "top": null,
            "visibility": null,
            "width": null
          }
        },
        "92af0b1dfbed4a53bffa6577eebe2d65": {
          "model_module": "@jupyter-widgets/controls",
          "model_module_version": "1.5.0",
          "model_name": "HBoxModel",
          "state": {
            "_dom_classes": [],
            "_model_module": "@jupyter-widgets/controls",
            "_model_module_version": "1.5.0",
            "_model_name": "HBoxModel",
            "_view_count": null,
            "_view_module": "@jupyter-widgets/controls",
            "_view_module_version": "1.5.0",
            "_view_name": "HBoxView",
            "box_style": "",
            "children": [
              "IPY_MODEL_1abb72f8903f448fbce5b2ab804d77d1",
              "IPY_MODEL_e53acbecd6744d1383dd77b61cab8fb4",
              "IPY_MODEL_69a52c344d4d46068150c0bc5c749163"
            ],
            "layout": "IPY_MODEL_20affd7d336c499aa04e4a4ba1402b46"
          }
        },
        "94224ab4585e4ef7b179d23c7de84588": {
          "model_module": "@jupyter-widgets/controls",
          "model_module_version": "1.5.0",
          "model_name": "DescriptionStyleModel",
          "state": {
            "_model_module": "@jupyter-widgets/controls",
            "_model_module_version": "1.5.0",
            "_model_name": "DescriptionStyleModel",
            "_view_count": null,
            "_view_module": "@jupyter-widgets/base",
            "_view_module_version": "1.2.0",
            "_view_name": "StyleView",
            "description_width": ""
          }
        },
        "943d80ee1dea42e68949fa2e499b3de0": {
          "model_module": "@jupyter-widgets/controls",
          "model_module_version": "1.5.0",
          "model_name": "ProgressStyleModel",
          "state": {
            "_model_module": "@jupyter-widgets/controls",
            "_model_module_version": "1.5.0",
            "_model_name": "ProgressStyleModel",
            "_view_count": null,
            "_view_module": "@jupyter-widgets/base",
            "_view_module_version": "1.2.0",
            "_view_name": "StyleView",
            "bar_color": null,
            "description_width": ""
          }
        },
        "a22d692d214e4eaf9aaf260ad42a6f90": {
          "model_module": "@jupyter-widgets/controls",
          "model_module_version": "1.5.0",
          "model_name": "HBoxModel",
          "state": {
            "_dom_classes": [],
            "_model_module": "@jupyter-widgets/controls",
            "_model_module_version": "1.5.0",
            "_model_name": "HBoxModel",
            "_view_count": null,
            "_view_module": "@jupyter-widgets/controls",
            "_view_module_version": "1.5.0",
            "_view_name": "HBoxView",
            "box_style": "",
            "children": [
              "IPY_MODEL_7d81a14ec58f4d85b52158f3951fe182",
              "IPY_MODEL_87a93f4495894323bc3ae10d92fac067",
              "IPY_MODEL_51104b6163114ea0bf8b6fa773c427ba"
            ],
            "layout": "IPY_MODEL_7c24dc745e6c40aba6df82054b7a87ac"
          }
        },
        "a576b3c86f2d47f89442ba45642a4559": {
          "model_module": "@jupyter-widgets/controls",
          "model_module_version": "1.5.0",
          "model_name": "DescriptionStyleModel",
          "state": {
            "_model_module": "@jupyter-widgets/controls",
            "_model_module_version": "1.5.0",
            "_model_name": "DescriptionStyleModel",
            "_view_count": null,
            "_view_module": "@jupyter-widgets/base",
            "_view_module_version": "1.2.0",
            "_view_name": "StyleView",
            "description_width": ""
          }
        },
        "aa1722c2b3b148ce85a70e821447c19a": {
          "model_module": "@jupyter-widgets/controls",
          "model_module_version": "1.5.0",
          "model_name": "HBoxModel",
          "state": {
            "_dom_classes": [],
            "_model_module": "@jupyter-widgets/controls",
            "_model_module_version": "1.5.0",
            "_model_name": "HBoxModel",
            "_view_count": null,
            "_view_module": "@jupyter-widgets/controls",
            "_view_module_version": "1.5.0",
            "_view_name": "HBoxView",
            "box_style": "",
            "children": [
              "IPY_MODEL_8737287942e347adabcbc04233bbce47",
              "IPY_MODEL_ea646960d1d44bc8a1a8fad8ca5b88a0",
              "IPY_MODEL_d97f505a11bb485790966a7beac5c011"
            ],
            "layout": "IPY_MODEL_f604592b1f9248ba9de46e233a9a308b"
          }
        },
        "b5ba35fd3fa448d69352c514365d8814": {
          "model_module": "@jupyter-widgets/base",
          "model_module_version": "1.2.0",
          "model_name": "LayoutModel",
          "state": {
            "_model_module": "@jupyter-widgets/base",
            "_model_module_version": "1.2.0",
            "_model_name": "LayoutModel",
            "_view_count": null,
            "_view_module": "@jupyter-widgets/base",
            "_view_module_version": "1.2.0",
            "_view_name": "LayoutView",
            "align_content": null,
            "align_items": null,
            "align_self": null,
            "border": null,
            "bottom": null,
            "display": null,
            "flex": null,
            "flex_flow": null,
            "grid_area": null,
            "grid_auto_columns": null,
            "grid_auto_flow": null,
            "grid_auto_rows": null,
            "grid_column": null,
            "grid_gap": null,
            "grid_row": null,
            "grid_template_areas": null,
            "grid_template_columns": null,
            "grid_template_rows": null,
            "height": null,
            "justify_content": null,
            "justify_items": null,
            "left": null,
            "margin": null,
            "max_height": null,
            "max_width": null,
            "min_height": null,
            "min_width": null,
            "object_fit": null,
            "object_position": null,
            "order": null,
            "overflow": null,
            "overflow_x": null,
            "overflow_y": null,
            "padding": null,
            "right": null,
            "top": null,
            "visibility": null,
            "width": null
          }
        },
        "b898b567369a48ac9de38a2c9a37c2ad": {
          "model_module": "@jupyter-widgets/base",
          "model_module_version": "1.2.0",
          "model_name": "LayoutModel",
          "state": {
            "_model_module": "@jupyter-widgets/base",
            "_model_module_version": "1.2.0",
            "_model_name": "LayoutModel",
            "_view_count": null,
            "_view_module": "@jupyter-widgets/base",
            "_view_module_version": "1.2.0",
            "_view_name": "LayoutView",
            "align_content": null,
            "align_items": null,
            "align_self": null,
            "border": null,
            "bottom": null,
            "display": null,
            "flex": null,
            "flex_flow": null,
            "grid_area": null,
            "grid_auto_columns": null,
            "grid_auto_flow": null,
            "grid_auto_rows": null,
            "grid_column": null,
            "grid_gap": null,
            "grid_row": null,
            "grid_template_areas": null,
            "grid_template_columns": null,
            "grid_template_rows": null,
            "height": null,
            "justify_content": null,
            "justify_items": null,
            "left": null,
            "margin": null,
            "max_height": null,
            "max_width": null,
            "min_height": null,
            "min_width": null,
            "object_fit": null,
            "object_position": null,
            "order": null,
            "overflow": null,
            "overflow_x": null,
            "overflow_y": null,
            "padding": null,
            "right": null,
            "top": null,
            "visibility": null,
            "width": null
          }
        },
        "c066c1e1e60c4e0c9c7938ca2bbac9f6": {
          "model_module": "@jupyter-widgets/base",
          "model_module_version": "1.2.0",
          "model_name": "LayoutModel",
          "state": {
            "_model_module": "@jupyter-widgets/base",
            "_model_module_version": "1.2.0",
            "_model_name": "LayoutModel",
            "_view_count": null,
            "_view_module": "@jupyter-widgets/base",
            "_view_module_version": "1.2.0",
            "_view_name": "LayoutView",
            "align_content": null,
            "align_items": null,
            "align_self": null,
            "border": null,
            "bottom": null,
            "display": null,
            "flex": null,
            "flex_flow": null,
            "grid_area": null,
            "grid_auto_columns": null,
            "grid_auto_flow": null,
            "grid_auto_rows": null,
            "grid_column": null,
            "grid_gap": null,
            "grid_row": null,
            "grid_template_areas": null,
            "grid_template_columns": null,
            "grid_template_rows": null,
            "height": null,
            "justify_content": null,
            "justify_items": null,
            "left": null,
            "margin": null,
            "max_height": null,
            "max_width": null,
            "min_height": null,
            "min_width": null,
            "object_fit": null,
            "object_position": null,
            "order": null,
            "overflow": null,
            "overflow_x": null,
            "overflow_y": null,
            "padding": null,
            "right": null,
            "top": null,
            "visibility": null,
            "width": null
          }
        },
        "c0792a43771c47cf904c2c339dfe8c67": {
          "model_module": "@jupyter-widgets/base",
          "model_module_version": "1.2.0",
          "model_name": "LayoutModel",
          "state": {
            "_model_module": "@jupyter-widgets/base",
            "_model_module_version": "1.2.0",
            "_model_name": "LayoutModel",
            "_view_count": null,
            "_view_module": "@jupyter-widgets/base",
            "_view_module_version": "1.2.0",
            "_view_name": "LayoutView",
            "align_content": null,
            "align_items": null,
            "align_self": null,
            "border": null,
            "bottom": null,
            "display": null,
            "flex": null,
            "flex_flow": null,
            "grid_area": null,
            "grid_auto_columns": null,
            "grid_auto_flow": null,
            "grid_auto_rows": null,
            "grid_column": null,
            "grid_gap": null,
            "grid_row": null,
            "grid_template_areas": null,
            "grid_template_columns": null,
            "grid_template_rows": null,
            "height": null,
            "justify_content": null,
            "justify_items": null,
            "left": null,
            "margin": null,
            "max_height": null,
            "max_width": null,
            "min_height": null,
            "min_width": null,
            "object_fit": null,
            "object_position": null,
            "order": null,
            "overflow": null,
            "overflow_x": null,
            "overflow_y": null,
            "padding": null,
            "right": null,
            "top": null,
            "visibility": null,
            "width": null
          }
        },
        "c0e75aee7daa4ee49399d9a34544ee9f": {
          "model_module": "@jupyter-widgets/controls",
          "model_module_version": "1.5.0",
          "model_name": "DescriptionStyleModel",
          "state": {
            "_model_module": "@jupyter-widgets/controls",
            "_model_module_version": "1.5.0",
            "_model_name": "DescriptionStyleModel",
            "_view_count": null,
            "_view_module": "@jupyter-widgets/base",
            "_view_module_version": "1.2.0",
            "_view_name": "StyleView",
            "description_width": ""
          }
        },
        "d1c2473990d74357986a746d52cbd5e7": {
          "model_module": "@jupyter-widgets/base",
          "model_module_version": "1.2.0",
          "model_name": "LayoutModel",
          "state": {
            "_model_module": "@jupyter-widgets/base",
            "_model_module_version": "1.2.0",
            "_model_name": "LayoutModel",
            "_view_count": null,
            "_view_module": "@jupyter-widgets/base",
            "_view_module_version": "1.2.0",
            "_view_name": "LayoutView",
            "align_content": null,
            "align_items": null,
            "align_self": null,
            "border": null,
            "bottom": null,
            "display": null,
            "flex": null,
            "flex_flow": null,
            "grid_area": null,
            "grid_auto_columns": null,
            "grid_auto_flow": null,
            "grid_auto_rows": null,
            "grid_column": null,
            "grid_gap": null,
            "grid_row": null,
            "grid_template_areas": null,
            "grid_template_columns": null,
            "grid_template_rows": null,
            "height": null,
            "justify_content": null,
            "justify_items": null,
            "left": null,
            "margin": null,
            "max_height": null,
            "max_width": null,
            "min_height": null,
            "min_width": null,
            "object_fit": null,
            "object_position": null,
            "order": null,
            "overflow": null,
            "overflow_x": null,
            "overflow_y": null,
            "padding": null,
            "right": null,
            "top": null,
            "visibility": null,
            "width": null
          }
        },
        "d34e28d41efe4ef98bdf016eed8e4648": {
          "model_module": "@jupyter-widgets/controls",
          "model_module_version": "1.5.0",
          "model_name": "DescriptionStyleModel",
          "state": {
            "_model_module": "@jupyter-widgets/controls",
            "_model_module_version": "1.5.0",
            "_model_name": "DescriptionStyleModel",
            "_view_count": null,
            "_view_module": "@jupyter-widgets/base",
            "_view_module_version": "1.2.0",
            "_view_name": "StyleView",
            "description_width": ""
          }
        },
        "d8bc9679551d4f8aafe262757528f411": {
          "model_module": "@jupyter-widgets/controls",
          "model_module_version": "1.5.0",
          "model_name": "DescriptionStyleModel",
          "state": {
            "_model_module": "@jupyter-widgets/controls",
            "_model_module_version": "1.5.0",
            "_model_name": "DescriptionStyleModel",
            "_view_count": null,
            "_view_module": "@jupyter-widgets/base",
            "_view_module_version": "1.2.0",
            "_view_name": "StyleView",
            "description_width": ""
          }
        },
        "d94b35921da2428a92c4d21d696f438e": {
          "model_module": "@jupyter-widgets/base",
          "model_module_version": "1.2.0",
          "model_name": "LayoutModel",
          "state": {
            "_model_module": "@jupyter-widgets/base",
            "_model_module_version": "1.2.0",
            "_model_name": "LayoutModel",
            "_view_count": null,
            "_view_module": "@jupyter-widgets/base",
            "_view_module_version": "1.2.0",
            "_view_name": "LayoutView",
            "align_content": null,
            "align_items": null,
            "align_self": null,
            "border": null,
            "bottom": null,
            "display": null,
            "flex": null,
            "flex_flow": null,
            "grid_area": null,
            "grid_auto_columns": null,
            "grid_auto_flow": null,
            "grid_auto_rows": null,
            "grid_column": null,
            "grid_gap": null,
            "grid_row": null,
            "grid_template_areas": null,
            "grid_template_columns": null,
            "grid_template_rows": null,
            "height": null,
            "justify_content": null,
            "justify_items": null,
            "left": null,
            "margin": null,
            "max_height": null,
            "max_width": null,
            "min_height": null,
            "min_width": null,
            "object_fit": null,
            "object_position": null,
            "order": null,
            "overflow": null,
            "overflow_x": null,
            "overflow_y": null,
            "padding": null,
            "right": null,
            "top": null,
            "visibility": null,
            "width": null
          }
        },
        "d97f505a11bb485790966a7beac5c011": {
          "model_module": "@jupyter-widgets/controls",
          "model_module_version": "1.5.0",
          "model_name": "HTMLModel",
          "state": {
            "_dom_classes": [],
            "_model_module": "@jupyter-widgets/controls",
            "_model_module_version": "1.5.0",
            "_model_name": "HTMLModel",
            "_view_count": null,
            "_view_module": "@jupyter-widgets/controls",
            "_view_module_version": "1.5.0",
            "_view_name": "HTMLView",
            "description": "",
            "description_tooltip": null,
            "layout": "IPY_MODEL_89960ca1a89847a9b8ebccd0eee7afd2",
            "placeholder": "​",
            "style": "IPY_MODEL_65cf73a4871140be957e298878515e0d",
            "value": " 112/112 [00:00&lt;00:00, 3.02kB/s]"
          }
        },
        "e1313fd5efa8415dbd5e1967cbc6d3c6": {
          "model_module": "@jupyter-widgets/controls",
          "model_module_version": "1.5.0",
          "model_name": "HTMLModel",
          "state": {
            "_dom_classes": [],
            "_model_module": "@jupyter-widgets/controls",
            "_model_module_version": "1.5.0",
            "_model_name": "HTMLModel",
            "_view_count": null,
            "_view_module": "@jupyter-widgets/controls",
            "_view_module_version": "1.5.0",
            "_view_name": "HTMLView",
            "description": "",
            "description_tooltip": null,
            "layout": "IPY_MODEL_171c10bf4773446cb653293fc254e055",
            "placeholder": "​",
            "style": "IPY_MODEL_2a4b449f6a6642438e89904ca5cf700b",
            "value": " 24976/0 [01:03&lt;00:00, 408.63 examples/s]"
          }
        },
        "e3d78c544200471ba9d8141b83063d1a": {
          "model_module": "@jupyter-widgets/controls",
          "model_module_version": "1.5.0",
          "model_name": "DescriptionStyleModel",
          "state": {
            "_model_module": "@jupyter-widgets/controls",
            "_model_module_version": "1.5.0",
            "_model_name": "DescriptionStyleModel",
            "_view_count": null,
            "_view_module": "@jupyter-widgets/base",
            "_view_module_version": "1.2.0",
            "_view_name": "StyleView",
            "description_width": ""
          }
        },
        "e53acbecd6744d1383dd77b61cab8fb4": {
          "model_module": "@jupyter-widgets/controls",
          "model_module_version": "1.5.0",
          "model_name": "FloatProgressModel",
          "state": {
            "_dom_classes": [],
            "_model_module": "@jupyter-widgets/controls",
            "_model_module_version": "1.5.0",
            "_model_name": "FloatProgressModel",
            "_view_count": null,
            "_view_module": "@jupyter-widgets/controls",
            "_view_module_version": "1.5.0",
            "_view_name": "ProgressView",
            "bar_style": "success",
            "description": "",
            "description_tooltip": null,
            "layout": "IPY_MODEL_1e736e9c449b4f9486cb726c8b3eaf87",
            "max": 48,
            "min": 0,
            "orientation": "horizontal",
            "style": "IPY_MODEL_e8b2999c69994ea6bd34355777bd8dc5",
            "value": 48
          }
        },
        "e729f98c31084a129557a116f68d7adc": {
          "model_module": "@jupyter-widgets/controls",
          "model_module_version": "1.5.0",
          "model_name": "HTMLModel",
          "state": {
            "_dom_classes": [],
            "_model_module": "@jupyter-widgets/controls",
            "_model_module_version": "1.5.0",
            "_model_name": "HTMLModel",
            "_view_count": null,
            "_view_module": "@jupyter-widgets/controls",
            "_view_module_version": "1.5.0",
            "_view_name": "HTMLView",
            "description": "",
            "description_tooltip": null,
            "layout": "IPY_MODEL_3141b9a87dea48bd863830434d0407d5",
            "placeholder": "​",
            "style": "IPY_MODEL_d34e28d41efe4ef98bdf016eed8e4648",
            "value": "Downloading vocab.txt: 100%"
          }
        },
        "e8b2999c69994ea6bd34355777bd8dc5": {
          "model_module": "@jupyter-widgets/controls",
          "model_module_version": "1.5.0",
          "model_name": "ProgressStyleModel",
          "state": {
            "_model_module": "@jupyter-widgets/controls",
            "_model_module_version": "1.5.0",
            "_model_name": "ProgressStyleModel",
            "_view_count": null,
            "_view_module": "@jupyter-widgets/base",
            "_view_module_version": "1.2.0",
            "_view_name": "StyleView",
            "bar_color": null,
            "description_width": ""
          }
        },
        "ea646960d1d44bc8a1a8fad8ca5b88a0": {
          "model_module": "@jupyter-widgets/controls",
          "model_module_version": "1.5.0",
          "model_name": "FloatProgressModel",
          "state": {
            "_dom_classes": [],
            "_model_module": "@jupyter-widgets/controls",
            "_model_module_version": "1.5.0",
            "_model_name": "FloatProgressModel",
            "_view_count": null,
            "_view_module": "@jupyter-widgets/controls",
            "_view_module_version": "1.5.0",
            "_view_name": "ProgressView",
            "bar_style": "success",
            "description": "",
            "description_tooltip": null,
            "layout": "IPY_MODEL_f81e4fd5a3e94814bca2cf01c4f2393b",
            "max": 112,
            "min": 0,
            "orientation": "horizontal",
            "style": "IPY_MODEL_86623918f81c4e33a012f4f6c76cc966",
            "value": 112
          }
        },
        "f58fd490167946a1bf76d0f4dd080a40": {
          "model_module": "@jupyter-widgets/controls",
          "model_module_version": "1.5.0",
          "model_name": "HBoxModel",
          "state": {
            "_dom_classes": [],
            "_model_module": "@jupyter-widgets/controls",
            "_model_module_version": "1.5.0",
            "_model_name": "HBoxModel",
            "_view_count": null,
            "_view_module": "@jupyter-widgets/controls",
            "_view_module_version": "1.5.0",
            "_view_name": "HBoxView",
            "box_style": "",
            "children": [
              "IPY_MODEL_7f90a7ec0b62445bac8ec26af2a6384a",
              "IPY_MODEL_3c81a50d54d54ee2859ecc0e9ad9831d",
              "IPY_MODEL_e1313fd5efa8415dbd5e1967cbc6d3c6"
            ],
            "layout": "IPY_MODEL_b898b567369a48ac9de38a2c9a37c2ad"
          }
        },
        "f604592b1f9248ba9de46e233a9a308b": {
          "model_module": "@jupyter-widgets/base",
          "model_module_version": "1.2.0",
          "model_name": "LayoutModel",
          "state": {
            "_model_module": "@jupyter-widgets/base",
            "_model_module_version": "1.2.0",
            "_model_name": "LayoutModel",
            "_view_count": null,
            "_view_module": "@jupyter-widgets/base",
            "_view_module_version": "1.2.0",
            "_view_name": "LayoutView",
            "align_content": null,
            "align_items": null,
            "align_self": null,
            "border": null,
            "bottom": null,
            "display": null,
            "flex": null,
            "flex_flow": null,
            "grid_area": null,
            "grid_auto_columns": null,
            "grid_auto_flow": null,
            "grid_auto_rows": null,
            "grid_column": null,
            "grid_gap": null,
            "grid_row": null,
            "grid_template_areas": null,
            "grid_template_columns": null,
            "grid_template_rows": null,
            "height": null,
            "justify_content": null,
            "justify_items": null,
            "left": null,
            "margin": null,
            "max_height": null,
            "max_width": null,
            "min_height": null,
            "min_width": null,
            "object_fit": null,
            "object_position": null,
            "order": null,
            "overflow": null,
            "overflow_x": null,
            "overflow_y": null,
            "padding": null,
            "right": null,
            "top": null,
            "visibility": null,
            "width": null
          }
        },
        "f81e4fd5a3e94814bca2cf01c4f2393b": {
          "model_module": "@jupyter-widgets/base",
          "model_module_version": "1.2.0",
          "model_name": "LayoutModel",
          "state": {
            "_model_module": "@jupyter-widgets/base",
            "_model_module_version": "1.2.0",
            "_model_name": "LayoutModel",
            "_view_count": null,
            "_view_module": "@jupyter-widgets/base",
            "_view_module_version": "1.2.0",
            "_view_name": "LayoutView",
            "align_content": null,
            "align_items": null,
            "align_self": null,
            "border": null,
            "bottom": null,
            "display": null,
            "flex": null,
            "flex_flow": null,
            "grid_area": null,
            "grid_auto_columns": null,
            "grid_auto_flow": null,
            "grid_auto_rows": null,
            "grid_column": null,
            "grid_gap": null,
            "grid_row": null,
            "grid_template_areas": null,
            "grid_template_columns": null,
            "grid_template_rows": null,
            "height": null,
            "justify_content": null,
            "justify_items": null,
            "left": null,
            "margin": null,
            "max_height": null,
            "max_width": null,
            "min_height": null,
            "min_width": null,
            "object_fit": null,
            "object_position": null,
            "order": null,
            "overflow": null,
            "overflow_x": null,
            "overflow_y": null,
            "padding": null,
            "right": null,
            "top": null,
            "visibility": null,
            "width": null
          }
        }
      }
    }
  },
  "nbformat": 4,
  "nbformat_minor": 0
}
